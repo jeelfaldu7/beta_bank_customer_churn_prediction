{
 "cells": [
  {
   "cell_type": "markdown",
   "metadata": {},
   "source": [
    "# Beta Bank Customers"
   ]
  },
  {
   "cell_type": "markdown",
   "metadata": {},
   "source": [
    "## Introduction"
   ]
  },
  {
   "cell_type": "markdown",
   "metadata": {},
   "source": [
    "Beta Bank bankers found out that the customers are leaving slowly by slowly every month. But, they realized that its cheaper to save the existing customers rather than to attract new ones. We need to predict whether a customer will leave the bank soon. So, in this project, using the data on clients' past behavior and termination of contracts, we will build a model with the maximum possible F1 score of at least 0.59. Lastly, check the F1 for the test set, and measure the AUC-ROC metric and compare it with the F1."
   ]
  },
  {
   "cell_type": "markdown",
   "metadata": {},
   "source": [
    "## Data Overview"
   ]
  },
  {
   "cell_type": "code",
   "execution_count": null,
   "metadata": {},
   "outputs": [],
   "source": [
    "# Import necessary libraries\n",
    "import pandas as pd\n",
    "from matplotlib import pyplot as plt\n",
    "import seaborn as sns\n",
    "import numpy as np\n",
    "from scipy import stats as st\n",
    "\n",
    "from sklearn.linear_model import LogisticRegression\n",
    "from sklearn.tree import DecisionTreeClassifier\n",
    "from sklearn.ensemble import RandomForestClassifier\n",
    "from sklearn.model_selection import train_test_split\n",
    "from sklearn.metrics import mean_absolute_error\n",
    "from sklearn.preprocessing import OrdinalEncoder\n",
    "from sklearn.preprocessing import StandardScaler\n",
    "from sklearn.metrics import accuracy_score\n",
    "from sklearn.metrics import confusion_matrix\n",
    "from sklearn.metrics import recall_score\n",
    "from sklearn.metrics import precision_score\n",
    "from sklearn.metrics import f1_score\n",
    "from sklearn.utils import resample\n",
    "from sklearn.utils import shuffle\n",
    "from sklearn.metrics import roc_auc_score"
   ]
  },
  {
   "cell_type": "code",
   "execution_count": null,
   "metadata": {},
   "outputs": [
    {
     "data": {
      "text/html": [
       "<div>\n",
       "<style scoped>\n",
       "    .dataframe tbody tr th:only-of-type {\n",
       "        vertical-align: middle;\n",
       "    }\n",
       "\n",
       "    .dataframe tbody tr th {\n",
       "        vertical-align: top;\n",
       "    }\n",
       "\n",
       "    .dataframe thead th {\n",
       "        text-align: right;\n",
       "    }\n",
       "</style>\n",
       "<table border=\"1\" class=\"dataframe\">\n",
       "  <thead>\n",
       "    <tr style=\"text-align: right;\">\n",
       "      <th></th>\n",
       "      <th>RowNumber</th>\n",
       "      <th>CustomerId</th>\n",
       "      <th>Surname</th>\n",
       "      <th>CreditScore</th>\n",
       "      <th>Geography</th>\n",
       "      <th>Gender</th>\n",
       "      <th>Age</th>\n",
       "      <th>Tenure</th>\n",
       "      <th>Balance</th>\n",
       "      <th>NumOfProducts</th>\n",
       "      <th>HasCrCard</th>\n",
       "      <th>IsActiveMember</th>\n",
       "      <th>EstimatedSalary</th>\n",
       "      <th>Exited</th>\n",
       "    </tr>\n",
       "  </thead>\n",
       "  <tbody>\n",
       "    <tr>\n",
       "      <th>0</th>\n",
       "      <td>1</td>\n",
       "      <td>15634602</td>\n",
       "      <td>Hargrave</td>\n",
       "      <td>619</td>\n",
       "      <td>France</td>\n",
       "      <td>Female</td>\n",
       "      <td>42</td>\n",
       "      <td>2.0</td>\n",
       "      <td>0.00</td>\n",
       "      <td>1</td>\n",
       "      <td>1</td>\n",
       "      <td>1</td>\n",
       "      <td>101348.88</td>\n",
       "      <td>1</td>\n",
       "    </tr>\n",
       "    <tr>\n",
       "      <th>1</th>\n",
       "      <td>2</td>\n",
       "      <td>15647311</td>\n",
       "      <td>Hill</td>\n",
       "      <td>608</td>\n",
       "      <td>Spain</td>\n",
       "      <td>Female</td>\n",
       "      <td>41</td>\n",
       "      <td>1.0</td>\n",
       "      <td>83807.86</td>\n",
       "      <td>1</td>\n",
       "      <td>0</td>\n",
       "      <td>1</td>\n",
       "      <td>112542.58</td>\n",
       "      <td>0</td>\n",
       "    </tr>\n",
       "    <tr>\n",
       "      <th>2</th>\n",
       "      <td>3</td>\n",
       "      <td>15619304</td>\n",
       "      <td>Onio</td>\n",
       "      <td>502</td>\n",
       "      <td>France</td>\n",
       "      <td>Female</td>\n",
       "      <td>42</td>\n",
       "      <td>8.0</td>\n",
       "      <td>159660.80</td>\n",
       "      <td>3</td>\n",
       "      <td>1</td>\n",
       "      <td>0</td>\n",
       "      <td>113931.57</td>\n",
       "      <td>1</td>\n",
       "    </tr>\n",
       "    <tr>\n",
       "      <th>3</th>\n",
       "      <td>4</td>\n",
       "      <td>15701354</td>\n",
       "      <td>Boni</td>\n",
       "      <td>699</td>\n",
       "      <td>France</td>\n",
       "      <td>Female</td>\n",
       "      <td>39</td>\n",
       "      <td>1.0</td>\n",
       "      <td>0.00</td>\n",
       "      <td>2</td>\n",
       "      <td>0</td>\n",
       "      <td>0</td>\n",
       "      <td>93826.63</td>\n",
       "      <td>0</td>\n",
       "    </tr>\n",
       "    <tr>\n",
       "      <th>4</th>\n",
       "      <td>5</td>\n",
       "      <td>15737888</td>\n",
       "      <td>Mitchell</td>\n",
       "      <td>850</td>\n",
       "      <td>Spain</td>\n",
       "      <td>Female</td>\n",
       "      <td>43</td>\n",
       "      <td>2.0</td>\n",
       "      <td>125510.82</td>\n",
       "      <td>1</td>\n",
       "      <td>1</td>\n",
       "      <td>1</td>\n",
       "      <td>79084.10</td>\n",
       "      <td>0</td>\n",
       "    </tr>\n",
       "  </tbody>\n",
       "</table>\n",
       "</div>"
      ],
      "text/plain": [
       "   RowNumber  CustomerId   Surname  CreditScore Geography  Gender  Age  \\\n",
       "0          1    15634602  Hargrave          619    France  Female   42   \n",
       "1          2    15647311      Hill          608     Spain  Female   41   \n",
       "2          3    15619304      Onio          502    France  Female   42   \n",
       "3          4    15701354      Boni          699    France  Female   39   \n",
       "4          5    15737888  Mitchell          850     Spain  Female   43   \n",
       "\n",
       "   Tenure    Balance  NumOfProducts  HasCrCard  IsActiveMember  \\\n",
       "0     2.0       0.00              1          1               1   \n",
       "1     1.0   83807.86              1          0               1   \n",
       "2     8.0  159660.80              3          1               0   \n",
       "3     1.0       0.00              2          0               0   \n",
       "4     2.0  125510.82              1          1               1   \n",
       "\n",
       "   EstimatedSalary  Exited  \n",
       "0        101348.88       1  \n",
       "1        112542.58       0  \n",
       "2        113931.57       1  \n",
       "3         93826.63       0  \n",
       "4         79084.10       0  "
      ]
     },
     "metadata": {},
     "output_type": "display_data"
    }
   ],
   "source": [
    "# Load the datasets\n",
    "churn = pd.read_csv('churn.csv')\n",
    "\n",
    "# Display the first few rows of the dataset\n",
    "display(churn.head())"
   ]
  },
  {
   "cell_type": "markdown",
   "metadata": {},
   "source": [
    "## Data preprocessing"
   ]
  },
  {
   "cell_type": "code",
   "execution_count": 4,
   "metadata": {},
   "outputs": [
    {
     "data": {
      "text/plain": [
       "['RowNumber',\n",
       " 'CustomerId',\n",
       " 'Surname',\n",
       " 'CreditScore',\n",
       " 'Geography',\n",
       " 'Gender',\n",
       " 'Age',\n",
       " 'Tenure',\n",
       " 'Balance',\n",
       " 'NumOfProducts',\n",
       " 'HasCrCard',\n",
       " 'IsActiveMember',\n",
       " 'EstimatedSalary',\n",
       " 'Exited']"
      ]
     },
     "metadata": {},
     "output_type": "display_data"
    }
   ],
   "source": [
    "# Dislay the column names of the dataset\n",
    "column_names = churn.columns.tolist()\n",
    "display(column_names)"
   ]
  },
  {
   "cell_type": "code",
   "execution_count": null,
   "metadata": {},
   "outputs": [],
   "source": [
    "# Renaming columns for better readability\n",
    "churn = churn.rename(\n",
    "      columns=\n",
    "    {\n",
    "        'RowNumber': 'row_number',\n",
    "        'CustomerId': 'customer_id',\n",
    "        'Surname': 'surname',\n",
    "        'CreditScore': 'credit_score',\n",
    "        'Geography': 'geography',\n",
    "        'Gender': 'gender',\n",
    "        'Age': 'age',\n",
    "        'Tenure': 'tenure',\n",
    "        'Balance': 'balance',\n",
    "        'NumOfProducts': 'num_of_products',\n",
    "        'HasCrCard': 'has_cr_card',\n",
    "        'IsActiveMember': 'is_active_member',\n",
    "        'EstimatedSalary': 'estimated_salary',\n",
    "        'Exited': 'exited'\n",
    "    })"
   ]
  },
  {
   "cell_type": "markdown",
   "metadata": {},
   "source": [
    "Using the code above, I have renamed the name of the columns in this data to the ones which does not hve capital alphabets and two words are connected by '_'."
   ]
  },
  {
   "cell_type": "code",
   "execution_count": null,
   "metadata": {},
   "outputs": [
    {
     "name": "stdout",
     "output_type": "stream",
     "text": [
      "The DataFrame has 10000 rows and 14 columns\n"
     ]
    }
   ],
   "source": [
    "# Display the shape of the dataset\n",
    "n_rows, n_cols = churn.shape\n",
    "print(f\"The DataFrame has {n_rows} rows and {n_cols} columns\")"
   ]
  },
  {
   "cell_type": "code",
   "execution_count": null,
   "metadata": {},
   "outputs": [
    {
     "name": "stdout",
     "output_type": "stream",
     "text": [
      "<class 'pandas.core.frame.DataFrame'>\n",
      "RangeIndex: 10000 entries, 0 to 9999\n",
      "Data columns (total 14 columns):\n",
      " #   Column            Non-Null Count  Dtype  \n",
      "---  ------            --------------  -----  \n",
      " 0   row_number        10000 non-null  int64  \n",
      " 1   customer_id       10000 non-null  int64  \n",
      " 2   surname           10000 non-null  object \n",
      " 3   credit_score      10000 non-null  int64  \n",
      " 4   geography         10000 non-null  object \n",
      " 5   gender            10000 non-null  object \n",
      " 6   age               10000 non-null  int64  \n",
      " 7   tenure            9091 non-null   float64\n",
      " 8   balance           10000 non-null  float64\n",
      " 9   num_of_products   10000 non-null  int64  \n",
      " 10  has_cr_card       10000 non-null  int64  \n",
      " 11  is_active_member  10000 non-null  int64  \n",
      " 12  estimated_salary  10000 non-null  float64\n",
      " 13  exited            10000 non-null  int64  \n",
      "dtypes: float64(3), int64(8), object(3)\n",
      "memory usage: 1.1+ MB\n"
     ]
    }
   ],
   "source": [
    "# Display informative summary of the datasets\n",
    "churn.info()"
   ]
  },
  {
   "cell_type": "code",
   "execution_count": 8,
   "metadata": {},
   "outputs": [
    {
     "data": {
      "text/html": [
       "<div>\n",
       "<style scoped>\n",
       "    .dataframe tbody tr th:only-of-type {\n",
       "        vertical-align: middle;\n",
       "    }\n",
       "\n",
       "    .dataframe tbody tr th {\n",
       "        vertical-align: top;\n",
       "    }\n",
       "\n",
       "    .dataframe thead th {\n",
       "        text-align: right;\n",
       "    }\n",
       "</style>\n",
       "<table border=\"1\" class=\"dataframe\">\n",
       "  <thead>\n",
       "    <tr style=\"text-align: right;\">\n",
       "      <th></th>\n",
       "      <th>row_number</th>\n",
       "      <th>customer_id</th>\n",
       "      <th>credit_score</th>\n",
       "      <th>age</th>\n",
       "      <th>tenure</th>\n",
       "      <th>balance</th>\n",
       "      <th>num_of_products</th>\n",
       "      <th>has_cr_card</th>\n",
       "      <th>is_active_member</th>\n",
       "      <th>estimated_salary</th>\n",
       "      <th>exited</th>\n",
       "    </tr>\n",
       "  </thead>\n",
       "  <tbody>\n",
       "    <tr>\n",
       "      <th>count</th>\n",
       "      <td>10000.00000</td>\n",
       "      <td>1.000000e+04</td>\n",
       "      <td>10000.000000</td>\n",
       "      <td>10000.000000</td>\n",
       "      <td>9091.000000</td>\n",
       "      <td>10000.000000</td>\n",
       "      <td>10000.000000</td>\n",
       "      <td>10000.00000</td>\n",
       "      <td>10000.000000</td>\n",
       "      <td>10000.000000</td>\n",
       "      <td>10000.000000</td>\n",
       "    </tr>\n",
       "    <tr>\n",
       "      <th>mean</th>\n",
       "      <td>5000.50000</td>\n",
       "      <td>1.569094e+07</td>\n",
       "      <td>650.528800</td>\n",
       "      <td>38.921800</td>\n",
       "      <td>4.997690</td>\n",
       "      <td>76485.889288</td>\n",
       "      <td>1.530200</td>\n",
       "      <td>0.70550</td>\n",
       "      <td>0.515100</td>\n",
       "      <td>100090.239881</td>\n",
       "      <td>0.203700</td>\n",
       "    </tr>\n",
       "    <tr>\n",
       "      <th>std</th>\n",
       "      <td>2886.89568</td>\n",
       "      <td>7.193619e+04</td>\n",
       "      <td>96.653299</td>\n",
       "      <td>10.487806</td>\n",
       "      <td>2.894723</td>\n",
       "      <td>62397.405202</td>\n",
       "      <td>0.581654</td>\n",
       "      <td>0.45584</td>\n",
       "      <td>0.499797</td>\n",
       "      <td>57510.492818</td>\n",
       "      <td>0.402769</td>\n",
       "    </tr>\n",
       "    <tr>\n",
       "      <th>min</th>\n",
       "      <td>1.00000</td>\n",
       "      <td>1.556570e+07</td>\n",
       "      <td>350.000000</td>\n",
       "      <td>18.000000</td>\n",
       "      <td>0.000000</td>\n",
       "      <td>0.000000</td>\n",
       "      <td>1.000000</td>\n",
       "      <td>0.00000</td>\n",
       "      <td>0.000000</td>\n",
       "      <td>11.580000</td>\n",
       "      <td>0.000000</td>\n",
       "    </tr>\n",
       "    <tr>\n",
       "      <th>25%</th>\n",
       "      <td>2500.75000</td>\n",
       "      <td>1.562853e+07</td>\n",
       "      <td>584.000000</td>\n",
       "      <td>32.000000</td>\n",
       "      <td>2.000000</td>\n",
       "      <td>0.000000</td>\n",
       "      <td>1.000000</td>\n",
       "      <td>0.00000</td>\n",
       "      <td>0.000000</td>\n",
       "      <td>51002.110000</td>\n",
       "      <td>0.000000</td>\n",
       "    </tr>\n",
       "    <tr>\n",
       "      <th>50%</th>\n",
       "      <td>5000.50000</td>\n",
       "      <td>1.569074e+07</td>\n",
       "      <td>652.000000</td>\n",
       "      <td>37.000000</td>\n",
       "      <td>5.000000</td>\n",
       "      <td>97198.540000</td>\n",
       "      <td>1.000000</td>\n",
       "      <td>1.00000</td>\n",
       "      <td>1.000000</td>\n",
       "      <td>100193.915000</td>\n",
       "      <td>0.000000</td>\n",
       "    </tr>\n",
       "    <tr>\n",
       "      <th>75%</th>\n",
       "      <td>7500.25000</td>\n",
       "      <td>1.575323e+07</td>\n",
       "      <td>718.000000</td>\n",
       "      <td>44.000000</td>\n",
       "      <td>7.000000</td>\n",
       "      <td>127644.240000</td>\n",
       "      <td>2.000000</td>\n",
       "      <td>1.00000</td>\n",
       "      <td>1.000000</td>\n",
       "      <td>149388.247500</td>\n",
       "      <td>0.000000</td>\n",
       "    </tr>\n",
       "    <tr>\n",
       "      <th>max</th>\n",
       "      <td>10000.00000</td>\n",
       "      <td>1.581569e+07</td>\n",
       "      <td>850.000000</td>\n",
       "      <td>92.000000</td>\n",
       "      <td>10.000000</td>\n",
       "      <td>250898.090000</td>\n",
       "      <td>4.000000</td>\n",
       "      <td>1.00000</td>\n",
       "      <td>1.000000</td>\n",
       "      <td>199992.480000</td>\n",
       "      <td>1.000000</td>\n",
       "    </tr>\n",
       "  </tbody>\n",
       "</table>\n",
       "</div>"
      ],
      "text/plain": [
       "        row_number   customer_id  credit_score           age       tenure  \\\n",
       "count  10000.00000  1.000000e+04  10000.000000  10000.000000  9091.000000   \n",
       "mean    5000.50000  1.569094e+07    650.528800     38.921800     4.997690   \n",
       "std     2886.89568  7.193619e+04     96.653299     10.487806     2.894723   \n",
       "min        1.00000  1.556570e+07    350.000000     18.000000     0.000000   \n",
       "25%     2500.75000  1.562853e+07    584.000000     32.000000     2.000000   \n",
       "50%     5000.50000  1.569074e+07    652.000000     37.000000     5.000000   \n",
       "75%     7500.25000  1.575323e+07    718.000000     44.000000     7.000000   \n",
       "max    10000.00000  1.581569e+07    850.000000     92.000000    10.000000   \n",
       "\n",
       "             balance  num_of_products  has_cr_card  is_active_member  \\\n",
       "count   10000.000000     10000.000000  10000.00000      10000.000000   \n",
       "mean    76485.889288         1.530200      0.70550          0.515100   \n",
       "std     62397.405202         0.581654      0.45584          0.499797   \n",
       "min         0.000000         1.000000      0.00000          0.000000   \n",
       "25%         0.000000         1.000000      0.00000          0.000000   \n",
       "50%     97198.540000         1.000000      1.00000          1.000000   \n",
       "75%    127644.240000         2.000000      1.00000          1.000000   \n",
       "max    250898.090000         4.000000      1.00000          1.000000   \n",
       "\n",
       "       estimated_salary        exited  \n",
       "count      10000.000000  10000.000000  \n",
       "mean      100090.239881      0.203700  \n",
       "std        57510.492818      0.402769  \n",
       "min           11.580000      0.000000  \n",
       "25%        51002.110000      0.000000  \n",
       "50%       100193.915000      0.000000  \n",
       "75%       149388.247500      0.000000  \n",
       "max       199992.480000      1.000000  "
      ]
     },
     "execution_count": 8,
     "metadata": {},
     "output_type": "execute_result"
    }
   ],
   "source": [
    "# Display descriptive statistics of the datasets\n",
    "churn.describe()"
   ]
  },
  {
   "cell_type": "markdown",
   "metadata": {},
   "source": [
    "### Duplicates"
   ]
  },
  {
   "cell_type": "code",
   "execution_count": 9,
   "metadata": {},
   "outputs": [
    {
     "data": {
      "text/plain": [
       "'Number of duplicated data: 0'"
      ]
     },
     "metadata": {},
     "output_type": "display_data"
    }
   ],
   "source": [
    "# Check for duplicates in the dataset\n",
    "duplicated_churn = churn[churn.duplicated()]\n",
    "display(f\"Number of duplicated data: {duplicated_churn.shape[0]}\")"
   ]
  },
  {
   "cell_type": "markdown",
   "metadata": {},
   "source": [
    "From this code, it is known that there are no duplicates in this data."
   ]
  },
  {
   "cell_type": "code",
   "execution_count": 10,
   "metadata": {},
   "outputs": [
    {
     "data": {
      "text/plain": [
       "'Number of duplicated Customer ID: 0'"
      ]
     },
     "metadata": {},
     "output_type": "display_data"
    }
   ],
   "source": [
    "# Check for duplicates in specific columns of the dataset\n",
    "customer_id_duplicates = churn[churn.duplicated(subset=['customer_id'])]\n",
    "display(f\"Number of duplicated Customer ID: {customer_id_duplicates.shape[0]}\")"
   ]
  },
  {
   "cell_type": "markdown",
   "metadata": {},
   "source": [
    "No, there are no duplicates in 'customer_id' column. "
   ]
  },
  {
   "cell_type": "markdown",
   "metadata": {},
   "source": [
    "### Missing Values"
   ]
  },
  {
   "cell_type": "code",
   "execution_count": null,
   "metadata": {},
   "outputs": [
    {
     "data": {
      "text/plain": [
       "row_number            0\n",
       "customer_id           0\n",
       "surname               0\n",
       "credit_score          0\n",
       "geography             0\n",
       "gender                0\n",
       "age                   0\n",
       "tenure              909\n",
       "balance               0\n",
       "num_of_products       0\n",
       "has_cr_card           0\n",
       "is_active_member      0\n",
       "estimated_salary      0\n",
       "exited                0\n",
       "dtype: int64"
      ]
     },
     "metadata": {},
     "output_type": "display_data"
    }
   ],
   "source": [
    "# Display for missing values in the dataset\n",
    "display(churn.isna().sum())"
   ]
  },
  {
   "cell_type": "markdown",
   "metadata": {},
   "source": [
    "It is known that column 'tenue' have 900 missing data values."
   ]
  },
  {
   "cell_type": "code",
   "execution_count": null,
   "metadata": {},
   "outputs": [
    {
     "data": {
      "text/plain": [
       "row_number          0.0000\n",
       "customer_id         0.0000\n",
       "surname             0.0000\n",
       "credit_score        0.0000\n",
       "geography           0.0000\n",
       "gender              0.0000\n",
       "age                 0.0000\n",
       "tenure              0.0909\n",
       "balance             0.0000\n",
       "num_of_products     0.0000\n",
       "has_cr_card         0.0000\n",
       "is_active_member    0.0000\n",
       "estimated_salary    0.0000\n",
       "exited              0.0000\n",
       "dtype: float64"
      ]
     },
     "execution_count": 12,
     "metadata": {},
     "output_type": "execute_result"
    }
   ],
   "source": [
    "# Displaying the percentage of missing values in each column\n",
    "churn.isnull().sum()/len(churn)"
   ]
  },
  {
   "cell_type": "code",
   "execution_count": null,
   "metadata": {},
   "outputs": [
    {
     "data": {
      "text/plain": [
       "tenure\n",
       "1.0    952\n",
       "2.0    950\n",
       "8.0    933\n",
       "3.0    928\n",
       "5.0    927\n",
       "Name: count, dtype: int64"
      ]
     },
     "metadata": {},
     "output_type": "display_data"
    }
   ],
   "source": [
    "# Display the number of unique values in 'tenure' column\n",
    "display(churn['tenure'].value_counts(dropna=False).head())"
   ]
  },
  {
   "cell_type": "code",
   "execution_count": 16,
   "metadata": {},
   "outputs": [
    {
     "data": {
      "text/plain": [
       "5.0"
      ]
     },
     "metadata": {},
     "output_type": "display_data"
    }
   ],
   "source": [
    "# Calculating the median to fill the missing values in 'tenure' column\n",
    "tenure_median = churn['tenure'].median()\n",
    "display(tenure_median)"
   ]
  },
  {
   "cell_type": "code",
   "execution_count": 17,
   "metadata": {},
   "outputs": [],
   "source": [
    "# Filling the missing values in 'tenure' column using the median value\n",
    "churn['tenure'] = churn['tenure'].fillna(tenure_median)"
   ]
  },
  {
   "cell_type": "code",
   "execution_count": 18,
   "metadata": {},
   "outputs": [
    {
     "name": "stdout",
     "output_type": "stream",
     "text": [
      "row_number          0\n",
      "customer_id         0\n",
      "surname             0\n",
      "credit_score        0\n",
      "geography           0\n",
      "gender              0\n",
      "age                 0\n",
      "tenure              0\n",
      "balance             0\n",
      "num_of_products     0\n",
      "has_cr_card         0\n",
      "is_active_member    0\n",
      "estimated_salary    0\n",
      "exited              0\n",
      "dtype: int64\n"
     ]
    }
   ],
   "source": [
    "# Checking if there are any missing values\n",
    "print(churn.isna().sum())"
   ]
  },
  {
   "cell_type": "markdown",
   "metadata": {},
   "source": [
    "As you mentioned that 900 missing values out of 10000 rows is almost 10% of the total data, its a lot. So I found the median value for the 'tenure' column and used 'fillna' function to fill in the gaps with the median value. "
   ]
  },
  {
   "cell_type": "markdown",
   "metadata": {},
   "source": [
    "## Data Analysis"
   ]
  },
  {
   "cell_type": "code",
   "execution_count": 19,
   "metadata": {},
   "outputs": [
    {
     "data": {
      "text/html": [
       "<div>\n",
       "<style scoped>\n",
       "    .dataframe tbody tr th:only-of-type {\n",
       "        vertical-align: middle;\n",
       "    }\n",
       "\n",
       "    .dataframe tbody tr th {\n",
       "        vertical-align: top;\n",
       "    }\n",
       "\n",
       "    .dataframe thead th {\n",
       "        text-align: right;\n",
       "    }\n",
       "</style>\n",
       "<table border=\"1\" class=\"dataframe\">\n",
       "  <thead>\n",
       "    <tr style=\"text-align: right;\">\n",
       "      <th></th>\n",
       "      <th>row_number</th>\n",
       "      <th>customer_id</th>\n",
       "      <th>surname</th>\n",
       "      <th>credit_score</th>\n",
       "      <th>geography</th>\n",
       "      <th>gender</th>\n",
       "      <th>age</th>\n",
       "      <th>tenure</th>\n",
       "      <th>balance</th>\n",
       "      <th>num_of_products</th>\n",
       "      <th>has_cr_card</th>\n",
       "      <th>is_active_member</th>\n",
       "      <th>estimated_salary</th>\n",
       "      <th>exited</th>\n",
       "    </tr>\n",
       "  </thead>\n",
       "  <tbody>\n",
       "    <tr>\n",
       "      <th>13</th>\n",
       "      <td>14</td>\n",
       "      <td>15691483</td>\n",
       "      <td>Chin</td>\n",
       "      <td>549</td>\n",
       "      <td>France</td>\n",
       "      <td>Female</td>\n",
       "      <td>25</td>\n",
       "      <td>5.0</td>\n",
       "      <td>0.00</td>\n",
       "      <td>2</td>\n",
       "      <td>0</td>\n",
       "      <td>0</td>\n",
       "      <td>190857.79</td>\n",
       "      <td>0</td>\n",
       "    </tr>\n",
       "    <tr>\n",
       "      <th>25</th>\n",
       "      <td>26</td>\n",
       "      <td>15738191</td>\n",
       "      <td>Maclean</td>\n",
       "      <td>577</td>\n",
       "      <td>France</td>\n",
       "      <td>Male</td>\n",
       "      <td>25</td>\n",
       "      <td>3.0</td>\n",
       "      <td>0.00</td>\n",
       "      <td>2</td>\n",
       "      <td>0</td>\n",
       "      <td>1</td>\n",
       "      <td>124508.29</td>\n",
       "      <td>0</td>\n",
       "    </tr>\n",
       "    <tr>\n",
       "      <th>34</th>\n",
       "      <td>35</td>\n",
       "      <td>15732963</td>\n",
       "      <td>Clements</td>\n",
       "      <td>722</td>\n",
       "      <td>Spain</td>\n",
       "      <td>Female</td>\n",
       "      <td>29</td>\n",
       "      <td>9.0</td>\n",
       "      <td>0.00</td>\n",
       "      <td>2</td>\n",
       "      <td>1</td>\n",
       "      <td>1</td>\n",
       "      <td>142033.07</td>\n",
       "      <td>0</td>\n",
       "    </tr>\n",
       "    <tr>\n",
       "      <th>46</th>\n",
       "      <td>47</td>\n",
       "      <td>15602280</td>\n",
       "      <td>Martin</td>\n",
       "      <td>829</td>\n",
       "      <td>Germany</td>\n",
       "      <td>Female</td>\n",
       "      <td>27</td>\n",
       "      <td>9.0</td>\n",
       "      <td>112045.67</td>\n",
       "      <td>1</td>\n",
       "      <td>1</td>\n",
       "      <td>1</td>\n",
       "      <td>119708.21</td>\n",
       "      <td>1</td>\n",
       "    </tr>\n",
       "    <tr>\n",
       "      <th>61</th>\n",
       "      <td>62</td>\n",
       "      <td>15773469</td>\n",
       "      <td>Clark</td>\n",
       "      <td>687</td>\n",
       "      <td>Germany</td>\n",
       "      <td>Female</td>\n",
       "      <td>27</td>\n",
       "      <td>9.0</td>\n",
       "      <td>152328.88</td>\n",
       "      <td>2</td>\n",
       "      <td>0</td>\n",
       "      <td>0</td>\n",
       "      <td>126494.82</td>\n",
       "      <td>0</td>\n",
       "    </tr>\n",
       "  </tbody>\n",
       "</table>\n",
       "</div>"
      ],
      "text/plain": [
       "    row_number  customer_id   surname  credit_score geography  gender  age  \\\n",
       "13          14     15691483      Chin           549    France  Female   25   \n",
       "25          26     15738191   Maclean           577    France    Male   25   \n",
       "34          35     15732963  Clements           722     Spain  Female   29   \n",
       "46          47     15602280    Martin           829   Germany  Female   27   \n",
       "61          62     15773469     Clark           687   Germany  Female   27   \n",
       "\n",
       "    tenure    balance  num_of_products  has_cr_card  is_active_member  \\\n",
       "13     5.0       0.00                2            0                 0   \n",
       "25     3.0       0.00                2            0                 1   \n",
       "34     9.0       0.00                2            1                 1   \n",
       "46     9.0  112045.67                1            1                 1   \n",
       "61     9.0  152328.88                2            0                 0   \n",
       "\n",
       "    estimated_salary  exited  \n",
       "13         190857.79       0  \n",
       "25         124508.29       0  \n",
       "34         142033.07       0  \n",
       "46         119708.21       1  \n",
       "61         126494.82       0  "
      ]
     },
     "metadata": {},
     "output_type": "display_data"
    }
   ],
   "source": [
    "\n",
    "filtered_data = churn[(churn['age'] >= 20) & (churn['age'] <= 30) & (churn['credit_score'] >= 500) & (churn['estimated_salary'] >= 100000)]\n",
    "display(filtered_data.head(5))"
   ]
  },
  {
   "cell_type": "code",
   "execution_count": 21,
   "metadata": {
    "scrolled": true
   },
   "outputs": [
    {
     "data": {
      "image/png": "[encoded data removed]",
      "text/plain": [
       "<Figure size 1000x600 with 1 Axes>"
      ]
     },
     "metadata": {},
     "output_type": "display_data"
    }
   ],
   "source": [
    "plt.figure(figsize=(10, 6))\n",
    "plt.hist(filtered_data['age'], \n",
    "         bins=10, \n",
    "         color='skyblue', \n",
    "         edgecolor='black', \n",
    "         alpha=0.7)\n",
    "plt.title('Age Distribution')\n",
    "plt.xlabel('Age')\n",
    "plt.ylabel('Number of Customers')\n",
    "plt.show()"
   ]
  },
  {
   "cell_type": "markdown",
   "metadata": {},
   "source": [
    "The graph above shows the distribution of the Bear Bank Customers who are 20 to 30 years old with credit score higher than 500 and salary more than 100000. It represents that among those most of the them are 29-30 years old. "
   ]
  },
  {
   "cell_type": "code",
   "execution_count": 22,
   "metadata": {},
   "outputs": [
    {
     "data": {
      "image/png": "[encoded data removed]",
      "text/plain": [
       "<Figure size 1000x600 with 1 Axes>"
      ]
     },
     "metadata": {},
     "output_type": "display_data"
    }
   ],
   "source": [
    "plt.figure(figsize=(10, 6))\n",
    "plt.hist(filtered_data['estimated_salary'], \n",
    "         bins=10, \n",
    "         color='salmon', \n",
    "         edgecolor='black', \n",
    "         alpha=0.7)\n",
    "plt.title('Salary Distribution')\n",
    "plt.xlabel('Salary')\n",
    "plt.ylabel('Number of Customers')\n",
    "plt.show()"
   ]
  },
  {
   "cell_type": "markdown",
   "metadata": {},
   "source": [
    "The graph above shows the salary distribution of the Bear Bank Customers who are 20-30 years older, have salary higher than $100000, and credit score higher than 500. This graph seems like normally distributed and looks like there are more customers who have salaries higher than 150000 rather less than that. The graphs here represents that most of the younger customers are doing well as they have a good income and thus need a good and stable for it. "
   ]
  },
  {
   "cell_type": "code",
   "execution_count": 23,
   "metadata": {},
   "outputs": [
    {
     "data": {
      "image/png": "[encoded data removed]",
      "text/plain": [
       "<Figure size 1000x600 with 1 Axes>"
      ]
     },
     "metadata": {},
     "output_type": "display_data"
    }
   ],
   "source": [
    "plt.figure(figsize=(10, 6))\n",
    "sns.histplot(data= filtered_data, \n",
    "             x='estimated_salary', \n",
    "             hue='gender', \n",
    "             bins=10)\n",
    "plt.title('Female and Male Customer Counts based on their Estimated Salary ')\n",
    "plt.xlabel('Estimated Salary')\n",
    "plt.ylabel=('Number of Customers')\n",
    "plt.show()"
   ]
  },
  {
   "cell_type": "markdown",
   "metadata": {},
   "source": [
    "The graph above shows the distribution of the salaries of 20-30 year old customers who are earning higher than $100000, and a credit score higher than 500. From this graph, it can be seen that mostly in every estimated salary range, males are earning higher than females, except some. "
   ]
  },
  {
   "cell_type": "markdown",
   "metadata": {},
   "source": [
    "## Machine Learning"
   ]
  },
  {
   "cell_type": "markdown",
   "metadata": {},
   "source": [
    "### Split the source data into a training set, a validation set, and a test set."
   ]
  },
  {
   "cell_type": "markdown",
   "metadata": {},
   "source": [
    "As it asks to split the source data into a training set, a validation set, and a test set - I split the source data into three parts: training, validation, and test. The sizes of validation set and test set are equal. and so divided the source data into 3:1:1 ratio."
   ]
  },
  {
   "cell_type": "code",
   "execution_count": 24,
   "metadata": {},
   "outputs": [
    {
     "data": {
      "text/plain": [
       "row_number            int64\n",
       "customer_id           int64\n",
       "surname              object\n",
       "credit_score          int64\n",
       "geography            object\n",
       "gender               object\n",
       "age                   int64\n",
       "tenure              float64\n",
       "balance             float64\n",
       "num_of_products       int64\n",
       "has_cr_card           int64\n",
       "is_active_member      int64\n",
       "estimated_salary    float64\n",
       "exited                int64\n",
       "dtype: object"
      ]
     },
     "execution_count": 24,
     "metadata": {},
     "output_type": "execute_result"
    }
   ],
   "source": [
    "churn.dtypes"
   ]
  },
  {
   "cell_type": "code",
   "execution_count": 25,
   "metadata": {},
   "outputs": [
    {
     "name": "stdout",
     "output_type": "stream",
     "text": [
      "(10000, 13)\n",
      "(10000,)\n"
     ]
    }
   ],
   "source": [
    "features = churn.drop(['exited'], axis=1)\n",
    "print(features.shape)\n",
    "\n",
    "target = churn['exited']\n",
    "print(target.shape)"
   ]
  },
  {
   "cell_type": "code",
   "execution_count": 26,
   "metadata": {},
   "outputs": [],
   "source": [
    "churn = churn.drop(['surname','customer_id','row_number'], axis=1)"
   ]
  },
  {
   "cell_type": "code",
   "execution_count": 27,
   "metadata": {},
   "outputs": [],
   "source": [
    "churn = pd.get_dummies(churn, columns=['geography', 'gender'], drop_first=True)"
   ]
  },
  {
   "cell_type": "markdown",
   "metadata": {},
   "source": [
    "Here I am using One-Hot Encoding for transforming categorical features into numerical features. "
   ]
  },
  {
   "cell_type": "code",
   "execution_count": 28,
   "metadata": {},
   "outputs": [],
   "source": [
    "churn_train, churn_temp = train_test_split(churn, test_size=0.40, random_state=7)"
   ]
  },
  {
   "cell_type": "code",
   "execution_count": 29,
   "metadata": {},
   "outputs": [
    {
     "data": {
      "text/plain": [
       "(6000, 12)"
      ]
     },
     "execution_count": 29,
     "metadata": {},
     "output_type": "execute_result"
    }
   ],
   "source": [
    "churn_train.shape"
   ]
  },
  {
   "cell_type": "code",
   "execution_count": 30,
   "metadata": {},
   "outputs": [
    {
     "data": {
      "text/plain": [
       "(4000, 12)"
      ]
     },
     "execution_count": 30,
     "metadata": {},
     "output_type": "execute_result"
    }
   ],
   "source": [
    "churn_temp.shape"
   ]
  },
  {
   "cell_type": "code",
   "execution_count": 31,
   "metadata": {},
   "outputs": [
    {
     "name": "stdout",
     "output_type": "stream",
     "text": [
      "(6000, 11)\n",
      "(6000,)\n"
     ]
    }
   ],
   "source": [
    "features_train = churn_train.drop(['exited'], axis=1)\n",
    "print(features_train.shape)\n",
    "\n",
    "target_train = churn_train['exited']\n",
    "print(target_train.shape)"
   ]
  },
  {
   "cell_type": "code",
   "execution_count": 33,
   "metadata": {},
   "outputs": [],
   "source": [
    "churn_valid, churn_test = train_test_split(churn_temp, test_size=0.50, random_state=7)"
   ]
  },
  {
   "cell_type": "code",
   "execution_count": 34,
   "metadata": {},
   "outputs": [
    {
     "name": "stdout",
     "output_type": "stream",
     "text": [
      "(2000,)\n",
      "(2000, 11)\n"
     ]
    }
   ],
   "source": [
    "target_valid = churn_valid['exited']\n",
    "print(target_valid.shape)\n",
    "\n",
    "features_valid = churn_valid.drop(['exited'], axis=1)\n",
    "print(features_valid.shape)"
   ]
  },
  {
   "cell_type": "code",
   "execution_count": 35,
   "metadata": {},
   "outputs": [
    {
     "name": "stdout",
     "output_type": "stream",
     "text": [
      "(2000,)\n",
      "(2000, 11)\n"
     ]
    }
   ],
   "source": [
    "target_test = churn_test['exited']\n",
    "print(target_test.shape)\n",
    "\n",
    "features_test = churn_test.drop(['exited'], axis=1)\n",
    "print(features_test.shape)"
   ]
  },
  {
   "cell_type": "code",
   "execution_count": 36,
   "metadata": {},
   "outputs": [
    {
     "name": "stdout",
     "output_type": "stream",
     "text": [
      "Accuracy of the logistic regression model on the training set: 0.7926666666666666\n",
      "Accuracy of the logistic regression model on the validation set: 0.8\n",
      "F1: 0.052132701421800945\n",
      "AUC_ROC 0.6753175327746621\n"
     ]
    }
   ],
   "source": [
    "model = LogisticRegression(random_state=57, solver='liblinear')\n",
    "model.fit(features_train, target_train)\n",
    "score_train = model.score(features_train, target_train)\n",
    "score_valid = model.score(features_valid, target_valid)\n",
    "\n",
    "predicted_valid = model.predict(features_valid)\n",
    "\n",
    "probabilities_valid = model.predict_proba(features_valid)\n",
    "probabilities_one_valid = probabilities_valid[:, 1]\n",
    "\n",
    "print(\"Accuracy of the logistic regression model on the training set:\", score_train)\n",
    "print(\"Accuracy of the logistic regression model on the validation set:\", score_valid)\n",
    "print(\"F1:\", f1_score(target_valid, predicted_valid))\n",
    "print(\"AUC_ROC\", roc_auc_score(target_valid, probabilities_one_valid))\n",
    "      \n"
   ]
  },
  {
   "cell_type": "markdown",
   "metadata": {},
   "source": [
    "Firstly, I tried using logistic regression to make a model but it looks like the model is fast but thequality is not good enough. So, secondly, I chose Random Forest for this project because it has highest accuracy among all the different classification models as it uses an ensembles of trees instead of just one. But, along with this, it is the slowest model as the more tree there are, the slower the model works."
   ]
  },
  {
   "cell_type": "code",
   "execution_count": 37,
   "metadata": {},
   "outputs": [
    {
     "name": "stdout",
     "output_type": "stream",
     "text": [
      "Accuracy of the best model on the validation set (n_estimators = 9, max_depth = 0.5617977528089888): 10\n",
      "Precision: 0.7702702702702703\n",
      "Recall: 0.43073047858942065\n",
      "F1_21: 0.5525040387722132\n",
      "ROC_AUC: 0.848090246405119\n"
     ]
    }
   ],
   "source": [
    "best_score = 0\n",
    "best_est = 0\n",
    "best_depth = 0\n",
    "best_model = None\n",
    "\n",
    "for est in range(1,21):\n",
    "    for depth in range(1,11):\n",
    "        model = RandomForestClassifier(random_state=57, n_estimators=est, max_depth=depth)\n",
    "        model.fit(features_train, target_train)\n",
    "        predicted_valid = model.predict(features_valid)\n",
    "        f1 = f1_score(target_valid, predicted_valid)\n",
    "        probabilities_valid = model.predict_proba(features_valid)\n",
    "        probabilities_one_valid = probabilities_valid[:, 1]\n",
    "        if f1 > best_score:\n",
    "            best_score = f1\n",
    "            best_est = est\n",
    "            best_depth = depth\n",
    "            best_model = model\n",
    "        \n",
    "print(\"Accuracy of the best model on the validation set (n_estimators = {}, max_depth = {}): {}\".format(best_est, best_score, best_depth))\n",
    "\n",
    "print(\"Precision:\", precision_score(target_valid, predicted_valid))\n",
    "print(\"Recall:\", recall_score(target_valid, predicted_valid))\n",
    "print('F1_21:', f1_score(target_valid, predicted_valid))\n",
    "print('ROC_AUC:', roc_auc_score(target_valid, probabilities_one_valid))"
   ]
  },
  {
   "cell_type": "markdown",
   "metadata": {},
   "source": [
    "In the above code, the model is made using the imbalanced data and the F1 is 0.5525040387722132 which is lower than the expected F1 score (0.59) and ROC_AUC score is 0.848090246405119"
   ]
  },
  {
   "cell_type": "markdown",
   "metadata": {},
   "source": [
    "#### Sanity Check"
   ]
  },
  {
   "cell_type": "code",
   "execution_count": 38,
   "metadata": {},
   "outputs": [
    {
     "name": "stdout",
     "output_type": "stream",
     "text": [
      "exited\n",
      "0    0.7963\n",
      "1    0.2037\n",
      "Name: proportion, dtype: float64\n"
     ]
    },
    {
     "data": {
      "text/plain": [
       "<Axes: xlabel='exited'>"
      ]
     },
     "execution_count": 38,
     "metadata": {},
     "output_type": "execute_result"
    },
    {
     "data": {
      "image/png": "[encoded data removed]",
      "text/plain": [
       "<Figure size 640x480 with 1 Axes>"
      ]
     },
     "metadata": {},
     "output_type": "display_data"
    }
   ],
   "source": [
    "target_counts = target.value_counts(normalize=True)\n",
    "print(target_counts)\n",
    "\n",
    "\n",
    "target_counts.plot(kind='bar')"
   ]
  },
  {
   "cell_type": "markdown",
   "metadata": {},
   "source": [
    "Doing the sanity check that is target_counts helps to understood the customers who has exited the company and who has not. It is known that the customers who exited the company is lower than the one who hasn't. This helps one to know the imbalance in the data. "
   ]
  },
  {
   "cell_type": "code",
   "execution_count": 41,
   "metadata": {},
   "outputs": [
    {
     "name": "stdout",
     "output_type": "stream",
     "text": [
      "0.7963\n",
      "0.2037\n"
     ]
    }
   ],
   "source": [
    "target_pred_constant = pd.Series(0, index=target.index)\n",
    "print(accuracy_score(target,target_pred_constant))\n",
    "\n",
    "target_pred_constant = pd.Series(1, index=target.index)\n",
    "print(accuracy_score(target,target_pred_constant))"
   ]
  },
  {
   "cell_type": "markdown",
   "metadata": {},
   "source": [
    "To improve the quality of the model for this project, there is a need to use atleast two techniques. For this, first I used hyperparameter \"'class_weight' = balanced\" and second used upsampling data. "
   ]
  },
  {
   "cell_type": "markdown",
   "metadata": {},
   "source": [
    "#### Improve the quality of the model"
   ]
  },
  {
   "cell_type": "code",
   "execution_count": 42,
   "metadata": {},
   "outputs": [],
   "source": [
    "def upsample(features, target, repeat):\n",
    "    features_zeros = features[target == 0]\n",
    "    features_ones = features[target == 1]\n",
    "    target_zeros = target[target == 0]\n",
    "    target_ones = target[target == 1]\n",
    "\n",
    "    features_upsampled = pd.concat([features_zeros] + [features_ones] * repeat)\n",
    "    target_upsampled = pd.concat([target_zeros] + [target_ones] * repeat)\n",
    "    \n",
    "\n",
    "    features_upsampled, target_upsampled = shuffle(\n",
    "        features_upsampled, target_upsampled, random_state=57\n",
    "    )\n",
    "    offset = len(target_upsampled[target_upsampled==1]) - len(target_upsampled[target_upsampled==0])\n",
    "    \n",
    "    features_upsampled = pd.concat([features_upsampled, features_zeros.head(offset)])\n",
    "    target_upsampled = pd.concat([target_upsampled, target_zeros.head(offset)])\n",
    "    \n",
    "\n",
    "    return features_upsampled, target_upsampled\n",
    "\n",
    "\n",
    "features_upsampled, target_upsampled = upsample(\n",
    "    features_train, target_train, 4\n",
    ")"
   ]
  },
  {
   "cell_type": "code",
   "execution_count": 43,
   "metadata": {},
   "outputs": [
    {
     "name": "stdout",
     "output_type": "stream",
     "text": [
      "exited\n",
      "1    4932\n",
      "0    4932\n",
      "Name: count, dtype: int64\n"
     ]
    },
    {
     "data": {
      "text/plain": [
       "<Axes: xlabel='exited'>"
      ]
     },
     "execution_count": 43,
     "metadata": {},
     "output_type": "execute_result"
    },
    {
     "data": {
      "image/png": "[encoded data removed]",
      "text/plain": [
       "<Figure size 640x480 with 1 Axes>"
      ]
     },
     "metadata": {},
     "output_type": "display_data"
    }
   ],
   "source": [
    "target_upsampled_counts = target_upsampled.value_counts()\n",
    "print(target_upsampled_counts)\n",
    "\n",
    "target_upsampled_counts.plot(kind='bar')"
   ]
  },
  {
   "cell_type": "code",
   "execution_count": 44,
   "metadata": {},
   "outputs": [
    {
     "name": "stdout",
     "output_type": "stream",
     "text": [
      "Accuracy of the best model on the validation set (n_estimators = 16, max_depth = 0.6288888888888889): 9\n",
      "Precision: 0.5608247422680412\n",
      "Recall: 0.6851385390428212\n",
      "F1_21: 0.6167800453514739\n",
      "ROC_AUC: 0.854610608886675\n"
     ]
    }
   ],
   "source": [
    "best_score = 0\n",
    "best_est = 0\n",
    "best_depth = 0\n",
    "best_model = None\n",
    "\n",
    "for est in range(1,21):\n",
    "    for depth in range(1,11):\n",
    "        model = RandomForestClassifier(random_state=57, n_estimators=est, max_depth=depth)\n",
    "        model.fit(features_upsampled, target_upsampled)\n",
    "        predicted_valid = model.predict(features_valid)\n",
    "        f1 = f1_score(target_valid, predicted_valid)\n",
    "        probabilities_valid = model.predict_proba(features_valid)\n",
    "        probabilities_one_valid = probabilities_valid[:, 1]\n",
    "        if f1 > best_score:\n",
    "            best_score = f1\n",
    "            best_est = est\n",
    "            best_depth = depth\n",
    "            best_model = model\n",
    "        \n",
    "print(\"Accuracy of the best model on the validation set (n_estimators = {}, max_depth = {}): {}\".format(best_est, best_score, best_depth))\n",
    "\n",
    "print(\"Precision:\", precision_score(target_valid, predicted_valid))\n",
    "print(\"Recall:\", recall_score(target_valid, predicted_valid))\n",
    "print('F1_21:', f1_score(target_valid, predicted_valid))\n",
    "print('ROC_AUC:', roc_auc_score(target_valid, probabilities_one_valid))"
   ]
  },
  {
   "cell_type": "markdown",
   "metadata": {},
   "source": [
    "For this model, to improve the quality upsampling data was done. After using the code to upsample the data, target_counts was done. Doing this, it can be seen that upsampling data have successfully balanced the data. Now the model was used for upsampled data and thus the F1 score is 0.616780045351474 which is also higher than expected F1 score (0.59) and ROC_AUC score is 0.854610608886675."
   ]
  },
  {
   "cell_type": "code",
   "execution_count": 45,
   "metadata": {},
   "outputs": [
    {
     "name": "stdout",
     "output_type": "stream",
     "text": [
      "Accuracy of the best model on the validation set (n_estimators = 17, max_depth = 0.624): 8\n",
      "Precision: 0.5980392156862745\n",
      "Recall: 0.6146095717884131\n",
      "F1_21: 0.6062111801242236\n",
      "ROC_AUC: 0.8492868378088314\n"
     ]
    }
   ],
   "source": [
    "best_score = 0\n",
    "best_est = 0\n",
    "best_depth = 0\n",
    "best_model = None\n",
    "\n",
    "for est in range(1,21):\n",
    "    for depth in range(1,11):\n",
    "        model = RandomForestClassifier(random_state=57, n_estimators=est, max_depth=depth, class_weight='balanced')\n",
    "        model.fit(features_train, target_train)\n",
    "        predicted_valid = model.predict(features_valid)\n",
    "        f1 = f1_score(target_valid, predicted_valid)\n",
    "        probabilities_valid = model.predict_proba(features_valid)\n",
    "        probabilities_one_valid = probabilities_valid[:, 1]\n",
    "        if f1 > best_score:\n",
    "            best_score = f1\n",
    "            best_est = est\n",
    "            best_depth = depth\n",
    "            best_model = model\n",
    "        \n",
    "print(\"Accuracy of the best model on the validation set (n_estimators = {}, max_depth = {}): {}\".format(best_est, best_score, best_depth))\n",
    "\n",
    "print(\"Precision:\", precision_score(target_valid, predicted_valid))\n",
    "print(\"Recall:\", recall_score(target_valid, predicted_valid))\n",
    "print('F1_21:', f1_score(target_valid, predicted_valid))\n",
    "print('ROC_AUC:', roc_auc_score(target_valid, probabilities_one_valid))"
   ]
  },
  {
   "cell_type": "markdown",
   "metadata": {},
   "source": [
    "After using the hyperparameter 'class_weight = balanced' to improve the quality, the F1 score improved and is 0.6222760290556901 which is higher than the expected F1 value (0.59)  while ROC_AUC score is 0.8537746448331293. "
   ]
  },
  {
   "cell_type": "code",
   "execution_count": 46,
   "metadata": {},
   "outputs": [
    {
     "name": "stdout",
     "output_type": "stream",
     "text": [
      "F1: 0.6097297297297297\n",
      "ROC_AUC: 0.8557907009998571\n"
     ]
    }
   ],
   "source": [
    "test_accuracy = best_model.score(features_test, target_test) \n",
    "\n",
    "predicted_test = best_model.predict(features_test)\n",
    "probabilities_valid =best_model.predict_proba(features_valid)\n",
    "probabilities_one_valid = probabilities_valid[:, 1]\n",
    "\n",
    "print('F1:', f1_score(target_test, predicted_test))\n",
    "print('ROC_AUC:', roc_auc_score(target_valid, probabilities_one_valid))"
   ]
  },
  {
   "cell_type": "markdown",
   "metadata": {},
   "source": [
    "Test set accuracy of the best model using upsampling data to improve the quality is 0.5990338164251209 which is close to the accuracy of the validation sets (0.6222760290556901). This shows that the model is performing well and it generalizes effectively to new data. Slight drop in accuracy from validation set to test set is normal which suggests that the model is not overfitting. While the ROC_AUC score for the best model is 0.8537746448331293 which is similar to the ROC_AUC score for the test set is 0.8544189028443205, shows that the model can effectively rank predictions for the positive and negative classes across a wide range of thresholds. "
   ]
  },
  {
   "cell_type": "markdown",
   "metadata": {},
   "source": [
    "## Overall Conclusion"
   ]
  },
  {
   "cell_type": "markdown",
   "metadata": {},
   "source": [
    "The project is to build a model the maximum possible F1 score to predict whether a customer will leave the bank soon using the data on clients’ past behavior and termination of contracts with the bank. For this to improve the quality of the model to increase the F1 score, hyperparameters tuning was does along with adding a hyperparameter 'class_weight' for one model and upsampling data for another model which resulted in increasing the F1 score. For both models to improve the quality of the model, both F1 score and AUC-ROC score are relatively close, indicating the models are performing similarly across precision-recall and classification threshold analyses.\n",
    "\n",
    "Test set accuracy of the best model using upsampling data to improve the quality is 0.5990338164251209 which is close to the accuracy of the validation sets (0.6222760290556901). This shows that the model is performing well and it generalizes effectively to new data. Slight drop in accuracy from validation set to test set is normal which suggests that the model is not overfitting. While the ROC_AUC score for the best model is 0.8537746448331293 which is similar to the ROC_AUC score for the test set is 0.8544189028443205, shows that the model can effectively rank predictions for the positive and negative classes across a wide range of thresholds."
   ]
  }
 ],
 "metadata": {
  "ExecuteTimeLog": [
   {
    "duration": 2507,
    "start_time": "2024-12-15T01:05:17.735Z"
   },
   {
    "duration": 163,
    "start_time": "2024-12-15T01:05:20.245Z"
   },
   {
    "duration": 22,
    "start_time": "2024-12-15T01:05:20.410Z"
   },
   {
    "duration": 19,
    "start_time": "2024-12-15T01:05:20.434Z"
   },
   {
    "duration": 154,
    "start_time": "2024-12-15T19:12:07.832Z"
   },
   {
    "duration": 829,
    "start_time": "2024-12-15T19:12:11.336Z"
   },
   {
    "duration": 149,
    "start_time": "2024-12-15T19:12:13.411Z"
   },
   {
    "duration": 17,
    "start_time": "2024-12-15T19:12:14.673Z"
   },
   {
    "duration": 19,
    "start_time": "2024-12-15T19:12:15.881Z"
   },
   {
    "duration": 53,
    "start_time": "2024-12-15T19:12:17.944Z"
   },
   {
    "duration": 141,
    "start_time": "2024-12-15T19:12:19.978Z"
   },
   {
    "duration": 86,
    "start_time": "2024-12-15T19:12:21.378Z"
   },
   {
    "duration": 3,
    "start_time": "2024-12-15T19:12:45.455Z"
   },
   {
    "duration": 13,
    "start_time": "2024-12-15T19:12:48.704Z"
   },
   {
    "duration": 682,
    "start_time": "2024-12-15T19:13:37.230Z"
   },
   {
    "duration": 806,
    "start_time": "2024-12-15T19:13:45.918Z"
   },
   {
    "duration": 200,
    "start_time": "2024-12-15T19:13:46.727Z"
   },
   {
    "duration": 20,
    "start_time": "2024-12-15T19:13:46.928Z"
   },
   {
    "duration": 19,
    "start_time": "2024-12-15T19:13:46.950Z"
   },
   {
    "duration": 72,
    "start_time": "2024-12-15T19:13:46.971Z"
   },
   {
    "duration": 145,
    "start_time": "2024-12-15T19:13:47.045Z"
   },
   {
    "duration": 912,
    "start_time": "2024-12-15T19:13:47.192Z"
   },
   {
    "duration": 0,
    "start_time": "2024-12-15T19:13:48.105Z"
   },
   {
    "duration": 34,
    "start_time": "2024-12-15T19:14:21.384Z"
   },
   {
    "duration": 4,
    "start_time": "2024-12-15T19:15:17.497Z"
   },
   {
    "duration": 49,
    "start_time": "2024-12-15T19:15:22.673Z"
   },
   {
    "duration": 128,
    "start_time": "2024-12-15T19:15:24.005Z"
   },
   {
    "duration": 10,
    "start_time": "2024-12-15T19:15:25.196Z"
   },
   {
    "duration": 19,
    "start_time": "2024-12-15T19:16:15.863Z"
   },
   {
    "duration": 4,
    "start_time": "2024-12-15T19:16:43.248Z"
   },
   {
    "duration": 11,
    "start_time": "2024-12-15T19:17:03.607Z"
   },
   {
    "duration": 45,
    "start_time": "2024-12-15T19:17:06.001Z"
   },
   {
    "duration": 15,
    "start_time": "2024-12-15T19:17:07.009Z"
   },
   {
    "duration": 3,
    "start_time": "2024-12-15T19:17:08.474Z"
   },
   {
    "duration": 3,
    "start_time": "2024-12-15T19:17:26.163Z"
   },
   {
    "duration": 31,
    "start_time": "2024-12-15T19:17:42.310Z"
   },
   {
    "duration": 7,
    "start_time": "2024-12-15T19:17:49.156Z"
   },
   {
    "duration": 3,
    "start_time": "2024-12-15T19:18:04.874Z"
   },
   {
    "duration": 5,
    "start_time": "2024-12-15T19:18:32.752Z"
   },
   {
    "duration": 3,
    "start_time": "2024-12-15T19:18:33.978Z"
   },
   {
    "duration": 274,
    "start_time": "2024-12-15T19:18:45.717Z"
   },
   {
    "duration": 789,
    "start_time": "2024-12-15T19:19:03.629Z"
   },
   {
    "duration": 197,
    "start_time": "2024-12-15T19:19:04.422Z"
   },
   {
    "duration": 16,
    "start_time": "2024-12-15T19:19:04.621Z"
   },
   {
    "duration": 19,
    "start_time": "2024-12-15T19:19:04.639Z"
   },
   {
    "duration": 6,
    "start_time": "2024-12-15T19:19:04.659Z"
   },
   {
    "duration": 5,
    "start_time": "2024-12-15T19:19:04.667Z"
   },
   {
    "duration": 76,
    "start_time": "2024-12-15T19:19:04.673Z"
   },
   {
    "duration": 34,
    "start_time": "2024-12-15T19:19:04.750Z"
   },
   {
    "duration": 3,
    "start_time": "2024-12-15T19:19:04.786Z"
   },
   {
    "duration": 133,
    "start_time": "2024-12-15T19:19:04.792Z"
   },
   {
    "duration": 21,
    "start_time": "2024-12-15T19:19:04.927Z"
   },
   {
    "duration": 3,
    "start_time": "2024-12-15T19:19:04.950Z"
   },
   {
    "duration": 27,
    "start_time": "2024-12-15T19:19:04.955Z"
   },
   {
    "duration": 5,
    "start_time": "2024-12-15T19:19:04.983Z"
   },
   {
    "duration": 3,
    "start_time": "2024-12-15T19:19:04.990Z"
   },
   {
    "duration": 4,
    "start_time": "2024-12-15T19:19:04.995Z"
   },
   {
    "duration": 43,
    "start_time": "2024-12-15T19:19:05.000Z"
   },
   {
    "duration": 199,
    "start_time": "2024-12-15T19:19:05.045Z"
   },
   {
    "duration": 49,
    "start_time": "2024-12-15T19:19:23.787Z"
   },
   {
    "duration": 210,
    "start_time": "2024-12-15T19:21:43.236Z"
   },
   {
    "duration": 168,
    "start_time": "2024-12-15T19:21:51.651Z"
   },
   {
    "duration": 187,
    "start_time": "2024-12-15T19:21:58.107Z"
   },
   {
    "duration": 220,
    "start_time": "2024-12-15T19:25:54.779Z"
   },
   {
    "duration": 3,
    "start_time": "2024-12-15T19:26:11.879Z"
   },
   {
    "duration": 12,
    "start_time": "2024-12-15T19:26:26.467Z"
   },
   {
    "duration": 18,
    "start_time": "2024-12-15T19:29:58.096Z"
   },
   {
    "duration": 5,
    "start_time": "2024-12-15T19:29:59.864Z"
   },
   {
    "duration": 4,
    "start_time": "2024-12-15T19:30:01.900Z"
   },
   {
    "duration": 4,
    "start_time": "2024-12-15T19:30:39.479Z"
   },
   {
    "duration": 161,
    "start_time": "2024-12-15T19:30:59.023Z"
   },
   {
    "duration": 19,
    "start_time": "2024-12-15T19:31:14.117Z"
   },
   {
    "duration": 5,
    "start_time": "2024-12-15T19:31:16.063Z"
   },
   {
    "duration": 59,
    "start_time": "2024-12-15T19:31:18.540Z"
   },
   {
    "duration": 29,
    "start_time": "2024-12-15T19:31:19.702Z"
   },
   {
    "duration": 4,
    "start_time": "2024-12-15T19:31:20.928Z"
   },
   {
    "duration": 13,
    "start_time": "2024-12-15T19:31:23.306Z"
   },
   {
    "duration": 797,
    "start_time": "2024-12-15T19:31:40.932Z"
   },
   {
    "duration": 198,
    "start_time": "2024-12-15T19:31:41.731Z"
   },
   {
    "duration": 16,
    "start_time": "2024-12-15T19:31:41.930Z"
   },
   {
    "duration": 19,
    "start_time": "2024-12-15T19:31:41.948Z"
   },
   {
    "duration": 5,
    "start_time": "2024-12-15T19:31:41.969Z"
   },
   {
    "duration": 6,
    "start_time": "2024-12-15T19:31:41.975Z"
   },
   {
    "duration": 82,
    "start_time": "2024-12-15T19:31:41.982Z"
   },
   {
    "duration": 33,
    "start_time": "2024-12-15T19:31:42.066Z"
   },
   {
    "duration": 5,
    "start_time": "2024-12-15T19:31:42.101Z"
   },
   {
    "duration": 130,
    "start_time": "2024-12-15T19:31:42.109Z"
   },
   {
    "duration": 14,
    "start_time": "2024-12-15T19:31:42.240Z"
   },
   {
    "duration": 4,
    "start_time": "2024-12-15T19:31:42.255Z"
   },
   {
    "duration": 27,
    "start_time": "2024-12-15T19:31:42.261Z"
   },
   {
    "duration": 7,
    "start_time": "2024-12-15T19:31:42.289Z"
   },
   {
    "duration": 2,
    "start_time": "2024-12-15T19:31:42.298Z"
   },
   {
    "duration": 42,
    "start_time": "2024-12-15T19:31:42.302Z"
   },
   {
    "duration": 3,
    "start_time": "2024-12-15T19:31:42.346Z"
   },
   {
    "duration": 195,
    "start_time": "2024-12-15T19:31:42.351Z"
   },
   {
    "duration": 128,
    "start_time": "2024-12-15T19:31:42.548Z"
   },
   {
    "duration": 73,
    "start_time": "2024-12-15T19:31:42.678Z"
   },
   {
    "duration": 5,
    "start_time": "2024-12-15T19:31:42.753Z"
   },
   {
    "duration": 82,
    "start_time": "2024-12-15T19:31:42.760Z"
   },
   {
    "duration": 5,
    "start_time": "2024-12-15T19:31:42.844Z"
   },
   {
    "duration": 199,
    "start_time": "2024-12-15T19:32:02.648Z"
   },
   {
    "duration": 48,
    "start_time": "2024-12-15T19:32:05.399Z"
   },
   {
    "duration": 18,
    "start_time": "2024-12-15T19:32:06.485Z"
   },
   {
    "duration": 4,
    "start_time": "2024-12-15T19:32:07.476Z"
   },
   {
    "duration": 222,
    "start_time": "2024-12-15T19:32:08.567Z"
   },
   {
    "duration": 840,
    "start_time": "2024-12-15T19:32:17.395Z"
   },
   {
    "duration": 222,
    "start_time": "2024-12-15T19:32:18.238Z"
   },
   {
    "duration": 21,
    "start_time": "2024-12-15T19:32:18.462Z"
   },
   {
    "duration": 22,
    "start_time": "2024-12-15T19:32:18.484Z"
   },
   {
    "duration": 5,
    "start_time": "2024-12-15T19:32:18.509Z"
   },
   {
    "duration": 30,
    "start_time": "2024-12-15T19:32:18.516Z"
   },
   {
    "duration": 53,
    "start_time": "2024-12-15T19:32:18.549Z"
   },
   {
    "duration": 51,
    "start_time": "2024-12-15T19:32:18.604Z"
   },
   {
    "duration": 5,
    "start_time": "2024-12-15T19:32:18.657Z"
   },
   {
    "duration": 119,
    "start_time": "2024-12-15T19:32:18.665Z"
   },
   {
    "duration": 15,
    "start_time": "2024-12-15T19:32:18.786Z"
   },
   {
    "duration": 4,
    "start_time": "2024-12-15T19:32:18.803Z"
   },
   {
    "duration": 82,
    "start_time": "2024-12-15T19:32:18.810Z"
   },
   {
    "duration": 7,
    "start_time": "2024-12-15T19:32:18.896Z"
   },
   {
    "duration": 4,
    "start_time": "2024-12-15T19:32:18.905Z"
   },
   {
    "duration": 4,
    "start_time": "2024-12-15T19:32:18.911Z"
   },
   {
    "duration": 3,
    "start_time": "2024-12-15T19:32:18.917Z"
   },
   {
    "duration": 240,
    "start_time": "2024-12-15T19:32:18.922Z"
   },
   {
    "duration": 115,
    "start_time": "2024-12-15T19:32:19.164Z"
   },
   {
    "duration": 92,
    "start_time": "2024-12-15T19:32:19.281Z"
   },
   {
    "duration": 70,
    "start_time": "2024-12-15T19:32:19.375Z"
   },
   {
    "duration": 5,
    "start_time": "2024-12-15T19:32:19.448Z"
   },
   {
    "duration": 5,
    "start_time": "2024-12-15T19:32:19.455Z"
   },
   {
    "duration": 3,
    "start_time": "2024-12-15T19:36:04.217Z"
   },
   {
    "duration": 320,
    "start_time": "2024-12-15T19:37:03.605Z"
   },
   {
    "duration": 3,
    "start_time": "2024-12-15T19:37:26.305Z"
   },
   {
    "duration": 336,
    "start_time": "2024-12-15T19:37:30.317Z"
   },
   {
    "duration": 192,
    "start_time": "2024-12-15T19:37:37.277Z"
   },
   {
    "duration": 50,
    "start_time": "2024-12-15T19:37:40.845Z"
   },
   {
    "duration": 17,
    "start_time": "2024-12-15T19:37:42.418Z"
   },
   {
    "duration": 5,
    "start_time": "2024-12-15T19:37:43.413Z"
   },
   {
    "duration": 5,
    "start_time": "2024-12-15T19:37:44.930Z"
   },
   {
    "duration": 4,
    "start_time": "2024-12-15T19:37:46.399Z"
   },
   {
    "duration": 15,
    "start_time": "2024-12-15T19:38:16.904Z"
   },
   {
    "duration": 318,
    "start_time": "2024-12-15T19:38:28.188Z"
   },
   {
    "duration": 14,
    "start_time": "2024-12-15T19:38:29.451Z"
   },
   {
    "duration": 426,
    "start_time": "2024-12-15T19:39:15.039Z"
   },
   {
    "duration": 17,
    "start_time": "2024-12-15T19:39:35.969Z"
   },
   {
    "duration": 5,
    "start_time": "2024-12-15T19:39:37.092Z"
   },
   {
    "duration": 15,
    "start_time": "2024-12-15T19:39:39.443Z"
   },
   {
    "duration": 873,
    "start_time": "2024-12-15T19:39:50.258Z"
   },
   {
    "duration": 201,
    "start_time": "2024-12-15T19:39:51.133Z"
   },
   {
    "duration": 19,
    "start_time": "2024-12-15T19:39:51.336Z"
   },
   {
    "duration": 18,
    "start_time": "2024-12-15T19:39:51.357Z"
   },
   {
    "duration": 4,
    "start_time": "2024-12-15T19:39:51.376Z"
   },
   {
    "duration": 5,
    "start_time": "2024-12-15T19:39:51.382Z"
   },
   {
    "duration": 70,
    "start_time": "2024-12-15T19:39:51.388Z"
   },
   {
    "duration": 36,
    "start_time": "2024-12-15T19:39:51.460Z"
   },
   {
    "duration": 4,
    "start_time": "2024-12-15T19:39:51.498Z"
   },
   {
    "duration": 125,
    "start_time": "2024-12-15T19:39:51.505Z"
   },
   {
    "duration": 23,
    "start_time": "2024-12-15T19:39:51.631Z"
   },
   {
    "duration": 3,
    "start_time": "2024-12-15T19:39:51.656Z"
   },
   {
    "duration": 27,
    "start_time": "2024-12-15T19:39:51.661Z"
   },
   {
    "duration": 5,
    "start_time": "2024-12-15T19:39:51.690Z"
   },
   {
    "duration": 3,
    "start_time": "2024-12-15T19:39:51.696Z"
   },
   {
    "duration": 43,
    "start_time": "2024-12-15T19:39:51.701Z"
   },
   {
    "duration": 4,
    "start_time": "2024-12-15T19:39:51.745Z"
   },
   {
    "duration": 333,
    "start_time": "2024-12-15T19:39:51.750Z"
   },
   {
    "duration": 422,
    "start_time": "2024-12-15T19:39:52.085Z"
   },
   {
    "duration": 162,
    "start_time": "2024-12-15T19:39:52.509Z"
   },
   {
    "duration": 85,
    "start_time": "2024-12-15T19:39:52.673Z"
   },
   {
    "duration": 5,
    "start_time": "2024-12-15T19:39:52.759Z"
   },
   {
    "duration": 79,
    "start_time": "2024-12-15T19:39:52.765Z"
   },
   {
    "duration": 4,
    "start_time": "2024-12-15T19:39:52.845Z"
   },
   {
    "duration": 128,
    "start_time": "2024-12-15T19:40:37.229Z"
   },
   {
    "duration": 444,
    "start_time": "2024-12-15T19:40:39.402Z"
   },
   {
    "duration": 815,
    "start_time": "2024-12-15T19:40:48.057Z"
   },
   {
    "duration": 234,
    "start_time": "2024-12-15T19:40:48.874Z"
   },
   {
    "duration": 24,
    "start_time": "2024-12-15T19:40:49.111Z"
   },
   {
    "duration": 24,
    "start_time": "2024-12-15T19:40:49.137Z"
   },
   {
    "duration": 4,
    "start_time": "2024-12-15T19:40:49.164Z"
   },
   {
    "duration": 5,
    "start_time": "2024-12-15T19:40:49.170Z"
   },
   {
    "duration": 75,
    "start_time": "2024-12-15T19:40:49.177Z"
   },
   {
    "duration": 40,
    "start_time": "2024-12-15T19:40:49.254Z"
   },
   {
    "duration": 3,
    "start_time": "2024-12-15T19:40:49.296Z"
   },
   {
    "duration": 154,
    "start_time": "2024-12-15T19:40:49.302Z"
   },
   {
    "duration": 16,
    "start_time": "2024-12-15T19:40:49.457Z"
   },
   {
    "duration": 4,
    "start_time": "2024-12-15T19:40:49.475Z"
   },
   {
    "duration": 28,
    "start_time": "2024-12-15T19:40:49.481Z"
   },
   {
    "duration": 32,
    "start_time": "2024-12-15T19:40:49.513Z"
   },
   {
    "duration": 3,
    "start_time": "2024-12-15T19:40:49.547Z"
   },
   {
    "duration": 4,
    "start_time": "2024-12-15T19:40:49.552Z"
   },
   {
    "duration": 3,
    "start_time": "2024-12-15T19:40:49.557Z"
   },
   {
    "duration": 148,
    "start_time": "2024-12-15T19:40:49.562Z"
   },
   {
    "duration": 232,
    "start_time": "2024-12-15T19:40:49.712Z"
   },
   {
    "duration": 0,
    "start_time": "2024-12-15T19:40:49.946Z"
   },
   {
    "duration": 0,
    "start_time": "2024-12-15T19:40:49.947Z"
   },
   {
    "duration": 0,
    "start_time": "2024-12-15T19:40:49.948Z"
   },
   {
    "duration": 0,
    "start_time": "2024-12-15T19:40:49.950Z"
   },
   {
    "duration": 0,
    "start_time": "2024-12-15T19:40:49.951Z"
   },
   {
    "duration": 101,
    "start_time": "2024-12-15T19:41:17.945Z"
   },
   {
    "duration": 48,
    "start_time": "2024-12-15T19:41:20.950Z"
   },
   {
    "duration": 17,
    "start_time": "2024-12-15T19:41:22.150Z"
   },
   {
    "duration": 4,
    "start_time": "2024-12-15T19:41:23.070Z"
   },
   {
    "duration": 4,
    "start_time": "2024-12-15T19:41:24.167Z"
   },
   {
    "duration": 5,
    "start_time": "2024-12-15T19:41:25.737Z"
   },
   {
    "duration": 776,
    "start_time": "2024-12-15T19:41:46.187Z"
   },
   {
    "duration": 200,
    "start_time": "2024-12-15T19:41:46.966Z"
   },
   {
    "duration": 16,
    "start_time": "2024-12-15T19:41:47.168Z"
   },
   {
    "duration": 17,
    "start_time": "2024-12-15T19:41:47.186Z"
   },
   {
    "duration": 4,
    "start_time": "2024-12-15T19:41:47.207Z"
   },
   {
    "duration": 32,
    "start_time": "2024-12-15T19:41:47.213Z"
   },
   {
    "duration": 52,
    "start_time": "2024-12-15T19:41:47.246Z"
   },
   {
    "duration": 50,
    "start_time": "2024-12-15T19:41:47.300Z"
   },
   {
    "duration": 3,
    "start_time": "2024-12-15T19:41:47.352Z"
   },
   {
    "duration": 120,
    "start_time": "2024-12-15T19:41:47.357Z"
   },
   {
    "duration": 15,
    "start_time": "2024-12-15T19:41:47.479Z"
   },
   {
    "duration": 3,
    "start_time": "2024-12-15T19:41:47.496Z"
   },
   {
    "duration": 49,
    "start_time": "2024-12-15T19:41:47.501Z"
   },
   {
    "duration": 3,
    "start_time": "2024-12-15T19:41:47.553Z"
   },
   {
    "duration": 3,
    "start_time": "2024-12-15T19:41:47.559Z"
   },
   {
    "duration": 4,
    "start_time": "2024-12-15T19:41:47.564Z"
   },
   {
    "duration": 3,
    "start_time": "2024-12-15T19:41:47.570Z"
   },
   {
    "duration": 147,
    "start_time": "2024-12-15T19:41:47.575Z"
   },
   {
    "duration": 119,
    "start_time": "2024-12-15T19:41:47.724Z"
   },
   {
    "duration": 130,
    "start_time": "2024-12-15T19:41:47.845Z"
   },
   {
    "duration": 71,
    "start_time": "2024-12-15T19:41:47.978Z"
   },
   {
    "duration": 4,
    "start_time": "2024-12-15T19:41:48.051Z"
   },
   {
    "duration": 5,
    "start_time": "2024-12-15T19:41:48.057Z"
   },
   {
    "duration": 81,
    "start_time": "2024-12-15T19:41:48.064Z"
   },
   {
    "duration": 93,
    "start_time": "2024-12-15T19:42:02.753Z"
   },
   {
    "duration": 56,
    "start_time": "2024-12-15T19:42:04.523Z"
   },
   {
    "duration": 17,
    "start_time": "2024-12-15T19:42:05.216Z"
   },
   {
    "duration": 5,
    "start_time": "2024-12-15T19:42:06.043Z"
   },
   {
    "duration": 228,
    "start_time": "2024-12-15T19:42:08.720Z"
   },
   {
    "duration": 791,
    "start_time": "2024-12-15T19:42:15.751Z"
   },
   {
    "duration": 198,
    "start_time": "2024-12-15T19:42:16.545Z"
   },
   {
    "duration": 16,
    "start_time": "2024-12-15T19:42:16.744Z"
   },
   {
    "duration": 18,
    "start_time": "2024-12-15T19:42:16.763Z"
   },
   {
    "duration": 4,
    "start_time": "2024-12-15T19:42:16.783Z"
   },
   {
    "duration": 6,
    "start_time": "2024-12-15T19:42:16.789Z"
   },
   {
    "duration": 87,
    "start_time": "2024-12-15T19:42:16.797Z"
   },
   {
    "duration": 34,
    "start_time": "2024-12-15T19:42:16.886Z"
   },
   {
    "duration": 3,
    "start_time": "2024-12-15T19:42:16.922Z"
   },
   {
    "duration": 114,
    "start_time": "2024-12-15T19:42:16.944Z"
   },
   {
    "duration": 15,
    "start_time": "2024-12-15T19:42:17.060Z"
   },
   {
    "duration": 3,
    "start_time": "2024-12-15T19:42:17.076Z"
   },
   {
    "duration": 27,
    "start_time": "2024-12-15T19:42:17.081Z"
   },
   {
    "duration": 4,
    "start_time": "2024-12-15T19:42:17.109Z"
   },
   {
    "duration": 3,
    "start_time": "2024-12-15T19:42:17.142Z"
   },
   {
    "duration": 6,
    "start_time": "2024-12-15T19:42:17.147Z"
   },
   {
    "duration": 3,
    "start_time": "2024-12-15T19:42:17.155Z"
   },
   {
    "duration": 150,
    "start_time": "2024-12-15T19:42:17.160Z"
   },
   {
    "duration": 102,
    "start_time": "2024-12-15T19:42:17.312Z"
   },
   {
    "duration": 132,
    "start_time": "2024-12-15T19:42:17.443Z"
   },
   {
    "duration": 75,
    "start_time": "2024-12-15T19:42:17.581Z"
   },
   {
    "duration": 84,
    "start_time": "2024-12-15T19:42:17.663Z"
   },
   {
    "duration": 5,
    "start_time": "2024-12-15T19:42:17.753Z"
   },
   {
    "duration": 4,
    "start_time": "2024-12-15T19:42:17.760Z"
   },
   {
    "duration": 122,
    "start_time": "2024-12-15T19:50:08.605Z"
   },
   {
    "duration": 2,
    "start_time": "2024-12-15T19:50:44.799Z"
   },
   {
    "duration": 109,
    "start_time": "2024-12-15T19:50:47.969Z"
   },
   {
    "duration": 5,
    "start_time": "2024-12-15T19:50:51.198Z"
   },
   {
    "duration": 151,
    "start_time": "2024-12-15T19:53:53.966Z"
   },
   {
    "duration": 225,
    "start_time": "2024-12-15T19:53:55.759Z"
   },
   {
    "duration": 767,
    "start_time": "2024-12-15T19:54:06.002Z"
   },
   {
    "duration": 194,
    "start_time": "2024-12-15T19:54:06.772Z"
   },
   {
    "duration": 17,
    "start_time": "2024-12-15T19:54:06.968Z"
   },
   {
    "duration": 18,
    "start_time": "2024-12-15T19:54:06.986Z"
   },
   {
    "duration": 3,
    "start_time": "2024-12-15T19:54:07.007Z"
   },
   {
    "duration": 31,
    "start_time": "2024-12-15T19:54:07.012Z"
   },
   {
    "duration": 56,
    "start_time": "2024-12-15T19:54:07.044Z"
   },
   {
    "duration": 41,
    "start_time": "2024-12-15T19:54:07.102Z"
   },
   {
    "duration": 4,
    "start_time": "2024-12-15T19:54:07.144Z"
   },
   {
    "duration": 122,
    "start_time": "2024-12-15T19:54:07.149Z"
   },
   {
    "duration": 13,
    "start_time": "2024-12-15T19:54:07.273Z"
   },
   {
    "duration": 3,
    "start_time": "2024-12-15T19:54:07.288Z"
   },
   {
    "duration": 50,
    "start_time": "2024-12-15T19:54:07.293Z"
   },
   {
    "duration": 4,
    "start_time": "2024-12-15T19:54:07.346Z"
   },
   {
    "duration": 3,
    "start_time": "2024-12-15T19:54:07.352Z"
   },
   {
    "duration": 5,
    "start_time": "2024-12-15T19:54:07.357Z"
   },
   {
    "duration": 3,
    "start_time": "2024-12-15T19:54:07.364Z"
   },
   {
    "duration": 149,
    "start_time": "2024-12-15T19:54:07.369Z"
   },
   {
    "duration": 448,
    "start_time": "2024-12-15T19:54:07.520Z"
   },
   {
    "duration": 0,
    "start_time": "2024-12-15T19:54:07.970Z"
   },
   {
    "duration": 0,
    "start_time": "2024-12-15T19:54:07.972Z"
   },
   {
    "duration": 0,
    "start_time": "2024-12-15T19:54:07.973Z"
   },
   {
    "duration": 0,
    "start_time": "2024-12-15T19:54:07.974Z"
   },
   {
    "duration": 0,
    "start_time": "2024-12-15T19:54:07.975Z"
   },
   {
    "duration": 0,
    "start_time": "2024-12-15T19:54:07.976Z"
   },
   {
    "duration": 0,
    "start_time": "2024-12-15T19:54:07.977Z"
   },
   {
    "duration": 0,
    "start_time": "2024-12-15T19:54:07.978Z"
   },
   {
    "duration": 5,
    "start_time": "2024-12-15T19:58:10.932Z"
   },
   {
    "duration": 17,
    "start_time": "2024-12-15T19:58:23.653Z"
   },
   {
    "duration": 144,
    "start_time": "2024-12-15T19:58:27.376Z"
   },
   {
    "duration": 38,
    "start_time": "2024-12-15T19:58:30.727Z"
   },
   {
    "duration": 5,
    "start_time": "2024-12-15T19:59:25.422Z"
   },
   {
    "duration": 4,
    "start_time": "2024-12-15T20:05:29.192Z"
   },
   {
    "duration": 5,
    "start_time": "2024-12-15T20:06:16.663Z"
   },
   {
    "duration": 16,
    "start_time": "2024-12-15T20:06:55.818Z"
   },
   {
    "duration": 29,
    "start_time": "2024-12-15T20:07:54.885Z"
   },
   {
    "duration": 5,
    "start_time": "2024-12-15T20:07:56.231Z"
   },
   {
    "duration": 833,
    "start_time": "2024-12-15T20:08:06.395Z"
   },
   {
    "duration": 257,
    "start_time": "2024-12-15T20:08:07.230Z"
   },
   {
    "duration": 16,
    "start_time": "2024-12-15T20:08:07.489Z"
   },
   {
    "duration": 19,
    "start_time": "2024-12-15T20:08:07.507Z"
   },
   {
    "duration": 4,
    "start_time": "2024-12-15T20:08:07.542Z"
   },
   {
    "duration": 6,
    "start_time": "2024-12-15T20:08:07.548Z"
   },
   {
    "duration": 60,
    "start_time": "2024-12-15T20:08:07.556Z"
   },
   {
    "duration": 58,
    "start_time": "2024-12-15T20:08:07.618Z"
   },
   {
    "duration": 3,
    "start_time": "2024-12-15T20:08:07.678Z"
   },
   {
    "duration": 128,
    "start_time": "2024-12-15T20:08:07.684Z"
   },
   {
    "duration": 14,
    "start_time": "2024-12-15T20:08:07.814Z"
   },
   {
    "duration": 2,
    "start_time": "2024-12-15T20:08:07.843Z"
   },
   {
    "duration": 30,
    "start_time": "2024-12-15T20:08:07.847Z"
   },
   {
    "duration": 6,
    "start_time": "2024-12-15T20:08:07.882Z"
   },
   {
    "duration": 3,
    "start_time": "2024-12-15T20:08:07.891Z"
   },
   {
    "duration": 5,
    "start_time": "2024-12-15T20:08:07.896Z"
   },
   {
    "duration": 45,
    "start_time": "2024-12-15T20:08:07.903Z"
   },
   {
    "duration": 125,
    "start_time": "2024-12-15T20:08:07.949Z"
   },
   {
    "duration": 449,
    "start_time": "2024-12-15T20:08:08.075Z"
   },
   {
    "duration": 0,
    "start_time": "2024-12-15T20:08:08.526Z"
   },
   {
    "duration": 1,
    "start_time": "2024-12-15T20:08:08.527Z"
   },
   {
    "duration": 0,
    "start_time": "2024-12-15T20:08:08.529Z"
   },
   {
    "duration": 0,
    "start_time": "2024-12-15T20:08:08.530Z"
   },
   {
    "duration": 0,
    "start_time": "2024-12-15T20:08:08.531Z"
   },
   {
    "duration": 0,
    "start_time": "2024-12-15T20:08:08.532Z"
   },
   {
    "duration": 0,
    "start_time": "2024-12-15T20:08:08.532Z"
   },
   {
    "duration": 0,
    "start_time": "2024-12-15T20:08:08.533Z"
   },
   {
    "duration": 0,
    "start_time": "2024-12-15T20:08:08.533Z"
   },
   {
    "duration": 0,
    "start_time": "2024-12-15T20:08:08.542Z"
   },
   {
    "duration": 0,
    "start_time": "2024-12-15T20:08:08.543Z"
   },
   {
    "duration": 0,
    "start_time": "2024-12-15T20:08:08.544Z"
   },
   {
    "duration": 15,
    "start_time": "2024-12-15T20:08:46.113Z"
   },
   {
    "duration": 56,
    "start_time": "2024-12-15T20:08:46.816Z"
   },
   {
    "duration": 102,
    "start_time": "2024-12-15T20:08:47.342Z"
   },
   {
    "duration": 18,
    "start_time": "2024-12-15T20:08:47.502Z"
   },
   {
    "duration": 16,
    "start_time": "2024-12-15T20:08:47.723Z"
   },
   {
    "duration": 13,
    "start_time": "2024-12-15T20:08:50.597Z"
   },
   {
    "duration": 165,
    "start_time": "2024-12-15T20:08:50.804Z"
   },
   {
    "duration": 37,
    "start_time": "2024-12-15T20:08:51.043Z"
   },
   {
    "duration": 7,
    "start_time": "2024-12-15T20:08:51.161Z"
   },
   {
    "duration": 5,
    "start_time": "2024-12-15T20:08:51.373Z"
   },
   {
    "duration": 25,
    "start_time": "2024-12-15T20:08:51.566Z"
   },
   {
    "duration": 5,
    "start_time": "2024-12-15T20:08:51.759Z"
   },
   {
    "duration": 192,
    "start_time": "2024-12-16T02:33:01.973Z"
   },
   {
    "duration": 2648,
    "start_time": "2024-12-16T02:33:08.193Z"
   },
   {
    "duration": 238,
    "start_time": "2024-12-16T02:33:10.844Z"
   },
   {
    "duration": 26,
    "start_time": "2024-12-16T02:33:11.084Z"
   },
   {
    "duration": 18,
    "start_time": "2024-12-16T02:33:11.114Z"
   },
   {
    "duration": 4,
    "start_time": "2024-12-16T02:33:11.134Z"
   },
   {
    "duration": 11,
    "start_time": "2024-12-16T02:33:11.140Z"
   },
   {
    "duration": 61,
    "start_time": "2024-12-16T02:33:11.156Z"
   },
   {
    "duration": 42,
    "start_time": "2024-12-16T02:33:11.219Z"
   },
   {
    "duration": 4,
    "start_time": "2024-12-16T02:33:11.263Z"
   },
   {
    "duration": 123,
    "start_time": "2024-12-16T02:33:11.269Z"
   },
   {
    "duration": 14,
    "start_time": "2024-12-16T02:33:11.394Z"
   },
   {
    "duration": 3,
    "start_time": "2024-12-16T02:33:11.410Z"
   },
   {
    "duration": 49,
    "start_time": "2024-12-16T02:33:11.414Z"
   },
   {
    "duration": 6,
    "start_time": "2024-12-16T02:33:11.467Z"
   },
   {
    "duration": 3,
    "start_time": "2024-12-16T02:33:11.474Z"
   },
   {
    "duration": 5,
    "start_time": "2024-12-16T02:33:11.479Z"
   },
   {
    "duration": 2,
    "start_time": "2024-12-16T02:33:11.486Z"
   },
   {
    "duration": 289,
    "start_time": "2024-12-16T02:33:11.490Z"
   },
   {
    "duration": 0,
    "start_time": "2024-12-16T02:33:11.780Z"
   },
   {
    "duration": 0,
    "start_time": "2024-12-16T02:33:11.782Z"
   },
   {
    "duration": 0,
    "start_time": "2024-12-16T02:33:11.782Z"
   },
   {
    "duration": 0,
    "start_time": "2024-12-16T02:33:11.783Z"
   },
   {
    "duration": 0,
    "start_time": "2024-12-16T02:33:11.784Z"
   },
   {
    "duration": 0,
    "start_time": "2024-12-16T02:33:11.784Z"
   },
   {
    "duration": 0,
    "start_time": "2024-12-16T02:33:11.785Z"
   },
   {
    "duration": 0,
    "start_time": "2024-12-16T02:33:11.786Z"
   },
   {
    "duration": 0,
    "start_time": "2024-12-16T02:33:11.787Z"
   },
   {
    "duration": 0,
    "start_time": "2024-12-16T02:33:11.788Z"
   },
   {
    "duration": 0,
    "start_time": "2024-12-16T02:33:11.789Z"
   },
   {
    "duration": 0,
    "start_time": "2024-12-16T02:33:11.791Z"
   },
   {
    "duration": 16,
    "start_time": "2024-12-16T02:33:33.492Z"
   },
   {
    "duration": 119,
    "start_time": "2024-12-16T02:33:35.783Z"
   },
   {
    "duration": 8,
    "start_time": "2024-12-16T02:33:36.931Z"
   },
   {
    "duration": 8,
    "start_time": "2024-12-16T02:36:07.707Z"
   },
   {
    "duration": 2,
    "start_time": "2024-12-16T02:36:08.920Z"
   },
   {
    "duration": 10,
    "start_time": "2024-12-16T05:03:41.860Z"
   },
   {
    "duration": 2,
    "start_time": "2024-12-16T05:05:35.978Z"
   },
   {
    "duration": 4,
    "start_time": "2024-12-16T05:06:21.629Z"
   },
   {
    "duration": 4,
    "start_time": "2024-12-16T05:06:24.332Z"
   },
   {
    "duration": 4,
    "start_time": "2024-12-16T05:06:40.760Z"
   },
   {
    "duration": 3,
    "start_time": "2024-12-16T05:07:29.895Z"
   },
   {
    "duration": 10,
    "start_time": "2024-12-16T05:07:51.309Z"
   },
   {
    "duration": 27,
    "start_time": "2024-12-16T05:08:03.727Z"
   },
   {
    "duration": 9,
    "start_time": "2024-12-16T05:09:02.335Z"
   },
   {
    "duration": 8,
    "start_time": "2024-12-16T05:09:14.292Z"
   },
   {
    "duration": 7,
    "start_time": "2024-12-16T05:09:51.328Z"
   },
   {
    "duration": 7,
    "start_time": "2024-12-16T05:10:14.489Z"
   },
   {
    "duration": 2,
    "start_time": "2024-12-16T05:11:05.400Z"
   },
   {
    "duration": 24,
    "start_time": "2024-12-16T05:14:11.320Z"
   },
   {
    "duration": 4,
    "start_time": "2024-12-16T05:14:23.657Z"
   },
   {
    "duration": 6,
    "start_time": "2024-12-16T05:14:38.549Z"
   },
   {
    "duration": 5,
    "start_time": "2024-12-16T05:18:11.276Z"
   },
   {
    "duration": 4,
    "start_time": "2024-12-16T05:18:21.892Z"
   },
   {
    "duration": 10430,
    "start_time": "2024-12-16T05:18:44.661Z"
   },
   {
    "duration": 520874,
    "start_time": "2024-12-16T05:20:25.778Z"
   },
   {
    "duration": 2539,
    "start_time": "2024-12-17T00:24:28.713Z"
   },
   {
    "duration": 162,
    "start_time": "2024-12-17T00:24:32.549Z"
   },
   {
    "duration": 28,
    "start_time": "2024-12-17T00:24:34.749Z"
   },
   {
    "duration": 14,
    "start_time": "2024-12-17T00:24:36.160Z"
   },
   {
    "duration": 4,
    "start_time": "2024-12-17T00:24:38.382Z"
   },
   {
    "duration": 6,
    "start_time": "2024-12-17T00:24:40.336Z"
   },
   {
    "duration": 4,
    "start_time": "2024-12-17T00:24:42.145Z"
   },
   {
    "duration": 3,
    "start_time": "2024-12-17T00:24:43.957Z"
   },
   {
    "duration": 11,
    "start_time": "2024-12-17T00:24:45.848Z"
   },
   {
    "duration": 29,
    "start_time": "2024-12-17T00:24:49.070Z"
   },
   {
    "duration": 11,
    "start_time": "2024-12-17T00:24:51.422Z"
   },
   {
    "duration": 8,
    "start_time": "2024-12-17T00:24:54.076Z"
   },
   {
    "duration": 8,
    "start_time": "2024-12-17T00:24:56.016Z"
   },
   {
    "duration": 7,
    "start_time": "2024-12-17T00:24:57.873Z"
   },
   {
    "duration": 6,
    "start_time": "2024-12-17T00:26:00.658Z"
   },
   {
    "duration": 8,
    "start_time": "2024-12-17T00:26:06.785Z"
   },
   {
    "duration": 25,
    "start_time": "2024-12-17T00:26:13.891Z"
   },
   {
    "duration": 4,
    "start_time": "2024-12-17T00:26:16.933Z"
   },
   {
    "duration": 7,
    "start_time": "2024-12-17T00:26:22.073Z"
   },
   {
    "duration": 7,
    "start_time": "2024-12-17T00:26:23.758Z"
   },
   {
    "duration": 5,
    "start_time": "2024-12-17T00:26:37.639Z"
   },
   {
    "duration": 10610,
    "start_time": "2024-12-17T00:26:47.155Z"
   },
   {
    "duration": 101,
    "start_time": "2024-12-17T00:29:30.931Z"
   },
   {
    "duration": 4,
    "start_time": "2024-12-17T00:29:48.731Z"
   },
   {
    "duration": 10740,
    "start_time": "2024-12-17T00:32:23.257Z"
   },
   {
    "duration": 10511,
    "start_time": "2024-12-17T00:33:00.036Z"
   },
   {
    "duration": 17,
    "start_time": "2024-12-17T00:35:27.053Z"
   },
   {
    "duration": 2,
    "start_time": "2024-12-17T00:46:12.544Z"
   },
   {
    "duration": 12002,
    "start_time": "2024-12-17T00:47:30.823Z"
   },
   {
    "duration": 7,
    "start_time": "2024-12-17T00:48:47.272Z"
   },
   {
    "duration": 8,
    "start_time": "2024-12-17T00:48:50.467Z"
   },
   {
    "duration": 5,
    "start_time": "2024-12-17T00:48:51.787Z"
   },
   {
    "duration": 5,
    "start_time": "2024-12-17T00:48:53.106Z"
   },
   {
    "duration": 6,
    "start_time": "2024-12-17T00:48:54.057Z"
   },
   {
    "duration": 5,
    "start_time": "2024-12-17T00:48:54.407Z"
   },
   {
    "duration": 10,
    "start_time": "2024-12-17T00:48:55.970Z"
   },
   {
    "duration": 10,
    "start_time": "2024-12-17T00:49:04.460Z"
   },
   {
    "duration": 29,
    "start_time": "2024-12-17T00:49:14.882Z"
   },
   {
    "duration": 3,
    "start_time": "2024-12-17T00:49:28.290Z"
   },
   {
    "duration": 4,
    "start_time": "2024-12-17T00:49:28.478Z"
   },
   {
    "duration": 17,
    "start_time": "2024-12-17T00:49:28.825Z"
   },
   {
    "duration": 11,
    "start_time": "2024-12-17T00:49:29.220Z"
   },
   {
    "duration": 4,
    "start_time": "2024-12-17T00:49:29.779Z"
   },
   {
    "duration": 4,
    "start_time": "2024-12-17T00:49:30.053Z"
   },
   {
    "duration": 4,
    "start_time": "2024-12-17T00:49:30.287Z"
   },
   {
    "duration": 3,
    "start_time": "2024-12-17T00:49:30.534Z"
   },
   {
    "duration": 9,
    "start_time": "2024-12-17T00:49:30.849Z"
   },
   {
    "duration": 29,
    "start_time": "2024-12-17T00:49:31.054Z"
   },
   {
    "duration": 11,
    "start_time": "2024-12-17T00:49:31.621Z"
   },
   {
    "duration": 8,
    "start_time": "2024-12-17T00:49:32.163Z"
   },
   {
    "duration": 8,
    "start_time": "2024-12-17T00:49:32.386Z"
   },
   {
    "duration": 5,
    "start_time": "2024-12-17T00:49:32.653Z"
   },
   {
    "duration": 8,
    "start_time": "2024-12-17T00:49:32.939Z"
   },
   {
    "duration": 26,
    "start_time": "2024-12-17T00:49:33.565Z"
   },
   {
    "duration": 4,
    "start_time": "2024-12-17T00:49:34.388Z"
   },
   {
    "duration": 11,
    "start_time": "2024-12-17T00:49:34.679Z"
   },
   {
    "duration": 5,
    "start_time": "2024-12-17T00:49:35.777Z"
   },
   {
    "duration": 5,
    "start_time": "2024-12-17T00:49:37.330Z"
   },
   {
    "duration": 12038,
    "start_time": "2024-12-17T00:49:39.543Z"
   },
   {
    "duration": 89,
    "start_time": "2024-12-17T00:50:08.594Z"
   },
   {
    "duration": 5,
    "start_time": "2024-12-17T00:50:11.362Z"
   },
   {
    "duration": 7,
    "start_time": "2024-12-17T00:50:13.839Z"
   },
   {
    "duration": 8,
    "start_time": "2024-12-17T00:50:15.758Z"
   },
   {
    "duration": 7,
    "start_time": "2024-12-17T00:50:17.088Z"
   },
   {
    "duration": 6,
    "start_time": "2024-12-17T00:50:18.213Z"
   },
   {
    "duration": 5,
    "start_time": "2024-12-17T00:50:20.829Z"
   },
   {
    "duration": 10,
    "start_time": "2024-12-17T00:50:21.950Z"
   },
   {
    "duration": 10,
    "start_time": "2024-12-17T00:50:23.784Z"
   },
   {
    "duration": 28,
    "start_time": "2024-12-17T00:50:25.589Z"
   },
   {
    "duration": 1062280,
    "start_time": "2024-12-17T00:50:51.487Z"
   },
   {
    "duration": 29,
    "start_time": "2024-12-17T01:12:34.548Z"
   },
   {
    "duration": 1070035,
    "start_time": "2024-12-17T01:12:51.711Z"
   },
   {
    "duration": 2,
    "start_time": "2024-12-17T03:25:18.063Z"
   },
   {
    "duration": 823,
    "start_time": "2024-12-17T03:26:56.793Z"
   },
   {
    "duration": 222,
    "start_time": "2024-12-17T03:26:57.619Z"
   },
   {
    "duration": 16,
    "start_time": "2024-12-17T03:26:57.843Z"
   },
   {
    "duration": 13,
    "start_time": "2024-12-17T03:26:57.861Z"
   },
   {
    "duration": 3,
    "start_time": "2024-12-17T03:26:57.877Z"
   },
   {
    "duration": 27,
    "start_time": "2024-12-17T03:26:57.882Z"
   },
   {
    "duration": 3,
    "start_time": "2024-12-17T03:26:57.912Z"
   },
   {
    "duration": 3,
    "start_time": "2024-12-17T03:26:57.916Z"
   },
   {
    "duration": 10,
    "start_time": "2024-12-17T03:26:57.921Z"
   },
   {
    "duration": 30,
    "start_time": "2024-12-17T03:26:57.933Z"
   },
   {
    "duration": 10,
    "start_time": "2024-12-17T03:26:57.964Z"
   },
   {
    "duration": 34,
    "start_time": "2024-12-17T03:26:57.976Z"
   },
   {
    "duration": 7,
    "start_time": "2024-12-17T03:26:58.011Z"
   },
   {
    "duration": 4,
    "start_time": "2024-12-17T03:26:58.021Z"
   },
   {
    "duration": 7,
    "start_time": "2024-12-17T03:26:58.027Z"
   },
   {
    "duration": 32,
    "start_time": "2024-12-17T03:29:55.271Z"
   },
   {
    "duration": 5,
    "start_time": "2024-12-17T03:30:01.615Z"
   },
   {
    "duration": 8,
    "start_time": "2024-12-17T03:30:11.019Z"
   },
   {
    "duration": 5,
    "start_time": "2024-12-17T03:30:21.060Z"
   },
   {
    "duration": 5,
    "start_time": "2024-12-17T03:30:32.604Z"
   },
   {
    "duration": 101,
    "start_time": "2024-12-17T03:31:55.638Z"
   },
   {
    "duration": 5,
    "start_time": "2024-12-17T03:32:16.056Z"
   },
   {
    "duration": 227,
    "start_time": "2024-12-17T03:33:13.385Z"
   },
   {
    "duration": 11,
    "start_time": "2024-12-17T03:35:47.293Z"
   },
   {
    "duration": 345402,
    "start_time": "2024-12-17T03:39:45.241Z"
   },
   {
    "duration": 0,
    "start_time": "2024-12-17T03:45:30.645Z"
   },
   {
    "duration": 346074,
    "start_time": "2024-12-17T03:45:49.323Z"
   },
   {
    "duration": 348759,
    "start_time": "2024-12-17T03:52:33.124Z"
   },
   {
    "duration": 0,
    "start_time": "2024-12-17T03:58:21.885Z"
   },
   {
    "duration": 347402,
    "start_time": "2024-12-17T03:59:08.894Z"
   },
   {
    "duration": 346992,
    "start_time": "2024-12-17T04:06:29.489Z"
   },
   {
    "duration": 347609,
    "start_time": "2024-12-17T04:13:06.070Z"
   },
   {
    "duration": 32824,
    "start_time": "2024-12-17T04:26:21.065Z"
   },
   {
    "duration": 8,
    "start_time": "2024-12-17T04:33:22.163Z"
   },
   {
    "duration": 15,
    "start_time": "2024-12-17T04:33:37.707Z"
   },
   {
    "duration": 8,
    "start_time": "2024-12-17T04:33:45.351Z"
   },
   {
    "duration": 64169,
    "start_time": "2024-12-17T04:33:48.179Z"
   },
   {
    "duration": 10,
    "start_time": "2024-12-17T04:38:06.775Z"
   },
   {
    "duration": 64307,
    "start_time": "2024-12-17T04:38:09.793Z"
   },
   {
    "duration": 0,
    "start_time": "2024-12-17T04:39:14.109Z"
   },
   {
    "duration": 0,
    "start_time": "2024-12-17T04:39:14.111Z"
   },
   {
    "duration": 0,
    "start_time": "2024-12-17T04:39:14.112Z"
   },
   {
    "duration": 0,
    "start_time": "2024-12-17T04:39:14.114Z"
   },
   {
    "duration": 0,
    "start_time": "2024-12-17T04:39:14.115Z"
   },
   {
    "duration": 0,
    "start_time": "2024-12-17T04:39:14.117Z"
   },
   {
    "duration": 0,
    "start_time": "2024-12-17T04:39:14.118Z"
   },
   {
    "duration": 0,
    "start_time": "2024-12-17T04:39:14.120Z"
   },
   {
    "duration": 0,
    "start_time": "2024-12-17T04:39:14.121Z"
   },
   {
    "duration": 0,
    "start_time": "2024-12-17T04:39:14.122Z"
   },
   {
    "duration": 0,
    "start_time": "2024-12-17T04:39:14.125Z"
   },
   {
    "duration": 0,
    "start_time": "2024-12-17T04:39:14.126Z"
   },
   {
    "duration": 0,
    "start_time": "2024-12-17T04:39:14.127Z"
   },
   {
    "duration": 0,
    "start_time": "2024-12-17T04:39:14.128Z"
   },
   {
    "duration": 0,
    "start_time": "2024-12-17T04:39:14.130Z"
   },
   {
    "duration": 0,
    "start_time": "2024-12-17T04:39:14.131Z"
   },
   {
    "duration": 0,
    "start_time": "2024-12-17T04:39:14.132Z"
   },
   {
    "duration": 0,
    "start_time": "2024-12-17T04:39:14.133Z"
   },
   {
    "duration": 0,
    "start_time": "2024-12-17T04:39:14.134Z"
   },
   {
    "duration": 0,
    "start_time": "2024-12-17T04:39:14.134Z"
   },
   {
    "duration": 0,
    "start_time": "2024-12-17T04:39:14.135Z"
   },
   {
    "duration": 0,
    "start_time": "2024-12-17T04:39:14.136Z"
   },
   {
    "duration": 627087,
    "start_time": "2024-12-17T04:41:47.530Z"
   },
   {
    "duration": 344832,
    "start_time": "2024-12-17T05:05:27.082Z"
   },
   {
    "duration": 346637,
    "start_time": "2024-12-17T05:25:05.658Z"
   },
   {
    "duration": 2625,
    "start_time": "2024-12-17T06:39:04.597Z"
   },
   {
    "duration": 173,
    "start_time": "2024-12-17T06:39:07.224Z"
   },
   {
    "duration": 22,
    "start_time": "2024-12-17T06:39:07.399Z"
   },
   {
    "duration": 13,
    "start_time": "2024-12-17T06:39:07.423Z"
   },
   {
    "duration": 4,
    "start_time": "2024-12-17T06:39:07.437Z"
   },
   {
    "duration": 4,
    "start_time": "2024-12-17T06:39:07.443Z"
   },
   {
    "duration": 25,
    "start_time": "2024-12-17T06:39:07.448Z"
   },
   {
    "duration": 3,
    "start_time": "2024-12-17T06:39:07.475Z"
   },
   {
    "duration": 11,
    "start_time": "2024-12-17T06:39:07.479Z"
   },
   {
    "duration": 36,
    "start_time": "2024-12-17T06:39:07.492Z"
   },
   {
    "duration": 41,
    "start_time": "2024-12-17T06:39:07.530Z"
   },
   {
    "duration": 7,
    "start_time": "2024-12-17T06:39:07.572Z"
   },
   {
    "duration": 7,
    "start_time": "2024-12-17T06:39:07.581Z"
   },
   {
    "duration": 5,
    "start_time": "2024-12-17T06:39:07.590Z"
   },
   {
    "duration": 7,
    "start_time": "2024-12-17T06:39:07.695Z"
   },
   {
    "duration": 25,
    "start_time": "2024-12-17T06:39:08.212Z"
   },
   {
    "duration": 4,
    "start_time": "2024-12-17T06:39:08.665Z"
   },
   {
    "duration": 6,
    "start_time": "2024-12-17T06:39:09.170Z"
   },
   {
    "duration": 5,
    "start_time": "2024-12-17T06:39:09.999Z"
   },
   {
    "duration": 5,
    "start_time": "2024-12-17T06:39:10.754Z"
   },
   {
    "duration": 10590,
    "start_time": "2024-12-17T06:39:11.525Z"
   },
   {
    "duration": 164,
    "start_time": "2024-12-17T06:39:22.117Z"
   },
   {
    "duration": 5,
    "start_time": "2024-12-17T06:39:22.282Z"
   },
   {
    "duration": 20,
    "start_time": "2024-12-17T06:39:22.289Z"
   },
   {
    "duration": 253,
    "start_time": "2024-12-17T06:39:22.310Z"
   },
   {
    "duration": 0,
    "start_time": "2024-12-17T06:39:22.565Z"
   },
   {
    "duration": 0,
    "start_time": "2024-12-17T06:39:22.570Z"
   },
   {
    "duration": 0,
    "start_time": "2024-12-17T06:39:22.570Z"
   },
   {
    "duration": 0,
    "start_time": "2024-12-17T06:39:22.571Z"
   },
   {
    "duration": 0,
    "start_time": "2024-12-17T06:39:22.573Z"
   },
   {
    "duration": 8,
    "start_time": "2024-12-17T06:39:24.178Z"
   },
   {
    "duration": 9,
    "start_time": "2024-12-17T06:40:25.371Z"
   },
   {
    "duration": 483568,
    "start_time": "2024-12-17T06:50:02.002Z"
   },
   {
    "duration": 9,
    "start_time": "2024-12-17T07:39:24.790Z"
   },
   {
    "duration": 344667,
    "start_time": "2024-12-17T07:40:57.529Z"
   },
   {
    "duration": 59,
    "start_time": "2024-12-17T07:46:42.198Z"
   },
   {
    "duration": 14,
    "start_time": "2024-12-17T07:46:42.259Z"
   },
   {
    "duration": 7,
    "start_time": "2024-12-17T07:46:42.275Z"
   },
   {
    "duration": 5,
    "start_time": "2024-12-17T07:46:42.284Z"
   },
   {
    "duration": 5,
    "start_time": "2024-12-17T07:46:42.290Z"
   },
   {
    "duration": 27,
    "start_time": "2024-12-17T08:09:31.274Z"
   },
   {
    "duration": 26,
    "start_time": "2024-12-17T08:09:39.466Z"
   },
   {
    "duration": 27,
    "start_time": "2024-12-17T08:12:25.420Z"
   },
   {
    "duration": 841,
    "start_time": "2024-12-17T08:14:13.088Z"
   },
   {
    "duration": 203,
    "start_time": "2024-12-17T08:14:13.931Z"
   },
   {
    "duration": 18,
    "start_time": "2024-12-17T08:14:14.136Z"
   },
   {
    "duration": 16,
    "start_time": "2024-12-17T08:14:14.158Z"
   },
   {
    "duration": 4,
    "start_time": "2024-12-17T08:14:14.176Z"
   },
   {
    "duration": 4,
    "start_time": "2024-12-17T08:14:14.181Z"
   },
   {
    "duration": 4,
    "start_time": "2024-12-17T08:14:14.187Z"
   },
   {
    "duration": 3,
    "start_time": "2024-12-17T08:14:14.192Z"
   },
   {
    "duration": 9,
    "start_time": "2024-12-17T08:14:14.197Z"
   },
   {
    "duration": 59,
    "start_time": "2024-12-17T08:14:14.211Z"
   },
   {
    "duration": 8,
    "start_time": "2024-12-17T08:14:14.272Z"
   },
   {
    "duration": 6,
    "start_time": "2024-12-17T08:14:14.282Z"
   },
   {
    "duration": 7,
    "start_time": "2024-12-17T08:14:14.290Z"
   },
   {
    "duration": 5,
    "start_time": "2024-12-17T08:14:14.298Z"
   },
   {
    "duration": 8,
    "start_time": "2024-12-17T08:14:14.304Z"
   },
   {
    "duration": 61,
    "start_time": "2024-12-17T08:14:14.313Z"
   },
   {
    "duration": 5,
    "start_time": "2024-12-17T08:14:14.376Z"
   },
   {
    "duration": 6,
    "start_time": "2024-12-17T08:14:14.382Z"
   },
   {
    "duration": 5,
    "start_time": "2024-12-17T08:14:14.390Z"
   },
   {
    "duration": 4,
    "start_time": "2024-12-17T08:14:14.397Z"
   },
   {
    "duration": 10468,
    "start_time": "2024-12-17T08:14:14.402Z"
   },
   {
    "duration": 524449,
    "start_time": "2024-12-17T08:14:24.871Z"
   },
   {
    "duration": 2056071,
    "start_time": "2024-12-17T08:23:09.322Z"
   },
   {
    "duration": 108,
    "start_time": "2024-12-17T08:57:25.395Z"
   },
   {
    "duration": 5,
    "start_time": "2024-12-17T08:57:25.505Z"
   },
   {
    "duration": 117,
    "start_time": "2024-12-17T08:57:25.511Z"
   },
   {
    "duration": 7,
    "start_time": "2024-12-17T08:57:25.629Z"
   },
   {
    "duration": 8,
    "start_time": "2024-12-17T08:57:25.640Z"
   },
   {
    "duration": 20,
    "start_time": "2024-12-17T08:57:25.650Z"
   },
   {
    "duration": 5,
    "start_time": "2024-12-17T08:57:25.672Z"
   },
   {
    "duration": 10,
    "start_time": "2024-12-17T08:57:25.678Z"
   },
   {
    "duration": 345002,
    "start_time": "2024-12-17T08:57:25.689Z"
   },
   {
    "duration": 0,
    "start_time": "2024-12-17T09:03:10.693Z"
   },
   {
    "duration": 0,
    "start_time": "2024-12-17T09:03:10.694Z"
   },
   {
    "duration": 0,
    "start_time": "2024-12-17T09:03:10.695Z"
   },
   {
    "duration": 160,
    "start_time": "2024-12-17T18:21:08.230Z"
   },
   {
    "duration": 2593,
    "start_time": "2024-12-17T18:21:17.706Z"
   },
   {
    "duration": 221,
    "start_time": "2024-12-17T18:21:20.302Z"
   },
   {
    "duration": 25,
    "start_time": "2024-12-17T18:21:20.527Z"
   },
   {
    "duration": 12,
    "start_time": "2024-12-17T18:21:20.554Z"
   },
   {
    "duration": 4,
    "start_time": "2024-12-17T18:21:20.567Z"
   },
   {
    "duration": 4,
    "start_time": "2024-12-17T18:21:20.573Z"
   },
   {
    "duration": 3,
    "start_time": "2024-12-17T18:21:20.580Z"
   },
   {
    "duration": 3,
    "start_time": "2024-12-17T18:21:20.585Z"
   },
   {
    "duration": 10,
    "start_time": "2024-12-17T18:21:20.605Z"
   },
   {
    "duration": 28,
    "start_time": "2024-12-17T18:21:20.618Z"
   },
   {
    "duration": 8,
    "start_time": "2024-12-17T18:21:20.647Z"
   },
   {
    "duration": 5,
    "start_time": "2024-12-17T18:21:20.670Z"
   },
   {
    "duration": 7,
    "start_time": "2024-12-17T18:21:21.207Z"
   },
   {
    "duration": 5,
    "start_time": "2024-12-17T18:21:21.411Z"
   },
   {
    "duration": 7,
    "start_time": "2024-12-17T18:21:22.158Z"
   },
   {
    "duration": 24,
    "start_time": "2024-12-17T18:21:23.495Z"
   },
   {
    "duration": 4,
    "start_time": "2024-12-17T18:21:24.511Z"
   },
   {
    "duration": 7,
    "start_time": "2024-12-17T18:22:36.641Z"
   },
   {
    "duration": 6,
    "start_time": "2024-12-17T18:22:38.422Z"
   },
   {
    "duration": 4,
    "start_time": "2024-12-17T18:22:39.990Z"
   },
   {
    "duration": 10686,
    "start_time": "2024-12-17T18:22:41.070Z"
   },
   {
    "duration": 10779,
    "start_time": "2024-12-17T18:25:37.053Z"
   },
   {
    "duration": 10696,
    "start_time": "2024-12-17T18:26:35.080Z"
   },
   {
    "duration": 525934,
    "start_time": "2024-12-17T18:27:23.305Z"
   },
   {
    "duration": 833,
    "start_time": "2024-12-17T18:54:12.165Z"
   },
   {
    "duration": 205,
    "start_time": "2024-12-17T18:54:13.000Z"
   },
   {
    "duration": 16,
    "start_time": "2024-12-17T18:54:13.207Z"
   },
   {
    "duration": 12,
    "start_time": "2024-12-17T18:54:13.225Z"
   },
   {
    "duration": 4,
    "start_time": "2024-12-17T18:54:13.238Z"
   },
   {
    "duration": 5,
    "start_time": "2024-12-17T18:54:13.244Z"
   },
   {
    "duration": 4,
    "start_time": "2024-12-17T18:54:13.250Z"
   },
   {
    "duration": 3,
    "start_time": "2024-12-17T18:54:13.255Z"
   },
   {
    "duration": 45,
    "start_time": "2024-12-17T18:54:13.260Z"
   },
   {
    "duration": 28,
    "start_time": "2024-12-17T18:54:13.310Z"
   },
   {
    "duration": 8,
    "start_time": "2024-12-17T18:54:13.340Z"
   },
   {
    "duration": 6,
    "start_time": "2024-12-17T18:54:13.349Z"
   },
   {
    "duration": 7,
    "start_time": "2024-12-17T18:54:13.357Z"
   },
   {
    "duration": 5,
    "start_time": "2024-12-17T18:54:13.365Z"
   },
   {
    "duration": 39,
    "start_time": "2024-12-17T18:54:13.372Z"
   },
   {
    "duration": 26,
    "start_time": "2024-12-17T18:54:13.412Z"
   },
   {
    "duration": 4,
    "start_time": "2024-12-17T18:54:13.439Z"
   },
   {
    "duration": 7,
    "start_time": "2024-12-17T18:54:13.445Z"
   },
   {
    "duration": 5,
    "start_time": "2024-12-17T18:54:13.454Z"
   },
   {
    "duration": 3,
    "start_time": "2024-12-17T18:54:13.461Z"
   },
   {
    "duration": 10710,
    "start_time": "2024-12-17T18:54:13.466Z"
   },
   {
    "duration": 526773,
    "start_time": "2024-12-17T18:54:24.178Z"
   },
   {
    "duration": 2063335,
    "start_time": "2024-12-17T19:03:10.953Z"
   },
   {
    "duration": 110,
    "start_time": "2024-12-17T19:37:34.290Z"
   },
   {
    "duration": 4,
    "start_time": "2024-12-17T19:37:34.406Z"
   },
   {
    "duration": 10,
    "start_time": "2024-12-17T19:37:34.412Z"
   },
   {
    "duration": 345638,
    "start_time": "2024-12-17T19:37:34.423Z"
   },
   {
    "duration": 10,
    "start_time": "2024-12-17T19:43:20.065Z"
   },
   {
    "duration": 423525,
    "start_time": "2024-12-17T19:43:20.076Z"
   },
   {
    "duration": 0,
    "start_time": "2024-12-17T19:50:23.605Z"
   },
   {
    "duration": 167,
    "start_time": "2024-12-18T02:41:28.481Z"
   },
   {
    "duration": 2540,
    "start_time": "2024-12-18T02:41:40.217Z"
   },
   {
    "duration": 163,
    "start_time": "2024-12-18T02:41:42.759Z"
   },
   {
    "duration": 19,
    "start_time": "2024-12-18T02:41:42.924Z"
   },
   {
    "duration": 12,
    "start_time": "2024-12-18T02:41:42.946Z"
   },
   {
    "duration": 3,
    "start_time": "2024-12-18T02:41:42.960Z"
   },
   {
    "duration": 3,
    "start_time": "2024-12-18T02:41:42.965Z"
   },
   {
    "duration": 4,
    "start_time": "2024-12-18T02:41:42.970Z"
   },
   {
    "duration": 3,
    "start_time": "2024-12-18T02:41:42.975Z"
   },
   {
    "duration": 10,
    "start_time": "2024-12-18T02:41:42.980Z"
   },
   {
    "duration": 37,
    "start_time": "2024-12-18T02:41:43.026Z"
   },
   {
    "duration": 10,
    "start_time": "2024-12-18T02:41:44.689Z"
   },
   {
    "duration": 8,
    "start_time": "2024-12-18T02:41:45.172Z"
   },
   {
    "duration": 8,
    "start_time": "2024-12-18T02:41:45.998Z"
   },
   {
    "duration": 7,
    "start_time": "2024-12-18T02:41:46.451Z"
   },
   {
    "duration": 8,
    "start_time": "2024-12-18T02:41:46.962Z"
   },
   {
    "duration": 25,
    "start_time": "2024-12-18T02:41:47.760Z"
   },
   {
    "duration": 4,
    "start_time": "2024-12-18T02:41:48.146Z"
   },
   {
    "duration": 7,
    "start_time": "2024-12-18T02:41:48.554Z"
   },
   {
    "duration": 5,
    "start_time": "2024-12-18T02:41:48.936Z"
   },
   {
    "duration": 3,
    "start_time": "2024-12-18T02:41:49.674Z"
   },
   {
    "duration": 10741,
    "start_time": "2024-12-18T02:41:50.393Z"
   },
   {
    "duration": 10,
    "start_time": "2024-12-18T02:42:33.664Z"
   },
   {
    "duration": 423898,
    "start_time": "2024-12-18T02:42:35.712Z"
   },
   {
    "duration": 423797,
    "start_time": "2024-12-18T02:50:13.634Z"
   },
   {
    "duration": 88,
    "start_time": "2024-12-18T04:25:50.144Z"
   },
   {
    "duration": 0,
    "start_time": "2024-12-18T04:43:58.563Z"
   },
   {
    "duration": 1448392,
    "start_time": "2024-12-18T04:55:05.341Z"
   },
   {
    "duration": 192,
    "start_time": "2024-12-18T05:19:13.739Z"
   },
   {
    "duration": 164,
    "start_time": "2024-12-18T06:35:01.696Z"
   },
   {
    "duration": 2593,
    "start_time": "2024-12-18T06:35:13.350Z"
   },
   {
    "duration": 162,
    "start_time": "2024-12-18T06:35:15.945Z"
   },
   {
    "duration": 28,
    "start_time": "2024-12-18T06:35:16.109Z"
   },
   {
    "duration": 14,
    "start_time": "2024-12-18T06:35:16.139Z"
   },
   {
    "duration": 4,
    "start_time": "2024-12-18T06:35:16.155Z"
   },
   {
    "duration": 4,
    "start_time": "2024-12-18T06:35:16.160Z"
   },
   {
    "duration": 3,
    "start_time": "2024-12-18T06:35:16.166Z"
   },
   {
    "duration": 3,
    "start_time": "2024-12-18T06:35:17.411Z"
   },
   {
    "duration": 10,
    "start_time": "2024-12-18T06:35:17.617Z"
   },
   {
    "duration": 36,
    "start_time": "2024-12-18T06:35:17.798Z"
   },
   {
    "duration": 9,
    "start_time": "2024-12-18T06:35:18.289Z"
   },
   {
    "duration": 7,
    "start_time": "2024-12-18T06:35:19.654Z"
   },
   {
    "duration": 9,
    "start_time": "2024-12-18T06:35:20.006Z"
   },
   {
    "duration": 6,
    "start_time": "2024-12-18T06:35:20.192Z"
   },
   {
    "duration": 8,
    "start_time": "2024-12-18T06:35:20.426Z"
   },
   {
    "duration": 32,
    "start_time": "2024-12-18T06:35:23.097Z"
   },
   {
    "duration": 5,
    "start_time": "2024-12-18T06:35:23.729Z"
   },
   {
    "duration": 6,
    "start_time": "2024-12-18T06:35:23.924Z"
   },
   {
    "duration": 5,
    "start_time": "2024-12-18T06:35:24.147Z"
   },
   {
    "duration": 5,
    "start_time": "2024-12-18T06:35:25.262Z"
   },
   {
    "duration": 162,
    "start_time": "2024-12-18T06:35:34.817Z"
   },
   {
    "duration": 4,
    "start_time": "2024-12-18T06:35:35.063Z"
   },
   {
    "duration": 9,
    "start_time": "2024-12-18T06:35:35.549Z"
   },
   {
    "duration": 10,
    "start_time": "2024-12-18T06:35:46.236Z"
   },
   {
    "duration": 812,
    "start_time": "2024-12-18T06:52:10.194Z"
   },
   {
    "duration": 207,
    "start_time": "2024-12-18T06:52:11.009Z"
   },
   {
    "duration": 21,
    "start_time": "2024-12-18T06:52:11.223Z"
   },
   {
    "duration": 14,
    "start_time": "2024-12-18T06:52:11.245Z"
   },
   {
    "duration": 5,
    "start_time": "2024-12-18T06:52:11.262Z"
   },
   {
    "duration": 3,
    "start_time": "2024-12-18T06:52:11.269Z"
   },
   {
    "duration": 4,
    "start_time": "2024-12-18T06:52:11.274Z"
   },
   {
    "duration": 7,
    "start_time": "2024-12-18T06:52:11.280Z"
   },
   {
    "duration": 11,
    "start_time": "2024-12-18T06:52:11.288Z"
   },
   {
    "duration": 53,
    "start_time": "2024-12-18T06:52:11.301Z"
   },
   {
    "duration": 9,
    "start_time": "2024-12-18T06:52:11.355Z"
   },
   {
    "duration": 6,
    "start_time": "2024-12-18T06:52:11.366Z"
   },
   {
    "duration": 7,
    "start_time": "2024-12-18T06:52:11.374Z"
   },
   {
    "duration": 7,
    "start_time": "2024-12-18T06:52:11.384Z"
   },
   {
    "duration": 40,
    "start_time": "2024-12-18T06:52:11.393Z"
   },
   {
    "duration": 31,
    "start_time": "2024-12-18T06:52:11.435Z"
   },
   {
    "duration": 4,
    "start_time": "2024-12-18T06:52:11.468Z"
   },
   {
    "duration": 6,
    "start_time": "2024-12-18T06:52:11.474Z"
   },
   {
    "duration": 5,
    "start_time": "2024-12-18T06:52:11.482Z"
   },
   {
    "duration": 3,
    "start_time": "2024-12-18T06:52:11.489Z"
   },
   {
    "duration": 10830,
    "start_time": "2024-12-18T06:52:11.494Z"
   },
   {
    "duration": 785,
    "start_time": "2024-12-18T06:53:35.718Z"
   },
   {
    "duration": 206,
    "start_time": "2024-12-18T06:53:36.506Z"
   },
   {
    "duration": 23,
    "start_time": "2024-12-18T06:53:36.714Z"
   },
   {
    "duration": 13,
    "start_time": "2024-12-18T06:53:36.738Z"
   },
   {
    "duration": 4,
    "start_time": "2024-12-18T06:53:36.754Z"
   },
   {
    "duration": 3,
    "start_time": "2024-12-18T06:53:36.760Z"
   },
   {
    "duration": 4,
    "start_time": "2024-12-18T06:53:36.765Z"
   },
   {
    "duration": 3,
    "start_time": "2024-12-18T06:53:36.771Z"
   },
   {
    "duration": 10,
    "start_time": "2024-12-18T06:53:36.776Z"
   },
   {
    "duration": 65,
    "start_time": "2024-12-18T06:53:36.787Z"
   },
   {
    "duration": 8,
    "start_time": "2024-12-18T06:53:36.853Z"
   },
   {
    "duration": 6,
    "start_time": "2024-12-18T06:53:36.863Z"
   },
   {
    "duration": 7,
    "start_time": "2024-12-18T06:53:36.872Z"
   },
   {
    "duration": 5,
    "start_time": "2024-12-18T06:53:36.882Z"
   },
   {
    "duration": 36,
    "start_time": "2024-12-18T06:53:36.889Z"
   },
   {
    "duration": 25,
    "start_time": "2024-12-18T06:53:36.926Z"
   },
   {
    "duration": 4,
    "start_time": "2024-12-18T06:53:36.953Z"
   },
   {
    "duration": 7,
    "start_time": "2024-12-18T06:53:36.958Z"
   },
   {
    "duration": 5,
    "start_time": "2024-12-18T06:53:36.967Z"
   },
   {
    "duration": 5,
    "start_time": "2024-12-18T06:53:36.974Z"
   },
   {
    "duration": 10866,
    "start_time": "2024-12-18T06:53:36.980Z"
   },
   {
    "duration": 531552,
    "start_time": "2024-12-18T06:53:47.849Z"
   },
   {
    "duration": 823,
    "start_time": "2024-12-18T07:05:14.149Z"
   },
   {
    "duration": 199,
    "start_time": "2024-12-18T07:05:14.974Z"
   },
   {
    "duration": 16,
    "start_time": "2024-12-18T07:05:15.175Z"
   },
   {
    "duration": 14,
    "start_time": "2024-12-18T07:05:15.193Z"
   },
   {
    "duration": 16,
    "start_time": "2024-12-18T07:05:15.209Z"
   },
   {
    "duration": 4,
    "start_time": "2024-12-18T07:05:15.227Z"
   },
   {
    "duration": 5,
    "start_time": "2024-12-18T07:05:15.232Z"
   },
   {
    "duration": 3,
    "start_time": "2024-12-18T07:05:15.239Z"
   },
   {
    "duration": 11,
    "start_time": "2024-12-18T07:05:15.244Z"
   },
   {
    "duration": 32,
    "start_time": "2024-12-18T07:05:15.259Z"
   },
   {
    "duration": 40,
    "start_time": "2024-12-18T07:05:15.292Z"
   },
   {
    "duration": 7,
    "start_time": "2024-12-18T07:05:15.333Z"
   },
   {
    "duration": 8,
    "start_time": "2024-12-18T07:05:15.341Z"
   },
   {
    "duration": 6,
    "start_time": "2024-12-18T07:05:15.350Z"
   },
   {
    "duration": 8,
    "start_time": "2024-12-18T07:05:15.357Z"
   },
   {
    "duration": 63,
    "start_time": "2024-12-18T07:05:15.367Z"
   },
   {
    "duration": 4,
    "start_time": "2024-12-18T07:05:15.432Z"
   },
   {
    "duration": 6,
    "start_time": "2024-12-18T07:05:15.437Z"
   },
   {
    "duration": 5,
    "start_time": "2024-12-18T07:05:15.445Z"
   },
   {
    "duration": 4,
    "start_time": "2024-12-18T07:05:15.451Z"
   },
   {
    "duration": 10757,
    "start_time": "2024-12-18T07:05:15.457Z"
   },
   {
    "duration": 530255,
    "start_time": "2024-12-18T07:05:26.217Z"
   },
   {
    "duration": 0,
    "start_time": "2024-12-18T08:07:55.751Z"
   },
   {
    "duration": 0,
    "start_time": "2024-12-18T08:07:55.753Z"
   },
   {
    "duration": 0,
    "start_time": "2024-12-18T08:07:55.755Z"
   },
   {
    "duration": 0,
    "start_time": "2024-12-18T08:07:55.757Z"
   },
   {
    "duration": 0,
    "start_time": "2024-12-18T08:07:55.759Z"
   },
   {
    "duration": 0,
    "start_time": "2024-12-18T08:07:55.761Z"
   },
   {
    "duration": 0,
    "start_time": "2024-12-18T08:07:55.764Z"
   },
   {
    "duration": 0,
    "start_time": "2024-12-18T08:07:55.766Z"
   },
   {
    "duration": 0,
    "start_time": "2024-12-18T08:07:55.768Z"
   },
   {
    "duration": 0,
    "start_time": "2024-12-18T08:07:55.769Z"
   },
   {
    "duration": 0,
    "start_time": "2024-12-18T08:07:55.771Z"
   },
   {
    "duration": 0,
    "start_time": "2024-12-18T08:07:55.824Z"
   },
   {
    "duration": 0,
    "start_time": "2024-12-18T08:07:55.825Z"
   },
   {
    "duration": 0,
    "start_time": "2024-12-18T08:07:55.826Z"
   },
   {
    "duration": 0,
    "start_time": "2024-12-18T08:07:55.827Z"
   },
   {
    "duration": 0,
    "start_time": "2024-12-18T08:07:55.828Z"
   },
   {
    "duration": 0,
    "start_time": "2024-12-18T08:07:55.829Z"
   },
   {
    "duration": 0,
    "start_time": "2024-12-18T08:07:55.830Z"
   },
   {
    "duration": 0,
    "start_time": "2024-12-18T08:07:55.831Z"
   },
   {
    "duration": 0,
    "start_time": "2024-12-18T08:07:55.832Z"
   },
   {
    "duration": 0,
    "start_time": "2024-12-18T08:07:55.833Z"
   },
   {
    "duration": 0,
    "start_time": "2024-12-18T08:07:55.833Z"
   },
   {
    "duration": 0,
    "start_time": "2024-12-18T08:07:55.835Z"
   },
   {
    "duration": 0,
    "start_time": "2024-12-18T08:07:55.835Z"
   },
   {
    "duration": 0,
    "start_time": "2024-12-18T08:07:55.836Z"
   },
   {
    "duration": 0,
    "start_time": "2024-12-18T08:07:55.837Z"
   },
   {
    "duration": 0,
    "start_time": "2024-12-18T08:07:55.838Z"
   },
   {
    "duration": 0,
    "start_time": "2024-12-18T08:07:55.839Z"
   },
   {
    "duration": 0,
    "start_time": "2024-12-18T08:07:55.840Z"
   },
   {
    "duration": 0,
    "start_time": "2024-12-18T08:07:55.841Z"
   },
   {
    "duration": 4,
    "start_time": "2024-12-18T08:08:17.150Z"
   },
   {
    "duration": 529781,
    "start_time": "2024-12-18T08:08:23.942Z"
   },
   {
    "duration": 5,
    "start_time": "2024-12-18T08:21:54.504Z"
   },
   {
    "duration": 16,
    "start_time": "2024-12-18T08:21:56.708Z"
   },
   {
    "duration": 13,
    "start_time": "2024-12-18T08:21:58.200Z"
   },
   {
    "duration": 4,
    "start_time": "2024-12-18T08:22:00.718Z"
   },
   {
    "duration": 4,
    "start_time": "2024-12-18T08:22:02.980Z"
   },
   {
    "duration": 4,
    "start_time": "2024-12-18T08:22:04.787Z"
   },
   {
    "duration": 3,
    "start_time": "2024-12-18T08:22:20.139Z"
   },
   {
    "duration": 11,
    "start_time": "2024-12-18T08:22:20.302Z"
   },
   {
    "duration": 31,
    "start_time": "2024-12-18T08:22:20.464Z"
   },
   {
    "duration": 10,
    "start_time": "2024-12-18T08:22:20.858Z"
   },
   {
    "duration": 6,
    "start_time": "2024-12-18T08:22:22.679Z"
   },
   {
    "duration": 8,
    "start_time": "2024-12-18T08:22:24.511Z"
   },
   {
    "duration": 5,
    "start_time": "2024-12-18T08:22:25.193Z"
   },
   {
    "duration": 8,
    "start_time": "2024-12-18T08:22:26.249Z"
   },
   {
    "duration": 24,
    "start_time": "2024-12-18T08:22:31.198Z"
   },
   {
    "duration": 5,
    "start_time": "2024-12-18T08:22:34.213Z"
   },
   {
    "duration": 6,
    "start_time": "2024-12-18T08:22:34.969Z"
   },
   {
    "duration": 7,
    "start_time": "2024-12-18T08:22:36.341Z"
   },
   {
    "duration": 4,
    "start_time": "2024-12-18T08:22:38.068Z"
   },
   {
    "duration": 10805,
    "start_time": "2024-12-18T08:22:41.599Z"
   },
   {
    "duration": 531877,
    "start_time": "2024-12-18T08:22:52.406Z"
   },
   {
    "duration": 2071546,
    "start_time": "2024-12-18T08:31:44.285Z"
   },
   {
    "duration": 102,
    "start_time": "2024-12-18T09:06:15.833Z"
   },
   {
    "duration": 4,
    "start_time": "2024-12-18T09:06:15.937Z"
   },
   {
    "duration": 12,
    "start_time": "2024-12-18T09:06:15.943Z"
   },
   {
    "duration": 353842,
    "start_time": "2024-12-18T09:06:15.958Z"
   },
   {
    "duration": 9,
    "start_time": "2024-12-18T09:12:09.802Z"
   },
   {
    "duration": 431748,
    "start_time": "2024-12-18T09:12:09.814Z"
   },
   {
    "duration": 348472,
    "start_time": "2024-12-18T09:19:21.566Z"
   },
   {
    "duration": 478141,
    "start_time": "2024-12-18T09:29:52.883Z"
   },
   {
    "duration": 3,
    "start_time": "2024-12-18T09:43:46.709Z"
   },
   {
    "duration": 8,
    "start_time": "2024-12-18T12:56:25.239Z"
   },
   {
    "duration": 2843,
    "start_time": "2024-12-18T12:56:37.359Z"
   },
   {
    "duration": 203,
    "start_time": "2024-12-18T12:56:40.205Z"
   },
   {
    "duration": 22,
    "start_time": "2024-12-18T12:56:40.411Z"
   },
   {
    "duration": 15,
    "start_time": "2024-12-18T12:56:40.435Z"
   },
   {
    "duration": 4,
    "start_time": "2024-12-18T12:56:40.456Z"
   },
   {
    "duration": 9,
    "start_time": "2024-12-18T12:56:40.462Z"
   },
   {
    "duration": 4,
    "start_time": "2024-12-18T12:56:40.474Z"
   },
   {
    "duration": 6,
    "start_time": "2024-12-18T12:56:40.480Z"
   },
   {
    "duration": 4,
    "start_time": "2024-12-18T12:56:40.488Z"
   },
   {
    "duration": 11,
    "start_time": "2024-12-18T12:56:40.493Z"
   },
   {
    "duration": 33,
    "start_time": "2024-12-18T12:56:40.506Z"
   },
   {
    "duration": 11,
    "start_time": "2024-12-18T12:56:40.569Z"
   },
   {
    "duration": 8,
    "start_time": "2024-12-18T12:56:40.582Z"
   },
   {
    "duration": 9,
    "start_time": "2024-12-18T12:56:40.594Z"
   },
   {
    "duration": 6,
    "start_time": "2024-12-18T12:56:40.605Z"
   },
   {
    "duration": 9,
    "start_time": "2024-12-18T12:56:40.613Z"
   },
   {
    "duration": 68,
    "start_time": "2024-12-18T12:56:40.624Z"
   },
   {
    "duration": 7,
    "start_time": "2024-12-18T12:56:40.693Z"
   },
   {
    "duration": 7,
    "start_time": "2024-12-18T12:56:40.702Z"
   },
   {
    "duration": 6,
    "start_time": "2024-12-18T12:56:40.711Z"
   },
   {
    "duration": 6,
    "start_time": "2024-12-18T12:56:40.719Z"
   },
   {
    "duration": 10771,
    "start_time": "2024-12-18T12:56:40.727Z"
   },
   {
    "duration": 524880,
    "start_time": "2024-12-18T12:56:51.500Z"
   },
   {
    "duration": 397902,
    "start_time": "2024-12-18T13:05:36.382Z"
   },
   {
    "duration": 0,
    "start_time": "2024-12-18T13:12:14.286Z"
   },
   {
    "duration": 0,
    "start_time": "2024-12-18T13:12:14.287Z"
   },
   {
    "duration": 0,
    "start_time": "2024-12-18T13:12:14.288Z"
   },
   {
    "duration": 0,
    "start_time": "2024-12-18T13:12:14.289Z"
   },
   {
    "duration": 0,
    "start_time": "2024-12-18T13:12:14.290Z"
   },
   {
    "duration": 0,
    "start_time": "2024-12-18T13:12:14.291Z"
   },
   {
    "duration": 109,
    "start_time": "2024-12-18T13:14:03.974Z"
   },
   {
    "duration": 4,
    "start_time": "2024-12-18T13:14:04.085Z"
   },
   {
    "duration": 8,
    "start_time": "2024-12-18T13:14:04.091Z"
   },
   {
    "duration": 334819,
    "start_time": "2024-12-18T13:14:04.101Z"
   },
   {
    "duration": 0,
    "start_time": "2024-12-18T13:19:38.921Z"
   },
   {
    "duration": 0,
    "start_time": "2024-12-18T13:19:38.923Z"
   },
   {
    "duration": 2528,
    "start_time": "2024-12-18T21:35:23.733Z"
   },
   {
    "duration": 159,
    "start_time": "2024-12-18T21:35:27.281Z"
   },
   {
    "duration": 21,
    "start_time": "2024-12-18T21:35:30.005Z"
   },
   {
    "duration": 15,
    "start_time": "2024-12-18T21:35:30.557Z"
   },
   {
    "duration": 4,
    "start_time": "2024-12-18T21:35:32.760Z"
   },
   {
    "duration": 4,
    "start_time": "2024-12-18T21:35:35.965Z"
   },
   {
    "duration": 4,
    "start_time": "2024-12-18T21:40:25.357Z"
   },
   {
    "duration": 4,
    "start_time": "2024-12-18T21:40:28.799Z"
   },
   {
    "duration": 3,
    "start_time": "2024-12-18T21:40:30.019Z"
   },
   {
    "duration": 10,
    "start_time": "2024-12-18T21:40:32.748Z"
   },
   {
    "duration": 27,
    "start_time": "2024-12-18T21:40:35.988Z"
   },
   {
    "duration": 10,
    "start_time": "2024-12-18T21:40:42.060Z"
   },
   {
    "duration": 142,
    "start_time": "2024-12-18T21:46:52.457Z"
   },
   {
    "duration": 4,
    "start_time": "2024-12-18T21:47:05.964Z"
   },
   {
    "duration": 8,
    "start_time": "2024-12-18T21:47:26.046Z"
   },
   {
    "duration": 5,
    "start_time": "2024-12-18T21:48:40.227Z"
   },
   {
    "duration": 6,
    "start_time": "2024-12-18T21:49:39.355Z"
   },
   {
    "duration": 6,
    "start_time": "2024-12-18T21:50:12.851Z"
   },
   {
    "duration": 6,
    "start_time": "2024-12-18T21:50:15.244Z"
   },
   {
    "duration": 13,
    "start_time": "2024-12-18T21:50:18.841Z"
   },
   {
    "duration": 6,
    "start_time": "2024-12-18T21:50:40.042Z"
   },
   {
    "duration": 7,
    "start_time": "2024-12-18T21:50:45.659Z"
   },
   {
    "duration": 5,
    "start_time": "2024-12-18T22:09:57.479Z"
   },
   {
    "duration": 5,
    "start_time": "2024-12-18T22:10:06.966Z"
   },
   {
    "duration": 5,
    "start_time": "2024-12-18T22:15:35.458Z"
   },
   {
    "duration": 5,
    "start_time": "2024-12-18T22:16:20.911Z"
   },
   {
    "duration": 5,
    "start_time": "2024-12-18T22:17:49.596Z"
   },
   {
    "duration": 7,
    "start_time": "2024-12-18T22:17:56.491Z"
   },
   {
    "duration": 7,
    "start_time": "2024-12-18T22:17:58.924Z"
   },
   {
    "duration": 3,
    "start_time": "2024-12-18T22:18:08.902Z"
   },
   {
    "duration": 3,
    "start_time": "2024-12-18T22:18:09.070Z"
   },
   {
    "duration": 16,
    "start_time": "2024-12-18T22:18:09.274Z"
   },
   {
    "duration": 9,
    "start_time": "2024-12-18T22:18:09.438Z"
   },
   {
    "duration": 3,
    "start_time": "2024-12-18T22:18:09.846Z"
   },
   {
    "duration": 4,
    "start_time": "2024-12-18T22:18:11.153Z"
   },
   {
    "duration": 4,
    "start_time": "2024-12-18T22:18:12.710Z"
   },
   {
    "duration": 4,
    "start_time": "2024-12-18T22:18:14.675Z"
   },
   {
    "duration": 3,
    "start_time": "2024-12-18T22:18:14.861Z"
   },
   {
    "duration": 10,
    "start_time": "2024-12-18T22:18:15.079Z"
   },
   {
    "duration": 31,
    "start_time": "2024-12-18T22:18:16.568Z"
   },
   {
    "duration": 9,
    "start_time": "2024-12-18T22:18:19.205Z"
   },
   {
    "duration": 6,
    "start_time": "2024-12-18T22:18:20.630Z"
   },
   {
    "duration": 7,
    "start_time": "2024-12-18T22:18:24.475Z"
   },
   {
    "duration": 6,
    "start_time": "2024-12-18T22:18:28.002Z"
   },
   {
    "duration": 5,
    "start_time": "2024-12-18T22:18:32.252Z"
   },
   {
    "duration": 6,
    "start_time": "2024-12-18T22:18:55.167Z"
   },
   {
    "duration": 5,
    "start_time": "2024-12-18T22:19:07.629Z"
   },
   {
    "duration": 7,
    "start_time": "2024-12-18T22:19:08.536Z"
   },
   {
    "duration": 3,
    "start_time": "2024-12-18T22:20:32.087Z"
   },
   {
    "duration": 11,
    "start_time": "2024-12-18T22:25:20.461Z"
   },
   {
    "duration": 10,
    "start_time": "2024-12-18T22:25:26.964Z"
   },
   {
    "duration": 247643,
    "start_time": "2024-12-18T22:46:17.537Z"
   },
   {
    "duration": 2,
    "start_time": "2024-12-19T00:14:15.643Z"
   },
   {
    "duration": 26,
    "start_time": "2024-12-19T00:14:19.270Z"
   },
   {
    "duration": 5,
    "start_time": "2024-12-19T00:14:19.750Z"
   },
   {
    "duration": 7,
    "start_time": "2024-12-19T00:14:19.918Z"
   },
   {
    "duration": 7,
    "start_time": "2024-12-19T00:14:20.280Z"
   },
   {
    "duration": 4,
    "start_time": "2024-12-19T00:14:20.499Z"
   },
   {
    "duration": 11719,
    "start_time": "2024-12-19T00:14:22.715Z"
   },
   {
    "duration": 8,
    "start_time": "2024-12-19T00:15:02.731Z"
   },
   {
    "duration": 7,
    "start_time": "2024-12-19T00:15:06.572Z"
   },
   {
    "duration": 8,
    "start_time": "2024-12-19T00:15:20.435Z"
   },
   {
    "duration": 125,
    "start_time": "2024-12-19T00:15:26.880Z"
   },
   {
    "duration": 139,
    "start_time": "2024-12-19T00:15:39.298Z"
   },
   {
    "duration": 3,
    "start_time": "2024-12-19T00:20:36.478Z"
   },
   {
    "duration": 9,
    "start_time": "2024-12-19T00:20:46.685Z"
   },
   {
    "duration": 130,
    "start_time": "2024-12-19T00:20:49.614Z"
   },
   {
    "duration": 139,
    "start_time": "2024-12-19T00:21:06.559Z"
   },
   {
    "duration": 121,
    "start_time": "2024-12-19T00:21:58.947Z"
   },
   {
    "duration": 2,
    "start_time": "2024-12-19T00:25:32.567Z"
   },
   {
    "duration": 3,
    "start_time": "2024-12-19T00:25:32.757Z"
   },
   {
    "duration": 15,
    "start_time": "2024-12-19T00:25:32.924Z"
   },
   {
    "duration": 10,
    "start_time": "2024-12-19T00:25:33.101Z"
   },
   {
    "duration": 3,
    "start_time": "2024-12-19T00:25:33.423Z"
   },
   {
    "duration": 5,
    "start_time": "2024-12-19T00:25:33.618Z"
   },
   {
    "duration": 4,
    "start_time": "2024-12-19T00:25:34.076Z"
   },
   {
    "duration": 4,
    "start_time": "2024-12-19T00:25:34.520Z"
   },
   {
    "duration": 4,
    "start_time": "2024-12-19T00:25:34.754Z"
   },
   {
    "duration": 10,
    "start_time": "2024-12-19T00:25:34.959Z"
   },
   {
    "duration": 32,
    "start_time": "2024-12-19T00:25:35.177Z"
   },
   {
    "duration": 10,
    "start_time": "2024-12-19T00:25:35.621Z"
   },
   {
    "duration": 5,
    "start_time": "2024-12-19T00:25:38.246Z"
   },
   {
    "duration": 7,
    "start_time": "2024-12-19T00:25:41.071Z"
   },
   {
    "duration": 8,
    "start_time": "2024-12-19T00:25:42.848Z"
   },
   {
    "duration": 5,
    "start_time": "2024-12-19T00:25:43.516Z"
   },
   {
    "duration": 6,
    "start_time": "2024-12-19T00:25:44.905Z"
   },
   {
    "duration": 6,
    "start_time": "2024-12-19T00:25:45.802Z"
   },
   {
    "duration": 9,
    "start_time": "2024-12-19T00:25:47.903Z"
   },
   {
    "duration": 127,
    "start_time": "2024-12-19T00:25:48.574Z"
   },
   {
    "duration": 121,
    "start_time": "2024-12-19T00:25:49.629Z"
   },
   {
    "duration": 670,
    "start_time": "2024-12-19T00:29:21.277Z"
   },
   {
    "duration": 124,
    "start_time": "2024-12-19T00:29:37.749Z"
   },
   {
    "duration": 210,
    "start_time": "2024-12-19T00:31:53.283Z"
   },
   {
    "duration": 66,
    "start_time": "2024-12-19T00:32:04.702Z"
   },
   {
    "duration": 206,
    "start_time": "2024-12-19T00:32:36.440Z"
   },
   {
    "duration": 175,
    "start_time": "2024-12-19T00:35:25.728Z"
   },
   {
    "duration": 197,
    "start_time": "2024-12-19T00:36:00.676Z"
   },
   {
    "duration": 168,
    "start_time": "2024-12-19T00:36:08.591Z"
   },
   {
    "duration": 220,
    "start_time": "2024-12-19T00:36:20.819Z"
   },
   {
    "duration": 185,
    "start_time": "2024-12-19T00:36:43.153Z"
   },
   {
    "duration": 143,
    "start_time": "2024-12-19T00:44:29.234Z"
   },
   {
    "duration": 126,
    "start_time": "2024-12-19T00:45:54.742Z"
   },
   {
    "duration": 117,
    "start_time": "2024-12-19T00:46:12.867Z"
   },
   {
    "duration": 126,
    "start_time": "2024-12-19T00:46:38.708Z"
   },
   {
    "duration": 2614,
    "start_time": "2024-12-19T03:53:13.148Z"
   },
   {
    "duration": 170,
    "start_time": "2024-12-19T03:53:15.764Z"
   },
   {
    "duration": 25,
    "start_time": "2024-12-19T03:53:15.935Z"
   },
   {
    "duration": 14,
    "start_time": "2024-12-19T03:53:15.962Z"
   },
   {
    "duration": 3,
    "start_time": "2024-12-19T03:53:15.978Z"
   },
   {
    "duration": 4,
    "start_time": "2024-12-19T03:53:15.983Z"
   },
   {
    "duration": 17,
    "start_time": "2024-12-19T03:53:15.988Z"
   },
   {
    "duration": 4,
    "start_time": "2024-12-19T03:53:16.007Z"
   },
   {
    "duration": 3,
    "start_time": "2024-12-19T03:53:16.012Z"
   },
   {
    "duration": 10,
    "start_time": "2024-12-19T03:53:16.152Z"
   },
   {
    "duration": 28,
    "start_time": "2024-12-19T03:53:16.363Z"
   },
   {
    "duration": 10,
    "start_time": "2024-12-19T03:53:24.463Z"
   },
   {
    "duration": 5,
    "start_time": "2024-12-19T03:53:26.228Z"
   },
   {
    "duration": 7,
    "start_time": "2024-12-19T03:53:27.623Z"
   },
   {
    "duration": 8,
    "start_time": "2024-12-19T03:53:36.459Z"
   },
   {
    "duration": 6,
    "start_time": "2024-12-19T03:53:36.664Z"
   },
   {
    "duration": 6,
    "start_time": "2024-12-19T03:53:42.865Z"
   },
   {
    "duration": 5,
    "start_time": "2024-12-19T03:53:44.386Z"
   },
   {
    "duration": 7,
    "start_time": "2024-12-19T03:53:59.564Z"
   },
   {
    "duration": 2,
    "start_time": "2024-12-19T04:00:07.504Z"
   },
   {
    "duration": 4,
    "start_time": "2024-12-19T04:00:07.707Z"
   },
   {
    "duration": 15,
    "start_time": "2024-12-19T04:00:07.875Z"
   },
   {
    "duration": 10,
    "start_time": "2024-12-19T04:00:08.092Z"
   },
   {
    "duration": 4,
    "start_time": "2024-12-19T04:00:10.034Z"
   },
   {
    "duration": 3,
    "start_time": "2024-12-19T04:00:10.183Z"
   },
   {
    "duration": 4,
    "start_time": "2024-12-19T04:00:10.491Z"
   },
   {
    "duration": 4,
    "start_time": "2024-12-19T04:00:10.795Z"
   },
   {
    "duration": 3,
    "start_time": "2024-12-19T04:00:10.976Z"
   },
   {
    "duration": 11,
    "start_time": "2024-12-19T04:00:11.127Z"
   },
   {
    "duration": 28,
    "start_time": "2024-12-19T04:00:11.322Z"
   },
   {
    "duration": 8,
    "start_time": "2024-12-19T04:00:11.673Z"
   },
   {
    "duration": 5,
    "start_time": "2024-12-19T04:00:12.043Z"
   },
   {
    "duration": 6,
    "start_time": "2024-12-19T04:00:12.637Z"
   },
   {
    "duration": 7,
    "start_time": "2024-12-19T04:00:13.744Z"
   },
   {
    "duration": 6,
    "start_time": "2024-12-19T04:00:13.910Z"
   },
   {
    "duration": 5,
    "start_time": "2024-12-19T04:00:15.098Z"
   },
   {
    "duration": 5,
    "start_time": "2024-12-19T04:00:15.263Z"
   },
   {
    "duration": 7,
    "start_time": "2024-12-19T04:00:17.290Z"
   },
   {
    "duration": 8,
    "start_time": "2024-12-19T04:00:35.983Z"
   },
   {
    "duration": 373,
    "start_time": "2024-12-19T04:00:36.198Z"
   },
   {
    "duration": 0,
    "start_time": "2024-12-19T04:00:36.572Z"
   },
   {
    "duration": 170,
    "start_time": "2024-12-19T04:00:38.068Z"
   },
   {
    "duration": 808,
    "start_time": "2024-12-19T04:05:09.877Z"
   },
   {
    "duration": 204,
    "start_time": "2024-12-19T04:05:10.687Z"
   },
   {
    "duration": 19,
    "start_time": "2024-12-19T04:05:10.893Z"
   },
   {
    "duration": 13,
    "start_time": "2024-12-19T04:05:10.915Z"
   },
   {
    "duration": 4,
    "start_time": "2024-12-19T04:05:10.929Z"
   },
   {
    "duration": 4,
    "start_time": "2024-12-19T04:05:10.934Z"
   },
   {
    "duration": 4,
    "start_time": "2024-12-19T04:05:10.939Z"
   },
   {
    "duration": 3,
    "start_time": "2024-12-19T04:05:10.945Z"
   },
   {
    "duration": 4,
    "start_time": "2024-12-19T04:05:10.950Z"
   },
   {
    "duration": 10,
    "start_time": "2024-12-19T04:05:10.957Z"
   },
   {
    "duration": 29,
    "start_time": "2024-12-19T04:05:11.005Z"
   },
   {
    "duration": 9,
    "start_time": "2024-12-19T04:05:11.035Z"
   },
   {
    "duration": 5,
    "start_time": "2024-12-19T04:05:11.046Z"
   },
   {
    "duration": 6,
    "start_time": "2024-12-19T04:05:11.053Z"
   },
   {
    "duration": 8,
    "start_time": "2024-12-19T04:05:11.060Z"
   },
   {
    "duration": 39,
    "start_time": "2024-12-19T04:05:11.069Z"
   },
   {
    "duration": 4,
    "start_time": "2024-12-19T04:05:11.110Z"
   },
   {
    "duration": 5,
    "start_time": "2024-12-19T04:05:11.115Z"
   },
   {
    "duration": 7,
    "start_time": "2024-12-19T04:05:11.122Z"
   },
   {
    "duration": 177,
    "start_time": "2024-12-19T04:05:11.130Z"
   },
   {
    "duration": 131,
    "start_time": "2024-12-19T04:05:11.309Z"
   },
   {
    "duration": 190,
    "start_time": "2024-12-19T04:05:11.441Z"
   },
   {
    "duration": 238,
    "start_time": "2024-12-19T04:05:11.632Z"
   },
   {
    "duration": 0,
    "start_time": "2024-12-19T04:05:11.872Z"
   },
   {
    "duration": 0,
    "start_time": "2024-12-19T04:05:11.874Z"
   },
   {
    "duration": 0,
    "start_time": "2024-12-19T04:05:11.875Z"
   },
   {
    "duration": 0,
    "start_time": "2024-12-19T04:05:11.877Z"
   },
   {
    "duration": 0,
    "start_time": "2024-12-19T04:05:11.878Z"
   },
   {
    "duration": 0,
    "start_time": "2024-12-19T04:05:11.880Z"
   },
   {
    "duration": 0,
    "start_time": "2024-12-19T04:05:11.881Z"
   },
   {
    "duration": 0,
    "start_time": "2024-12-19T04:05:11.883Z"
   },
   {
    "duration": 0,
    "start_time": "2024-12-19T04:05:11.905Z"
   },
   {
    "duration": 0,
    "start_time": "2024-12-19T04:05:11.906Z"
   },
   {
    "duration": 0,
    "start_time": "2024-12-19T04:05:11.908Z"
   },
   {
    "duration": 0,
    "start_time": "2024-12-19T04:05:11.909Z"
   },
   {
    "duration": 0,
    "start_time": "2024-12-19T04:05:11.910Z"
   },
   {
    "duration": 0,
    "start_time": "2024-12-19T04:05:11.912Z"
   },
   {
    "duration": 27,
    "start_time": "2024-12-19T04:13:01.337Z"
   },
   {
    "duration": 159,
    "start_time": "2024-12-19T07:03:07.770Z"
   },
   {
    "duration": 13,
    "start_time": "2024-12-19T07:03:17.419Z"
   },
   {
    "duration": 12,
    "start_time": "2024-12-19T07:03:27.870Z"
   },
   {
    "duration": 2540,
    "start_time": "2024-12-19T07:03:39.663Z"
   },
   {
    "duration": 220,
    "start_time": "2024-12-19T07:03:42.207Z"
   },
   {
    "duration": 27,
    "start_time": "2024-12-19T07:03:42.429Z"
   },
   {
    "duration": 13,
    "start_time": "2024-12-19T07:03:42.458Z"
   },
   {
    "duration": 3,
    "start_time": "2024-12-19T07:03:42.474Z"
   },
   {
    "duration": 4,
    "start_time": "2024-12-19T07:03:42.479Z"
   },
   {
    "duration": 4,
    "start_time": "2024-12-19T07:03:42.485Z"
   },
   {
    "duration": 3,
    "start_time": "2024-12-19T07:03:43.965Z"
   },
   {
    "duration": 4,
    "start_time": "2024-12-19T07:03:44.123Z"
   },
   {
    "duration": 11,
    "start_time": "2024-12-19T07:03:44.328Z"
   },
   {
    "duration": 32,
    "start_time": "2024-12-19T07:03:44.546Z"
   },
   {
    "duration": 9,
    "start_time": "2024-12-19T07:03:45.866Z"
   },
   {
    "duration": 6,
    "start_time": "2024-12-19T07:03:46.181Z"
   },
   {
    "duration": 7,
    "start_time": "2024-12-19T07:03:47.029Z"
   },
   {
    "duration": 10,
    "start_time": "2024-12-19T07:03:47.365Z"
   },
   {
    "duration": 6,
    "start_time": "2024-12-19T07:03:47.750Z"
   },
   {
    "duration": 6,
    "start_time": "2024-12-19T07:03:47.897Z"
   },
   {
    "duration": 5,
    "start_time": "2024-12-19T07:03:48.059Z"
   },
   {
    "duration": 8,
    "start_time": "2024-12-19T07:03:48.671Z"
   },
   {
    "duration": 140,
    "start_time": "2024-12-19T07:03:49.647Z"
   },
   {
    "duration": 118,
    "start_time": "2024-12-19T07:03:49.792Z"
   },
   {
    "duration": 176,
    "start_time": "2024-12-19T07:03:49.978Z"
   },
   {
    "duration": 4,
    "start_time": "2024-12-19T07:03:52.802Z"
   },
   {
    "duration": 87,
    "start_time": "2024-12-19T07:04:01.497Z"
   },
   {
    "duration": 7,
    "start_time": "2024-12-19T07:04:22.592Z"
   },
   {
    "duration": 7,
    "start_time": "2024-12-19T07:10:53.804Z"
   },
   {
    "duration": 4,
    "start_time": "2024-12-19T07:10:57.426Z"
   },
   {
    "duration": 49,
    "start_time": "2024-12-19T08:00:35.867Z"
   },
   {
    "duration": 4,
    "start_time": "2024-12-19T08:00:38.947Z"
   },
   {
    "duration": 25,
    "start_time": "2024-12-19T08:00:42.212Z"
   },
   {
    "duration": 5,
    "start_time": "2024-12-19T08:00:44.414Z"
   },
   {
    "duration": 4,
    "start_time": "2024-12-19T08:00:46.001Z"
   },
   {
    "duration": 39,
    "start_time": "2024-12-19T08:01:12.969Z"
   },
   {
    "duration": 5,
    "start_time": "2024-12-19T08:01:14.440Z"
   },
   {
    "duration": 28,
    "start_time": "2024-12-19T08:01:15.475Z"
   },
   {
    "duration": 5,
    "start_time": "2024-12-19T08:01:16.506Z"
   },
   {
    "duration": 4,
    "start_time": "2024-12-19T08:01:17.438Z"
   },
   {
    "duration": 31,
    "start_time": "2024-12-19T08:01:33.444Z"
   },
   {
    "duration": 55,
    "start_time": "2024-12-19T08:03:17.850Z"
   },
   {
    "duration": 50,
    "start_time": "2024-12-19T08:03:35.220Z"
   },
   {
    "duration": 5,
    "start_time": "2024-12-19T08:03:45.480Z"
   },
   {
    "duration": 34,
    "start_time": "2024-12-19T08:04:17.246Z"
   },
   {
    "duration": 4,
    "start_time": "2024-12-19T08:04:19.623Z"
   },
   {
    "duration": 4,
    "start_time": "2024-12-19T08:04:22.224Z"
   },
   {
    "duration": 32,
    "start_time": "2024-12-19T08:04:26.325Z"
   },
   {
    "duration": 138,
    "start_time": "2024-12-19T08:04:40.202Z"
   },
   {
    "duration": 125,
    "start_time": "2024-12-19T08:04:40.382Z"
   },
   {
    "duration": 176,
    "start_time": "2024-12-19T08:04:40.582Z"
   },
   {
    "duration": 4,
    "start_time": "2024-12-19T08:04:41.428Z"
   },
   {
    "duration": 54,
    "start_time": "2024-12-19T08:04:42.898Z"
   },
   {
    "duration": 5,
    "start_time": "2024-12-19T08:04:44.235Z"
   },
   {
    "duration": 29,
    "start_time": "2024-12-19T08:04:45.380Z"
   },
   {
    "duration": 4,
    "start_time": "2024-12-19T08:04:46.672Z"
   },
   {
    "duration": 4,
    "start_time": "2024-12-19T08:04:47.562Z"
   },
   {
    "duration": 33,
    "start_time": "2024-12-19T08:04:51.000Z"
   },
   {
    "duration": 55,
    "start_time": "2024-12-19T08:07:39.764Z"
   },
   {
    "duration": 5,
    "start_time": "2024-12-19T08:07:42.463Z"
   },
   {
    "duration": 30,
    "start_time": "2024-12-19T08:07:44.134Z"
   },
   {
    "duration": 4,
    "start_time": "2024-12-19T08:07:47.886Z"
   },
   {
    "duration": 52,
    "start_time": "2024-12-19T08:07:49.036Z"
   },
   {
    "duration": 4,
    "start_time": "2024-12-19T08:07:51.415Z"
   },
   {
    "duration": 30,
    "start_time": "2024-12-19T08:07:53.643Z"
   },
   {
    "duration": 4,
    "start_time": "2024-12-19T08:08:11.165Z"
   },
   {
    "duration": 4,
    "start_time": "2024-12-19T08:08:12.939Z"
   },
   {
    "duration": 42,
    "start_time": "2024-12-19T08:08:17.211Z"
   },
   {
    "duration": 4,
    "start_time": "2024-12-19T08:08:57.201Z"
   },
   {
    "duration": 53,
    "start_time": "2024-12-19T08:08:58.366Z"
   },
   {
    "duration": 5,
    "start_time": "2024-12-19T08:09:03.055Z"
   },
   {
    "duration": 29,
    "start_time": "2024-12-19T08:09:05.068Z"
   },
   {
    "duration": 4,
    "start_time": "2024-12-19T08:09:07.384Z"
   },
   {
    "duration": 4,
    "start_time": "2024-12-19T08:09:09.019Z"
   },
   {
    "duration": 31,
    "start_time": "2024-12-19T08:09:12.620Z"
   },
   {
    "duration": 700,
    "start_time": "2024-12-19T08:09:51.650Z"
   },
   {
    "duration": 38,
    "start_time": "2024-12-19T08:10:10.966Z"
   },
   {
    "duration": 57,
    "start_time": "2024-12-19T08:10:16.302Z"
   },
   {
    "duration": 4,
    "start_time": "2024-12-19T08:10:19.413Z"
   },
   {
    "duration": 29,
    "start_time": "2024-12-19T08:10:20.724Z"
   },
   {
    "duration": 5,
    "start_time": "2024-12-19T08:10:22.643Z"
   },
   {
    "duration": 5,
    "start_time": "2024-12-19T08:10:24.700Z"
   },
   {
    "duration": 30,
    "start_time": "2024-12-19T08:10:28.007Z"
   },
   {
    "duration": 14,
    "start_time": "2024-12-19T08:21:02.457Z"
   },
   {
    "duration": 15,
    "start_time": "2024-12-19T08:21:11.415Z"
   },
   {
    "duration": 5,
    "start_time": "2024-12-19T08:21:21.972Z"
   },
   {
    "duration": 95,
    "start_time": "2024-12-19T08:22:33.739Z"
   },
   {
    "duration": 68,
    "start_time": "2024-12-19T08:23:06.409Z"
   },
   {
    "duration": 54,
    "start_time": "2024-12-19T08:23:17.236Z"
   },
   {
    "duration": 4,
    "start_time": "2024-12-19T08:23:23.061Z"
   },
   {
    "duration": 4,
    "start_time": "2024-12-19T08:24:40.372Z"
   },
   {
    "duration": 48,
    "start_time": "2024-12-19T08:24:41.904Z"
   },
   {
    "duration": 4,
    "start_time": "2024-12-19T08:24:44.335Z"
   },
   {
    "duration": 29,
    "start_time": "2024-12-19T08:24:46.267Z"
   },
   {
    "duration": 4,
    "start_time": "2024-12-19T08:24:49.730Z"
   },
   {
    "duration": 4,
    "start_time": "2024-12-19T08:24:51.734Z"
   },
   {
    "duration": 4,
    "start_time": "2024-12-19T08:25:24.378Z"
   },
   {
    "duration": 4,
    "start_time": "2024-12-19T08:25:26.000Z"
   },
   {
    "duration": 33,
    "start_time": "2024-12-19T08:26:01.576Z"
   },
   {
    "duration": 18,
    "start_time": "2024-12-19T08:35:43.307Z"
   },
   {
    "duration": 5,
    "start_time": "2024-12-19T08:36:04.608Z"
   },
   {
    "duration": 52,
    "start_time": "2024-12-19T08:36:05.855Z"
   },
   {
    "duration": 18,
    "start_time": "2024-12-19T08:36:08.222Z"
   },
   {
    "duration": 40,
    "start_time": "2024-12-19T08:38:37.367Z"
   },
   {
    "duration": 25,
    "start_time": "2024-12-19T08:38:39.969Z"
   },
   {
    "duration": 39,
    "start_time": "2024-12-19T08:38:54.388Z"
   },
   {
    "duration": 6,
    "start_time": "2024-12-19T08:38:55.658Z"
   },
   {
    "duration": 169,
    "start_time": "2024-12-19T08:39:16.366Z"
   },
   {
    "duration": 5,
    "start_time": "2024-12-19T08:40:01.978Z"
   },
   {
    "duration": 41,
    "start_time": "2024-12-19T08:40:03.962Z"
   },
   {
    "duration": 6,
    "start_time": "2024-12-19T08:40:05.713Z"
   },
   {
    "duration": 5,
    "start_time": "2024-12-19T08:40:08.558Z"
   },
   {
    "duration": 5,
    "start_time": "2024-12-19T08:40:11.068Z"
   },
   {
    "duration": 5,
    "start_time": "2024-12-19T08:40:13.289Z"
   },
   {
    "duration": 152,
    "start_time": "2024-12-19T08:40:16.539Z"
   },
   {
    "duration": 2614,
    "start_time": "2024-12-19T21:01:30.535Z"
   },
   {
    "duration": 165,
    "start_time": "2024-12-19T21:01:33.151Z"
   },
   {
    "duration": 38,
    "start_time": "2024-12-19T21:01:33.318Z"
   },
   {
    "duration": 12,
    "start_time": "2024-12-19T21:01:33.359Z"
   },
   {
    "duration": 3,
    "start_time": "2024-12-19T21:01:33.373Z"
   },
   {
    "duration": 5,
    "start_time": "2024-12-19T21:01:33.378Z"
   },
   {
    "duration": 4,
    "start_time": "2024-12-19T21:01:33.384Z"
   },
   {
    "duration": 3,
    "start_time": "2024-12-19T21:01:33.390Z"
   },
   {
    "duration": 11,
    "start_time": "2024-12-19T21:01:33.395Z"
   },
   {
    "duration": 10,
    "start_time": "2024-12-19T21:01:33.409Z"
   },
   {
    "duration": 30,
    "start_time": "2024-12-19T21:01:33.420Z"
   },
   {
    "duration": 9,
    "start_time": "2024-12-19T21:01:33.452Z"
   },
   {
    "duration": 5,
    "start_time": "2024-12-19T21:01:34.017Z"
   },
   {
    "duration": 6,
    "start_time": "2024-12-19T21:01:35.671Z"
   },
   {
    "duration": 9,
    "start_time": "2024-12-19T21:01:36.014Z"
   },
   {
    "duration": 5,
    "start_time": "2024-12-19T21:01:36.177Z"
   },
   {
    "duration": 5,
    "start_time": "2024-12-19T21:01:36.555Z"
   },
   {
    "duration": 6,
    "start_time": "2024-12-19T21:01:37.343Z"
   },
   {
    "duration": 7,
    "start_time": "2024-12-19T21:02:23.853Z"
   },
   {
    "duration": 140,
    "start_time": "2024-12-19T21:02:24.035Z"
   },
   {
    "duration": 171,
    "start_time": "2024-12-19T21:02:24.229Z"
   },
   {
    "duration": 177,
    "start_time": "2024-12-19T21:02:24.465Z"
   },
   {
    "duration": 4,
    "start_time": "2024-12-19T21:03:46.153Z"
   },
   {
    "duration": 5,
    "start_time": "2024-12-19T21:03:46.348Z"
   },
   {
    "duration": 42,
    "start_time": "2024-12-19T21:03:46.477Z"
   },
   {
    "duration": 6,
    "start_time": "2024-12-19T21:03:46.629Z"
   },
   {
    "duration": 5,
    "start_time": "2024-12-19T21:03:46.790Z"
   },
   {
    "duration": 229,
    "start_time": "2024-12-19T21:03:46.948Z"
   },
   {
    "duration": 0,
    "start_time": "2024-12-19T21:03:47.179Z"
   },
   {
    "duration": 14,
    "start_time": "2024-12-19T21:04:22.862Z"
   },
   {
    "duration": 5,
    "start_time": "2024-12-19T21:04:28.899Z"
   },
   {
    "duration": 5,
    "start_time": "2024-12-19T21:04:31.932Z"
   },
   {
    "duration": 41,
    "start_time": "2024-12-19T21:04:33.804Z"
   },
   {
    "duration": 6,
    "start_time": "2024-12-19T21:04:35.330Z"
   },
   {
    "duration": 5,
    "start_time": "2024-12-19T21:04:36.969Z"
   },
   {
    "duration": 14,
    "start_time": "2024-12-19T21:04:38.044Z"
   },
   {
    "duration": 5,
    "start_time": "2024-12-19T21:05:00.336Z"
   },
   {
    "duration": 5,
    "start_time": "2024-12-19T21:05:02.631Z"
   },
   {
    "duration": 152,
    "start_time": "2024-12-19T21:05:07.096Z"
   },
   {
    "duration": 3,
    "start_time": "2024-12-19T21:06:27.743Z"
   },
   {
    "duration": 13,
    "start_time": "2024-12-19T21:06:49.146Z"
   },
   {
    "duration": 4,
    "start_time": "2024-12-19T21:07:03.905Z"
   },
   {
    "duration": 850,
    "start_time": "2024-12-19T21:07:51.134Z"
   },
   {
    "duration": 209,
    "start_time": "2024-12-19T21:07:52.053Z"
   },
   {
    "duration": 16,
    "start_time": "2024-12-19T21:07:53.710Z"
   },
   {
    "duration": 13,
    "start_time": "2024-12-19T21:07:54.905Z"
   },
   {
    "duration": 4,
    "start_time": "2024-12-19T21:07:58.752Z"
   },
   {
    "duration": 5,
    "start_time": "2024-12-19T21:08:01.717Z"
   },
   {
    "duration": 4,
    "start_time": "2024-12-19T21:08:03.885Z"
   },
   {
    "duration": 4,
    "start_time": "2024-12-19T21:08:05.589Z"
   },
   {
    "duration": 3,
    "start_time": "2024-12-19T21:08:07.883Z"
   },
   {
    "duration": 11,
    "start_time": "2024-12-19T21:08:12.999Z"
   },
   {
    "duration": 29,
    "start_time": "2024-12-19T21:08:14.888Z"
   },
   {
    "duration": 9,
    "start_time": "2024-12-19T21:08:17.271Z"
   },
   {
    "duration": 6,
    "start_time": "2024-12-19T21:08:18.521Z"
   },
   {
    "duration": 7,
    "start_time": "2024-12-19T21:08:22.188Z"
   },
   {
    "duration": 8,
    "start_time": "2024-12-19T21:08:38.503Z"
   },
   {
    "duration": 5,
    "start_time": "2024-12-19T21:08:39.995Z"
   },
   {
    "duration": 6,
    "start_time": "2024-12-19T21:08:42.569Z"
   },
   {
    "duration": 6,
    "start_time": "2024-12-19T21:08:43.439Z"
   },
   {
    "duration": 9,
    "start_time": "2024-12-19T21:08:48.000Z"
   },
   {
    "duration": 130,
    "start_time": "2024-12-19T21:08:50.288Z"
   },
   {
    "duration": 128,
    "start_time": "2024-12-19T21:08:51.653Z"
   },
   {
    "duration": 183,
    "start_time": "2024-12-19T21:08:52.743Z"
   },
   {
    "duration": 5,
    "start_time": "2024-12-19T21:08:56.509Z"
   },
   {
    "duration": 4,
    "start_time": "2024-12-19T21:08:59.228Z"
   },
   {
    "duration": 47,
    "start_time": "2024-12-19T21:09:50.672Z"
   },
   {
    "duration": 4,
    "start_time": "2024-12-19T21:10:01.861Z"
   },
   {
    "duration": 4,
    "start_time": "2024-12-19T21:10:08.120Z"
   },
   {
    "duration": 2,
    "start_time": "2024-12-19T21:10:57.325Z"
   },
   {
    "duration": 49,
    "start_time": "2024-12-19T21:14:01.458Z"
   },
   {
    "duration": 144,
    "start_time": "2024-12-19T21:14:08.308Z"
   },
   {
    "duration": 3,
    "start_time": "2024-12-19T21:14:09.314Z"
   },
   {
    "duration": 3,
    "start_time": "2024-12-19T21:14:10.222Z"
   },
   {
    "duration": 14,
    "start_time": "2024-12-19T21:14:21.203Z"
   },
   {
    "duration": 61,
    "start_time": "2024-12-19T21:14:29.962Z"
   },
   {
    "duration": 6,
    "start_time": "2024-12-19T21:14:31.524Z"
   },
   {
    "duration": 7,
    "start_time": "2024-12-19T21:14:35.423Z"
   },
   {
    "duration": 4,
    "start_time": "2024-12-19T21:14:40.464Z"
   },
   {
    "duration": 3,
    "start_time": "2024-12-19T21:14:40.900Z"
   },
   {
    "duration": 26637,
    "start_time": "2024-12-19T21:14:43.259Z"
   },
   {
    "duration": 95,
    "start_time": "2024-12-19T21:17:16.610Z"
   },
   {
    "duration": 305,
    "start_time": "2024-12-19T21:17:27.200Z"
   },
   {
    "duration": 3,
    "start_time": "2024-12-19T22:23:29.856Z"
   },
   {
    "duration": 3,
    "start_time": "2024-12-19T22:23:30.034Z"
   },
   {
    "duration": 15,
    "start_time": "2024-12-19T22:23:30.198Z"
   },
   {
    "duration": 10,
    "start_time": "2024-12-19T22:23:30.369Z"
   },
   {
    "duration": 4,
    "start_time": "2024-12-19T22:23:30.750Z"
   },
   {
    "duration": 4,
    "start_time": "2024-12-19T22:23:30.930Z"
   },
   {
    "duration": 4,
    "start_time": "2024-12-19T22:23:31.325Z"
   },
   {
    "duration": 4,
    "start_time": "2024-12-19T22:23:31.738Z"
   },
   {
    "duration": 3,
    "start_time": "2024-12-19T22:23:31.946Z"
   },
   {
    "duration": 10,
    "start_time": "2024-12-19T22:23:32.133Z"
   },
   {
    "duration": 30,
    "start_time": "2024-12-19T22:23:32.310Z"
   },
   {
    "duration": 9,
    "start_time": "2024-12-19T22:23:32.683Z"
   },
   {
    "duration": 6,
    "start_time": "2024-12-19T22:23:33.031Z"
   },
   {
    "duration": 6,
    "start_time": "2024-12-19T22:23:33.586Z"
   },
   {
    "duration": 7,
    "start_time": "2024-12-19T22:23:33.936Z"
   },
   {
    "duration": 6,
    "start_time": "2024-12-19T22:23:34.116Z"
   },
   {
    "duration": 4,
    "start_time": "2024-12-19T22:23:34.532Z"
   },
   {
    "duration": 6,
    "start_time": "2024-12-19T22:23:34.733Z"
   },
   {
    "duration": 8,
    "start_time": "2024-12-19T22:23:35.342Z"
   },
   {
    "duration": 345,
    "start_time": "2024-12-19T22:23:35.534Z"
   },
   {
    "duration": 0,
    "start_time": "2024-12-19T22:23:35.881Z"
   },
   {
    "duration": 175,
    "start_time": "2024-12-19T22:23:35.976Z"
   },
   {
    "duration": 5,
    "start_time": "2024-12-19T22:23:36.782Z"
   },
   {
    "duration": 4,
    "start_time": "2024-12-19T22:23:36.983Z"
   },
   {
    "duration": 5,
    "start_time": "2024-12-19T22:23:37.244Z"
   },
   {
    "duration": 46,
    "start_time": "2024-12-19T22:23:37.483Z"
   },
   {
    "duration": 134,
    "start_time": "2024-12-19T22:23:37.705Z"
   },
   {
    "duration": 5,
    "start_time": "2024-12-19T22:23:42.728Z"
   },
   {
    "duration": 4,
    "start_time": "2024-12-19T22:23:42.910Z"
   },
   {
    "duration": 9,
    "start_time": "2024-12-19T22:23:43.076Z"
   },
   {
    "duration": 58,
    "start_time": "2024-12-19T22:23:43.289Z"
   },
   {
    "duration": 6,
    "start_time": "2024-12-19T22:23:44.703Z"
   },
   {
    "duration": 7,
    "start_time": "2024-12-19T22:23:44.849Z"
   },
   {
    "duration": 4,
    "start_time": "2024-12-19T22:24:02.254Z"
   },
   {
    "duration": 3,
    "start_time": "2024-12-19T22:24:02.801Z"
   },
   {
    "duration": 26206,
    "start_time": "2024-12-19T22:24:03.721Z"
   },
   {
    "duration": 785,
    "start_time": "2024-12-19T22:25:50.599Z"
   },
   {
    "duration": 219,
    "start_time": "2024-12-19T22:25:51.386Z"
   },
   {
    "duration": 19,
    "start_time": "2024-12-19T22:25:51.607Z"
   },
   {
    "duration": 14,
    "start_time": "2024-12-19T22:25:51.628Z"
   },
   {
    "duration": 6,
    "start_time": "2024-12-19T22:25:51.644Z"
   },
   {
    "duration": 3,
    "start_time": "2024-12-19T22:25:51.652Z"
   },
   {
    "duration": 4,
    "start_time": "2024-12-19T22:25:51.657Z"
   },
   {
    "duration": 4,
    "start_time": "2024-12-19T22:25:51.663Z"
   },
   {
    "duration": 38,
    "start_time": "2024-12-19T22:25:51.668Z"
   },
   {
    "duration": 11,
    "start_time": "2024-12-19T22:25:51.710Z"
   },
   {
    "duration": 28,
    "start_time": "2024-12-19T22:25:51.722Z"
   },
   {
    "duration": 8,
    "start_time": "2024-12-19T22:25:51.752Z"
   },
   {
    "duration": 5,
    "start_time": "2024-12-19T22:25:51.762Z"
   },
   {
    "duration": 38,
    "start_time": "2024-12-19T22:25:51.768Z"
   },
   {
    "duration": 7,
    "start_time": "2024-12-19T22:25:51.808Z"
   },
   {
    "duration": 6,
    "start_time": "2024-12-19T22:25:51.816Z"
   },
   {
    "duration": 5,
    "start_time": "2024-12-19T22:25:51.823Z"
   },
   {
    "duration": 5,
    "start_time": "2024-12-19T22:25:51.830Z"
   },
   {
    "duration": 6,
    "start_time": "2024-12-19T22:25:51.837Z"
   },
   {
    "duration": 171,
    "start_time": "2024-12-19T22:25:51.844Z"
   },
   {
    "duration": 136,
    "start_time": "2024-12-19T22:25:52.017Z"
   },
   {
    "duration": 194,
    "start_time": "2024-12-19T22:25:52.155Z"
   },
   {
    "duration": 5,
    "start_time": "2024-12-19T22:25:52.350Z"
   },
   {
    "duration": 4,
    "start_time": "2024-12-19T22:25:52.357Z"
   },
   {
    "duration": 2,
    "start_time": "2024-12-19T22:25:52.363Z"
   },
   {
    "duration": 77,
    "start_time": "2024-12-19T22:25:52.367Z"
   },
   {
    "duration": 155,
    "start_time": "2024-12-19T22:25:52.446Z"
   },
   {
    "duration": 5,
    "start_time": "2024-12-19T22:25:52.606Z"
   },
   {
    "duration": 7,
    "start_time": "2024-12-19T22:25:52.612Z"
   },
   {
    "duration": 22,
    "start_time": "2024-12-19T22:25:52.621Z"
   },
   {
    "duration": 62,
    "start_time": "2024-12-19T22:25:52.645Z"
   },
   {
    "duration": 8,
    "start_time": "2024-12-19T22:25:52.709Z"
   },
   {
    "duration": 7,
    "start_time": "2024-12-19T22:25:52.719Z"
   },
   {
    "duration": 6,
    "start_time": "2024-12-19T22:25:52.732Z"
   },
   {
    "duration": 2,
    "start_time": "2024-12-19T22:25:52.740Z"
   },
   {
    "duration": 26932,
    "start_time": "2024-12-19T22:25:52.744Z"
   },
   {
    "duration": 164,
    "start_time": "2024-12-19T22:26:19.678Z"
   },
   {
    "duration": 6,
    "start_time": "2024-12-19T22:26:19.847Z"
   },
   {
    "duration": 325,
    "start_time": "2024-12-19T22:26:19.855Z"
   },
   {
    "duration": 824,
    "start_time": "2024-12-19T22:46:02.762Z"
   },
   {
    "duration": 212,
    "start_time": "2024-12-19T22:46:03.588Z"
   },
   {
    "duration": 16,
    "start_time": "2024-12-19T22:46:03.802Z"
   },
   {
    "duration": 12,
    "start_time": "2024-12-19T22:46:03.820Z"
   },
   {
    "duration": 4,
    "start_time": "2024-12-19T22:46:03.836Z"
   },
   {
    "duration": 4,
    "start_time": "2024-12-19T22:46:03.842Z"
   },
   {
    "duration": 4,
    "start_time": "2024-12-19T22:46:03.848Z"
   },
   {
    "duration": 4,
    "start_time": "2024-12-19T22:46:03.853Z"
   },
   {
    "duration": 4,
    "start_time": "2024-12-19T22:46:03.859Z"
   },
   {
    "duration": 47,
    "start_time": "2024-12-19T22:46:03.865Z"
   },
   {
    "duration": 29,
    "start_time": "2024-12-19T22:46:03.913Z"
   },
   {
    "duration": 8,
    "start_time": "2024-12-19T22:46:03.943Z"
   },
   {
    "duration": 5,
    "start_time": "2024-12-19T22:46:03.953Z"
   },
   {
    "duration": 15,
    "start_time": "2024-12-19T22:46:03.961Z"
   },
   {
    "duration": 28,
    "start_time": "2024-12-19T22:46:03.978Z"
   },
   {
    "duration": 6,
    "start_time": "2024-12-19T22:46:04.008Z"
   },
   {
    "duration": 7,
    "start_time": "2024-12-19T22:46:04.016Z"
   },
   {
    "duration": 6,
    "start_time": "2024-12-19T22:46:04.025Z"
   },
   {
    "duration": 8,
    "start_time": "2024-12-19T22:46:04.033Z"
   },
   {
    "duration": 176,
    "start_time": "2024-12-19T22:46:04.042Z"
   },
   {
    "duration": 130,
    "start_time": "2024-12-19T22:46:04.220Z"
   },
   {
    "duration": 184,
    "start_time": "2024-12-19T22:46:04.352Z"
   },
   {
    "duration": 4,
    "start_time": "2024-12-19T22:46:04.538Z"
   },
   {
    "duration": 4,
    "start_time": "2024-12-19T22:46:04.545Z"
   },
   {
    "duration": 3,
    "start_time": "2024-12-19T22:46:04.550Z"
   },
   {
    "duration": 72,
    "start_time": "2024-12-19T22:46:04.555Z"
   },
   {
    "duration": 150,
    "start_time": "2024-12-19T22:46:04.629Z"
   },
   {
    "duration": 4,
    "start_time": "2024-12-19T22:46:04.781Z"
   },
   {
    "duration": 18,
    "start_time": "2024-12-19T22:46:04.787Z"
   },
   {
    "duration": 15,
    "start_time": "2024-12-19T22:46:04.807Z"
   },
   {
    "duration": 50,
    "start_time": "2024-12-19T22:46:04.823Z"
   },
   {
    "duration": 7,
    "start_time": "2024-12-19T22:46:04.876Z"
   },
   {
    "duration": 25,
    "start_time": "2024-12-19T22:46:04.884Z"
   },
   {
    "duration": 4,
    "start_time": "2024-12-19T22:46:04.912Z"
   },
   {
    "duration": 6,
    "start_time": "2024-12-19T22:46:04.919Z"
   },
   {
    "duration": 26552,
    "start_time": "2024-12-19T22:46:04.926Z"
   },
   {
    "duration": 101,
    "start_time": "2024-12-19T22:46:31.480Z"
   },
   {
    "duration": 4,
    "start_time": "2024-12-19T22:46:31.583Z"
   },
   {
    "duration": 330,
    "start_time": "2024-12-19T22:46:31.589Z"
   },
   {
    "duration": 658733,
    "start_time": "2024-12-19T22:46:31.923Z"
   },
   {
    "duration": 0,
    "start_time": "2024-12-19T22:57:30.658Z"
   },
   {
    "duration": 173,
    "start_time": "2024-12-19T23:53:11.412Z"
   },
   {
    "duration": 2660,
    "start_time": "2024-12-19T23:54:45.541Z"
   },
   {
    "duration": 179,
    "start_time": "2024-12-19T23:54:48.204Z"
   },
   {
    "duration": 22,
    "start_time": "2024-12-19T23:54:48.385Z"
   },
   {
    "duration": 13,
    "start_time": "2024-12-19T23:54:48.409Z"
   },
   {
    "duration": 4,
    "start_time": "2024-12-19T23:54:48.430Z"
   },
   {
    "duration": 5,
    "start_time": "2024-12-19T23:54:48.436Z"
   },
   {
    "duration": 4,
    "start_time": "2024-12-19T23:54:48.443Z"
   },
   {
    "duration": 4,
    "start_time": "2024-12-19T23:54:48.448Z"
   },
   {
    "duration": 4,
    "start_time": "2024-12-19T23:54:48.454Z"
   },
   {
    "duration": 11,
    "start_time": "2024-12-19T23:54:48.460Z"
   },
   {
    "duration": 65,
    "start_time": "2024-12-19T23:54:48.473Z"
   },
   {
    "duration": 8,
    "start_time": "2024-12-19T23:54:48.540Z"
   },
   {
    "duration": 6,
    "start_time": "2024-12-19T23:54:48.550Z"
   },
   {
    "duration": 6,
    "start_time": "2024-12-19T23:54:48.560Z"
   },
   {
    "duration": 7,
    "start_time": "2024-12-19T23:54:48.568Z"
   },
   {
    "duration": 6,
    "start_time": "2024-12-19T23:54:48.577Z"
   },
   {
    "duration": 6,
    "start_time": "2024-12-19T23:54:48.584Z"
   },
   {
    "duration": 44,
    "start_time": "2024-12-19T23:54:48.592Z"
   },
   {
    "duration": 8,
    "start_time": "2024-12-19T23:54:48.638Z"
   },
   {
    "duration": 160,
    "start_time": "2024-12-19T23:54:48.648Z"
   },
   {
    "duration": 140,
    "start_time": "2024-12-19T23:54:48.810Z"
   },
   {
    "duration": 193,
    "start_time": "2024-12-19T23:54:48.952Z"
   },
   {
    "duration": 5,
    "start_time": "2024-12-19T23:54:49.147Z"
   },
   {
    "duration": 5,
    "start_time": "2024-12-19T23:54:49.153Z"
   },
   {
    "duration": 3,
    "start_time": "2024-12-19T23:54:49.160Z"
   },
   {
    "duration": 76,
    "start_time": "2024-12-19T23:54:49.164Z"
   },
   {
    "duration": 160,
    "start_time": "2024-12-19T23:54:49.242Z"
   },
   {
    "duration": 4,
    "start_time": "2024-12-19T23:54:49.406Z"
   },
   {
    "duration": 4,
    "start_time": "2024-12-19T23:54:49.412Z"
   },
   {
    "duration": 15,
    "start_time": "2024-12-19T23:54:49.432Z"
   },
   {
    "duration": 50,
    "start_time": "2024-12-19T23:54:49.449Z"
   },
   {
    "duration": 7,
    "start_time": "2024-12-19T23:54:49.500Z"
   },
   {
    "duration": 27,
    "start_time": "2024-12-19T23:54:49.509Z"
   },
   {
    "duration": 4,
    "start_time": "2024-12-19T23:54:49.538Z"
   },
   {
    "duration": 3,
    "start_time": "2024-12-19T23:54:49.543Z"
   },
   {
    "duration": 27667,
    "start_time": "2024-12-19T23:54:49.548Z"
   },
   {
    "duration": 98,
    "start_time": "2024-12-19T23:55:17.216Z"
   },
   {
    "duration": 16,
    "start_time": "2024-12-19T23:55:17.315Z"
   },
   {
    "duration": 308,
    "start_time": "2024-12-19T23:55:17.333Z"
   },
   {
    "duration": 664564,
    "start_time": "2024-12-19T23:55:17.643Z"
   },
   {
    "duration": 0,
    "start_time": "2024-12-20T00:06:22.209Z"
   },
   {
    "duration": 0,
    "start_time": "2024-12-20T00:06:22.210Z"
   },
   {
    "duration": 630181,
    "start_time": "2024-12-20T00:09:51.990Z"
   },
   {
    "duration": 801,
    "start_time": "2024-12-20T04:39:15.973Z"
   },
   {
    "duration": 202,
    "start_time": "2024-12-20T04:39:16.776Z"
   },
   {
    "duration": 15,
    "start_time": "2024-12-20T04:39:16.979Z"
   },
   {
    "duration": 12,
    "start_time": "2024-12-20T04:39:16.996Z"
   },
   {
    "duration": 4,
    "start_time": "2024-12-20T04:39:17.011Z"
   },
   {
    "duration": 4,
    "start_time": "2024-12-20T04:39:17.016Z"
   },
   {
    "duration": 25,
    "start_time": "2024-12-20T04:39:17.022Z"
   },
   {
    "duration": 3,
    "start_time": "2024-12-20T04:39:17.049Z"
   },
   {
    "duration": 3,
    "start_time": "2024-12-20T04:39:17.054Z"
   },
   {
    "duration": 10,
    "start_time": "2024-12-20T04:39:17.059Z"
   },
   {
    "duration": 28,
    "start_time": "2024-12-20T04:39:17.070Z"
   },
   {
    "duration": 9,
    "start_time": "2024-12-20T04:39:17.099Z"
   },
   {
    "duration": 35,
    "start_time": "2024-12-20T04:39:17.110Z"
   },
   {
    "duration": 6,
    "start_time": "2024-12-20T04:39:17.150Z"
   },
   {
    "duration": 7,
    "start_time": "2024-12-20T04:39:17.157Z"
   },
   {
    "duration": 6,
    "start_time": "2024-12-20T04:39:17.165Z"
   },
   {
    "duration": 5,
    "start_time": "2024-12-20T04:39:17.172Z"
   },
   {
    "duration": 5,
    "start_time": "2024-12-20T04:39:17.178Z"
   },
   {
    "duration": 8,
    "start_time": "2024-12-20T04:39:17.184Z"
   },
   {
    "duration": 181,
    "start_time": "2024-12-20T04:39:17.193Z"
   },
   {
    "duration": 131,
    "start_time": "2024-12-20T04:39:17.375Z"
   },
   {
    "duration": 190,
    "start_time": "2024-12-20T04:39:17.507Z"
   },
   {
    "duration": 7,
    "start_time": "2024-12-20T04:39:17.699Z"
   },
   {
    "duration": 5,
    "start_time": "2024-12-20T04:39:17.709Z"
   },
   {
    "duration": 2,
    "start_time": "2024-12-20T04:39:17.715Z"
   },
   {
    "duration": 71,
    "start_time": "2024-12-20T04:39:17.719Z"
   },
   {
    "duration": 146,
    "start_time": "2024-12-20T04:39:17.792Z"
   },
   {
    "duration": 5,
    "start_time": "2024-12-20T04:39:17.939Z"
   },
   {
    "duration": 3,
    "start_time": "2024-12-20T04:39:17.946Z"
   },
   {
    "duration": 14,
    "start_time": "2024-12-20T04:39:17.951Z"
   },
   {
    "duration": 50,
    "start_time": "2024-12-20T04:39:17.966Z"
   },
   {
    "duration": 30,
    "start_time": "2024-12-20T04:39:18.017Z"
   },
   {
    "duration": 7,
    "start_time": "2024-12-20T04:39:18.048Z"
   },
   {
    "duration": 4,
    "start_time": "2024-12-20T04:39:18.057Z"
   },
   {
    "duration": 3,
    "start_time": "2024-12-20T04:39:18.063Z"
   },
   {
    "duration": 25785,
    "start_time": "2024-12-20T04:39:18.067Z"
   },
   {
    "duration": 102,
    "start_time": "2024-12-20T04:39:43.854Z"
   },
   {
    "duration": 4,
    "start_time": "2024-12-20T04:39:43.958Z"
   },
   {
    "duration": 306,
    "start_time": "2024-12-20T04:39:43.964Z"
   },
   {
    "duration": 674342,
    "start_time": "2024-12-20T04:39:44.271Z"
   },
   {
    "duration": 0,
    "start_time": "2024-12-20T04:50:58.615Z"
   },
   {
    "duration": 0,
    "start_time": "2024-12-20T04:50:58.615Z"
   },
   {
    "duration": 549,
    "start_time": "2024-12-20T05:41:49.094Z"
   },
   {
    "duration": 158,
    "start_time": "2024-12-21T08:34:38.675Z"
   },
   {
    "duration": 2455,
    "start_time": "2024-12-21T08:49:14.491Z"
   },
   {
    "duration": 164,
    "start_time": "2024-12-21T08:49:16.949Z"
   },
   {
    "duration": 27,
    "start_time": "2024-12-21T08:49:17.115Z"
   },
   {
    "duration": 12,
    "start_time": "2024-12-21T08:49:17.143Z"
   },
   {
    "duration": 3,
    "start_time": "2024-12-21T08:49:17.157Z"
   },
   {
    "duration": 7,
    "start_time": "2024-12-21T08:49:17.162Z"
   },
   {
    "duration": 4,
    "start_time": "2024-12-21T08:49:17.170Z"
   },
   {
    "duration": 8,
    "start_time": "2024-12-21T08:49:17.176Z"
   },
   {
    "duration": 4,
    "start_time": "2024-12-21T08:49:17.185Z"
   },
   {
    "duration": 13,
    "start_time": "2024-12-21T08:49:17.211Z"
   },
   {
    "duration": 40,
    "start_time": "2024-12-21T08:49:17.226Z"
   },
   {
    "duration": 11,
    "start_time": "2024-12-21T08:49:17.267Z"
   },
   {
    "duration": 6,
    "start_time": "2024-12-21T08:49:17.280Z"
   },
   {
    "duration": 27,
    "start_time": "2024-12-21T08:49:17.288Z"
   },
   {
    "duration": 8,
    "start_time": "2024-12-21T08:49:17.318Z"
   },
   {
    "duration": 5,
    "start_time": "2024-12-21T08:49:17.328Z"
   },
   {
    "duration": 5,
    "start_time": "2024-12-21T08:49:17.335Z"
   },
   {
    "duration": 5,
    "start_time": "2024-12-21T08:49:17.342Z"
   },
   {
    "duration": 7,
    "start_time": "2024-12-21T08:49:17.349Z"
   },
   {
    "duration": 181,
    "start_time": "2024-12-21T08:49:17.358Z"
   },
   {
    "duration": 194,
    "start_time": "2024-12-21T08:49:17.541Z"
   },
   {
    "duration": 190,
    "start_time": "2024-12-21T08:49:17.737Z"
   },
   {
    "duration": 5,
    "start_time": "2024-12-21T08:49:17.930Z"
   },
   {
    "duration": 4,
    "start_time": "2024-12-21T08:49:17.937Z"
   },
   {
    "duration": 68,
    "start_time": "2024-12-21T08:49:17.943Z"
   },
   {
    "duration": 153,
    "start_time": "2024-12-21T08:49:18.013Z"
   },
   {
    "duration": 5,
    "start_time": "2024-12-21T08:49:18.168Z"
   },
   {
    "duration": 4,
    "start_time": "2024-12-21T08:49:18.177Z"
   },
   {
    "duration": 27,
    "start_time": "2024-12-21T08:49:18.183Z"
   },
   {
    "duration": 25,
    "start_time": "2024-12-21T08:49:18.212Z"
   },
   {
    "duration": 5,
    "start_time": "2024-12-21T08:49:18.238Z"
   },
   {
    "duration": 5,
    "start_time": "2024-12-21T08:49:18.245Z"
   },
   {
    "duration": 255,
    "start_time": "2024-12-21T08:49:18.251Z"
   },
   {
    "duration": 0,
    "start_time": "2024-12-21T08:49:18.509Z"
   },
   {
    "duration": 0,
    "start_time": "2024-12-21T08:49:18.510Z"
   },
   {
    "duration": 0,
    "start_time": "2024-12-21T08:49:18.512Z"
   },
   {
    "duration": 0,
    "start_time": "2024-12-21T08:49:18.513Z"
   },
   {
    "duration": 0,
    "start_time": "2024-12-21T08:49:18.515Z"
   },
   {
    "duration": 0,
    "start_time": "2024-12-21T08:49:18.516Z"
   },
   {
    "duration": 0,
    "start_time": "2024-12-21T08:49:18.518Z"
   },
   {
    "duration": 0,
    "start_time": "2024-12-21T08:49:18.519Z"
   },
   {
    "duration": 0,
    "start_time": "2024-12-21T08:49:18.520Z"
   },
   {
    "duration": 189,
    "start_time": "2024-12-21T08:51:48.207Z"
   },
   {
    "duration": 303,
    "start_time": "2024-12-21T08:51:55.010Z"
   },
   {
    "duration": 303,
    "start_time": "2024-12-21T08:52:05.616Z"
   },
   {
    "duration": 4,
    "start_time": "2024-12-21T08:52:11.156Z"
   },
   {
    "duration": 3,
    "start_time": "2024-12-21T08:52:11.574Z"
   },
   {
    "duration": 185,
    "start_time": "2024-12-21T08:52:26.206Z"
   },
   {
    "duration": 179,
    "start_time": "2024-12-21T08:53:24.187Z"
   },
   {
    "duration": 397,
    "start_time": "2024-12-21T08:54:45.715Z"
   },
   {
    "duration": 179,
    "start_time": "2024-12-21T08:55:06.337Z"
   },
   {
    "duration": 113,
    "start_time": "2024-12-21T08:55:17.192Z"
   },
   {
    "duration": 796,
    "start_time": "2024-12-21T08:55:22.495Z"
   },
   {
    "duration": 205,
    "start_time": "2024-12-21T08:55:23.293Z"
   },
   {
    "duration": 20,
    "start_time": "2024-12-21T08:55:23.499Z"
   },
   {
    "duration": 12,
    "start_time": "2024-12-21T08:55:23.521Z"
   },
   {
    "duration": 4,
    "start_time": "2024-12-21T08:55:23.534Z"
   },
   {
    "duration": 4,
    "start_time": "2024-12-21T08:55:23.539Z"
   },
   {
    "duration": 4,
    "start_time": "2024-12-21T08:55:23.545Z"
   },
   {
    "duration": 4,
    "start_time": "2024-12-21T08:55:23.551Z"
   },
   {
    "duration": 3,
    "start_time": "2024-12-21T08:55:23.556Z"
   },
   {
    "duration": 47,
    "start_time": "2024-12-21T08:55:23.562Z"
   },
   {
    "duration": 27,
    "start_time": "2024-12-21T08:55:23.611Z"
   },
   {
    "duration": 8,
    "start_time": "2024-12-21T08:55:23.639Z"
   },
   {
    "duration": 4,
    "start_time": "2024-12-21T08:55:23.649Z"
   },
   {
    "duration": 7,
    "start_time": "2024-12-21T08:55:23.654Z"
   },
   {
    "duration": 7,
    "start_time": "2024-12-21T08:55:23.662Z"
   },
   {
    "duration": 5,
    "start_time": "2024-12-21T08:55:23.670Z"
   },
   {
    "duration": 36,
    "start_time": "2024-12-21T08:55:23.676Z"
   },
   {
    "duration": 5,
    "start_time": "2024-12-21T08:55:23.714Z"
   },
   {
    "duration": 6,
    "start_time": "2024-12-21T08:55:23.721Z"
   },
   {
    "duration": 161,
    "start_time": "2024-12-21T08:55:23.729Z"
   },
   {
    "duration": 134,
    "start_time": "2024-12-21T08:55:23.892Z"
   },
   {
    "duration": 186,
    "start_time": "2024-12-21T08:55:24.028Z"
   },
   {
    "duration": 4,
    "start_time": "2024-12-21T08:55:24.216Z"
   },
   {
    "duration": 4,
    "start_time": "2024-12-21T08:55:24.222Z"
   },
   {
    "duration": 52,
    "start_time": "2024-12-21T08:55:24.228Z"
   },
   {
    "duration": 165,
    "start_time": "2024-12-21T08:55:24.282Z"
   },
   {
    "duration": 4,
    "start_time": "2024-12-21T08:55:24.449Z"
   },
   {
    "duration": 3,
    "start_time": "2024-12-21T08:55:24.458Z"
   },
   {
    "duration": 15,
    "start_time": "2024-12-21T08:55:24.464Z"
   },
   {
    "duration": 45,
    "start_time": "2024-12-21T08:55:24.481Z"
   },
   {
    "duration": 4,
    "start_time": "2024-12-21T08:55:24.528Z"
   },
   {
    "duration": 5,
    "start_time": "2024-12-21T08:55:24.534Z"
   },
   {
    "duration": 386,
    "start_time": "2024-12-21T08:55:24.540Z"
   },
   {
    "duration": 314,
    "start_time": "2024-12-21T08:55:24.927Z"
   },
   {
    "duration": 98,
    "start_time": "2024-12-21T08:55:25.244Z"
   },
   {
    "duration": 5,
    "start_time": "2024-12-21T08:55:25.343Z"
   },
   {
    "duration": 234,
    "start_time": "2024-12-21T08:55:25.350Z"
   },
   {
    "duration": 204,
    "start_time": "2024-12-21T08:55:25.587Z"
   },
   {
    "duration": 53,
    "start_time": "2024-12-21T08:55:25.793Z"
   },
   {
    "duration": 33,
    "start_time": "2024-12-21T08:55:25.847Z"
   },
   {
    "duration": 278,
    "start_time": "2024-12-21T08:55:25.882Z"
   },
   {
    "duration": 241,
    "start_time": "2024-12-21T08:55:26.162Z"
   },
   {
    "duration": 46,
    "start_time": "2024-12-21T08:57:42.003Z"
   },
   {
    "duration": 266,
    "start_time": "2024-12-21T08:58:47.788Z"
   },
   {
    "duration": 221,
    "start_time": "2024-12-21T08:59:28.698Z"
   },
   {
    "duration": 875,
    "start_time": "2024-12-21T09:01:27.416Z"
   },
   {
    "duration": 206,
    "start_time": "2024-12-21T09:01:28.293Z"
   },
   {
    "duration": 15,
    "start_time": "2024-12-21T09:01:28.501Z"
   },
   {
    "duration": 12,
    "start_time": "2024-12-21T09:01:28.518Z"
   },
   {
    "duration": 3,
    "start_time": "2024-12-21T09:01:28.533Z"
   },
   {
    "duration": 4,
    "start_time": "2024-12-21T09:01:28.538Z"
   },
   {
    "duration": 4,
    "start_time": "2024-12-21T09:01:28.544Z"
   },
   {
    "duration": 4,
    "start_time": "2024-12-21T09:01:28.550Z"
   },
   {
    "duration": 4,
    "start_time": "2024-12-21T09:01:28.555Z"
   },
   {
    "duration": 51,
    "start_time": "2024-12-21T09:01:28.560Z"
   },
   {
    "duration": 27,
    "start_time": "2024-12-21T09:01:28.613Z"
   },
   {
    "duration": 8,
    "start_time": "2024-12-21T09:01:28.641Z"
   },
   {
    "duration": 5,
    "start_time": "2024-12-21T09:01:28.651Z"
   },
   {
    "duration": 5,
    "start_time": "2024-12-21T09:01:28.660Z"
   },
   {
    "duration": 7,
    "start_time": "2024-12-21T09:01:28.667Z"
   },
   {
    "duration": 5,
    "start_time": "2024-12-21T09:01:28.709Z"
   },
   {
    "duration": 6,
    "start_time": "2024-12-21T09:01:28.715Z"
   },
   {
    "duration": 6,
    "start_time": "2024-12-21T09:01:28.722Z"
   },
   {
    "duration": 7,
    "start_time": "2024-12-21T09:01:28.729Z"
   },
   {
    "duration": 162,
    "start_time": "2024-12-21T09:01:28.738Z"
   },
   {
    "duration": 132,
    "start_time": "2024-12-21T09:01:28.901Z"
   },
   {
    "duration": 186,
    "start_time": "2024-12-21T09:01:29.034Z"
   },
   {
    "duration": 5,
    "start_time": "2024-12-21T09:01:29.221Z"
   },
   {
    "duration": 5,
    "start_time": "2024-12-21T09:01:29.228Z"
   },
   {
    "duration": 52,
    "start_time": "2024-12-21T09:01:29.234Z"
   },
   {
    "duration": 150,
    "start_time": "2024-12-21T09:01:29.309Z"
   },
   {
    "duration": 5,
    "start_time": "2024-12-21T09:01:29.461Z"
   },
   {
    "duration": 3,
    "start_time": "2024-12-21T09:01:29.468Z"
   },
   {
    "duration": 36,
    "start_time": "2024-12-21T09:01:29.473Z"
   },
   {
    "duration": 55,
    "start_time": "2024-12-21T09:01:29.511Z"
   },
   {
    "duration": 7,
    "start_time": "2024-12-21T09:01:29.568Z"
   },
   {
    "duration": 8,
    "start_time": "2024-12-21T09:01:29.576Z"
   },
   {
    "duration": 338,
    "start_time": "2024-12-21T09:01:29.585Z"
   },
   {
    "duration": 287,
    "start_time": "2024-12-21T09:01:29.927Z"
   },
   {
    "duration": 107,
    "start_time": "2024-12-21T09:01:30.216Z"
   },
   {
    "duration": 6,
    "start_time": "2024-12-21T09:01:30.324Z"
   },
   {
    "duration": 235,
    "start_time": "2024-12-21T09:01:30.331Z"
   },
   {
    "duration": 212,
    "start_time": "2024-12-21T09:01:30.568Z"
   },
   {
    "duration": 48,
    "start_time": "2024-12-21T09:01:30.782Z"
   },
   {
    "duration": 33,
    "start_time": "2024-12-21T09:01:30.831Z"
   },
   {
    "duration": 279,
    "start_time": "2024-12-21T09:01:30.868Z"
   },
   {
    "duration": 456,
    "start_time": "2024-12-21T09:01:31.148Z"
   },
   {
    "duration": 814,
    "start_time": "2024-12-21T09:06:04.073Z"
   },
   {
    "duration": 205,
    "start_time": "2024-12-21T09:06:04.890Z"
   },
   {
    "duration": 25,
    "start_time": "2024-12-21T09:06:05.097Z"
   },
   {
    "duration": 13,
    "start_time": "2024-12-21T09:06:05.124Z"
   },
   {
    "duration": 3,
    "start_time": "2024-12-21T09:06:05.139Z"
   },
   {
    "duration": 4,
    "start_time": "2024-12-21T09:06:05.144Z"
   },
   {
    "duration": 4,
    "start_time": "2024-12-21T09:06:05.150Z"
   },
   {
    "duration": 4,
    "start_time": "2024-12-21T09:06:05.156Z"
   },
   {
    "duration": 3,
    "start_time": "2024-12-21T09:06:05.161Z"
   },
   {
    "duration": 44,
    "start_time": "2024-12-21T09:06:05.166Z"
   },
   {
    "duration": 28,
    "start_time": "2024-12-21T09:06:05.211Z"
   },
   {
    "duration": 8,
    "start_time": "2024-12-21T09:06:05.241Z"
   },
   {
    "duration": 5,
    "start_time": "2024-12-21T09:06:05.251Z"
   },
   {
    "duration": 5,
    "start_time": "2024-12-21T09:06:05.260Z"
   },
   {
    "duration": 6,
    "start_time": "2024-12-21T09:06:05.268Z"
   },
   {
    "duration": 37,
    "start_time": "2024-12-21T09:06:05.276Z"
   },
   {
    "duration": 6,
    "start_time": "2024-12-21T09:06:05.315Z"
   },
   {
    "duration": 5,
    "start_time": "2024-12-21T09:06:05.324Z"
   },
   {
    "duration": 7,
    "start_time": "2024-12-21T09:06:05.330Z"
   },
   {
    "duration": 157,
    "start_time": "2024-12-21T09:06:05.339Z"
   },
   {
    "duration": 135,
    "start_time": "2024-12-21T09:06:05.497Z"
   },
   {
    "duration": 188,
    "start_time": "2024-12-21T09:06:05.634Z"
   },
   {
    "duration": 5,
    "start_time": "2024-12-21T09:06:05.824Z"
   },
   {
    "duration": 4,
    "start_time": "2024-12-21T09:06:05.830Z"
   },
   {
    "duration": 52,
    "start_time": "2024-12-21T09:06:05.836Z"
   },
   {
    "duration": 166,
    "start_time": "2024-12-21T09:06:05.890Z"
   },
   {
    "duration": 4,
    "start_time": "2024-12-21T09:06:06.057Z"
   },
   {
    "duration": 4,
    "start_time": "2024-12-21T09:06:06.063Z"
   },
   {
    "duration": 15,
    "start_time": "2024-12-21T09:06:06.069Z"
   },
   {
    "duration": 71,
    "start_time": "2024-12-21T09:06:06.085Z"
   },
   {
    "duration": 6,
    "start_time": "2024-12-21T09:06:06.158Z"
   },
   {
    "duration": 6,
    "start_time": "2024-12-21T09:06:06.166Z"
   },
   {
    "duration": 349,
    "start_time": "2024-12-21T09:06:06.174Z"
   },
   {
    "duration": 290,
    "start_time": "2024-12-21T09:06:06.525Z"
   },
   {
    "duration": 101,
    "start_time": "2024-12-21T09:06:06.817Z"
   },
   {
    "duration": 7,
    "start_time": "2024-12-21T09:06:06.920Z"
   },
   {
    "duration": 234,
    "start_time": "2024-12-21T09:06:06.928Z"
   },
   {
    "duration": 228,
    "start_time": "2024-12-21T09:06:07.165Z"
   },
   {
    "duration": 52,
    "start_time": "2024-12-21T09:06:07.395Z"
   },
   {
    "duration": 32,
    "start_time": "2024-12-21T09:06:07.449Z"
   },
   {
    "duration": 298,
    "start_time": "2024-12-21T09:06:07.485Z"
   },
   {
    "duration": 461,
    "start_time": "2024-12-21T09:06:07.785Z"
   },
   {
    "duration": 184,
    "start_time": "2024-12-21T09:10:47.838Z"
   },
   {
    "duration": 815,
    "start_time": "2024-12-21T09:12:54.375Z"
   },
   {
    "duration": 202,
    "start_time": "2024-12-21T09:12:55.193Z"
   },
   {
    "duration": 20,
    "start_time": "2024-12-21T09:12:55.397Z"
   },
   {
    "duration": 12,
    "start_time": "2024-12-21T09:12:55.419Z"
   },
   {
    "duration": 6,
    "start_time": "2024-12-21T09:12:55.432Z"
   },
   {
    "duration": 4,
    "start_time": "2024-12-21T09:12:55.439Z"
   },
   {
    "duration": 5,
    "start_time": "2024-12-21T09:12:55.444Z"
   },
   {
    "duration": 4,
    "start_time": "2024-12-21T09:12:55.450Z"
   },
   {
    "duration": 4,
    "start_time": "2024-12-21T09:12:55.455Z"
   },
   {
    "duration": 46,
    "start_time": "2024-12-21T09:12:55.462Z"
   },
   {
    "duration": 27,
    "start_time": "2024-12-21T09:12:55.511Z"
   },
   {
    "duration": 8,
    "start_time": "2024-12-21T09:12:55.539Z"
   },
   {
    "duration": 5,
    "start_time": "2024-12-21T09:12:55.548Z"
   },
   {
    "duration": 6,
    "start_time": "2024-12-21T09:12:55.555Z"
   },
   {
    "duration": 8,
    "start_time": "2024-12-21T09:12:55.562Z"
   },
   {
    "duration": 4,
    "start_time": "2024-12-21T09:12:55.571Z"
   },
   {
    "duration": 4,
    "start_time": "2024-12-21T09:12:55.610Z"
   },
   {
    "duration": 5,
    "start_time": "2024-12-21T09:12:55.615Z"
   },
   {
    "duration": 8,
    "start_time": "2024-12-21T09:12:55.622Z"
   },
   {
    "duration": 159,
    "start_time": "2024-12-21T09:12:55.632Z"
   },
   {
    "duration": 130,
    "start_time": "2024-12-21T09:12:55.793Z"
   },
   {
    "duration": 190,
    "start_time": "2024-12-21T09:12:55.925Z"
   },
   {
    "duration": 5,
    "start_time": "2024-12-21T09:12:56.116Z"
   },
   {
    "duration": 4,
    "start_time": "2024-12-21T09:12:56.122Z"
   },
   {
    "duration": 53,
    "start_time": "2024-12-21T09:12:56.128Z"
   },
   {
    "duration": 177,
    "start_time": "2024-12-21T09:12:56.183Z"
   },
   {
    "duration": 7,
    "start_time": "2024-12-21T09:12:56.362Z"
   },
   {
    "duration": 3,
    "start_time": "2024-12-21T09:12:56.373Z"
   },
   {
    "duration": 30,
    "start_time": "2024-12-21T09:12:56.378Z"
   },
   {
    "duration": 50,
    "start_time": "2024-12-21T09:12:56.410Z"
   },
   {
    "duration": 7,
    "start_time": "2024-12-21T09:12:56.461Z"
   },
   {
    "duration": 6,
    "start_time": "2024-12-21T09:12:56.470Z"
   },
   {
    "duration": 685,
    "start_time": "2024-12-21T09:12:56.478Z"
   },
   {
    "duration": 0,
    "start_time": "2024-12-21T09:12:57.165Z"
   },
   {
    "duration": 0,
    "start_time": "2024-12-21T09:12:57.166Z"
   },
   {
    "duration": 0,
    "start_time": "2024-12-21T09:12:57.167Z"
   },
   {
    "duration": 0,
    "start_time": "2024-12-21T09:12:57.169Z"
   },
   {
    "duration": 0,
    "start_time": "2024-12-21T09:12:57.170Z"
   },
   {
    "duration": 0,
    "start_time": "2024-12-21T09:12:57.172Z"
   },
   {
    "duration": 0,
    "start_time": "2024-12-21T09:12:57.173Z"
   },
   {
    "duration": 0,
    "start_time": "2024-12-21T09:12:57.174Z"
   },
   {
    "duration": 0,
    "start_time": "2024-12-21T09:12:57.175Z"
   },
   {
    "duration": 872,
    "start_time": "2024-12-21T09:22:32.151Z"
   },
   {
    "duration": 219,
    "start_time": "2024-12-21T09:22:33.025Z"
   },
   {
    "duration": 21,
    "start_time": "2024-12-21T09:22:33.246Z"
   },
   {
    "duration": 13,
    "start_time": "2024-12-21T09:22:33.269Z"
   },
   {
    "duration": 4,
    "start_time": "2024-12-21T09:22:33.284Z"
   },
   {
    "duration": 19,
    "start_time": "2024-12-21T09:22:33.290Z"
   },
   {
    "duration": 4,
    "start_time": "2024-12-21T09:22:33.312Z"
   },
   {
    "duration": 5,
    "start_time": "2024-12-21T09:22:33.318Z"
   },
   {
    "duration": 2,
    "start_time": "2024-12-21T09:22:33.325Z"
   },
   {
    "duration": 12,
    "start_time": "2024-12-21T09:22:33.329Z"
   },
   {
    "duration": 30,
    "start_time": "2024-12-21T09:22:33.343Z"
   },
   {
    "duration": 44,
    "start_time": "2024-12-21T09:22:33.375Z"
   },
   {
    "duration": 8,
    "start_time": "2024-12-21T09:22:33.423Z"
   },
   {
    "duration": 6,
    "start_time": "2024-12-21T09:22:33.435Z"
   },
   {
    "duration": 7,
    "start_time": "2024-12-21T09:22:33.442Z"
   },
   {
    "duration": 5,
    "start_time": "2024-12-21T09:22:33.451Z"
   },
   {
    "duration": 5,
    "start_time": "2024-12-21T09:22:33.457Z"
   },
   {
    "duration": 5,
    "start_time": "2024-12-21T09:22:33.464Z"
   },
   {
    "duration": 44,
    "start_time": "2024-12-21T09:22:33.471Z"
   },
   {
    "duration": 142,
    "start_time": "2024-12-21T09:22:33.518Z"
   },
   {
    "duration": 148,
    "start_time": "2024-12-21T09:22:33.662Z"
   },
   {
    "duration": 182,
    "start_time": "2024-12-21T09:22:33.815Z"
   },
   {
    "duration": 11,
    "start_time": "2024-12-21T09:22:33.999Z"
   },
   {
    "duration": 4,
    "start_time": "2024-12-21T09:22:34.012Z"
   },
   {
    "duration": 58,
    "start_time": "2024-12-21T09:22:34.018Z"
   },
   {
    "duration": 179,
    "start_time": "2024-12-21T09:22:34.077Z"
   },
   {
    "duration": 4,
    "start_time": "2024-12-21T09:22:34.257Z"
   },
   {
    "duration": 4,
    "start_time": "2024-12-21T09:22:34.263Z"
   },
   {
    "duration": 16,
    "start_time": "2024-12-21T09:22:34.268Z"
   },
   {
    "duration": 68,
    "start_time": "2024-12-21T09:22:34.286Z"
   },
   {
    "duration": 7,
    "start_time": "2024-12-21T09:22:34.355Z"
   },
   {
    "duration": 6,
    "start_time": "2024-12-21T09:22:34.364Z"
   },
   {
    "duration": 453,
    "start_time": "2024-12-21T09:22:34.372Z"
   },
   {
    "duration": 291,
    "start_time": "2024-12-21T09:22:34.826Z"
   },
   {
    "duration": 99,
    "start_time": "2024-12-21T09:22:35.119Z"
   },
   {
    "duration": 6,
    "start_time": "2024-12-21T09:22:35.220Z"
   },
   {
    "duration": 236,
    "start_time": "2024-12-21T09:22:35.228Z"
   },
   {
    "duration": 215,
    "start_time": "2024-12-21T09:22:35.466Z"
   },
   {
    "duration": 53,
    "start_time": "2024-12-21T09:22:35.683Z"
   },
   {
    "duration": 33,
    "start_time": "2024-12-21T09:22:35.738Z"
   },
   {
    "duration": 740,
    "start_time": "2024-12-21T09:22:35.776Z"
   },
   {
    "duration": 0,
    "start_time": "2024-12-21T09:22:36.518Z"
   },
   {
    "duration": 156,
    "start_time": "2024-12-21T09:25:31.451Z"
   },
   {
    "duration": 818,
    "start_time": "2024-12-21T09:26:11.773Z"
   },
   {
    "duration": 207,
    "start_time": "2024-12-21T09:26:12.595Z"
   },
   {
    "duration": 16,
    "start_time": "2024-12-21T09:26:12.803Z"
   },
   {
    "duration": 12,
    "start_time": "2024-12-21T09:26:12.822Z"
   },
   {
    "duration": 5,
    "start_time": "2024-12-21T09:26:12.836Z"
   },
   {
    "duration": 4,
    "start_time": "2024-12-21T09:26:12.842Z"
   },
   {
    "duration": 4,
    "start_time": "2024-12-21T09:26:12.847Z"
   },
   {
    "duration": 3,
    "start_time": "2024-12-21T09:26:12.853Z"
   },
   {
    "duration": 3,
    "start_time": "2024-12-21T09:26:12.858Z"
   },
   {
    "duration": 46,
    "start_time": "2024-12-21T09:26:12.864Z"
   },
   {
    "duration": 28,
    "start_time": "2024-12-21T09:26:12.911Z"
   },
   {
    "duration": 7,
    "start_time": "2024-12-21T09:26:12.941Z"
   },
   {
    "duration": 4,
    "start_time": "2024-12-21T09:26:12.950Z"
   },
   {
    "duration": 7,
    "start_time": "2024-12-21T09:26:12.955Z"
   },
   {
    "duration": 10,
    "start_time": "2024-12-21T09:26:12.963Z"
   },
   {
    "duration": 37,
    "start_time": "2024-12-21T09:26:12.975Z"
   },
   {
    "duration": 5,
    "start_time": "2024-12-21T09:26:13.014Z"
   },
   {
    "duration": 5,
    "start_time": "2024-12-21T09:26:13.020Z"
   },
   {
    "duration": 8,
    "start_time": "2024-12-21T09:26:13.026Z"
   },
   {
    "duration": 159,
    "start_time": "2024-12-21T09:26:13.036Z"
   },
   {
    "duration": 132,
    "start_time": "2024-12-21T09:26:13.197Z"
   },
   {
    "duration": 181,
    "start_time": "2024-12-21T09:26:13.330Z"
   },
   {
    "duration": 5,
    "start_time": "2024-12-21T09:26:13.512Z"
   },
   {
    "duration": 4,
    "start_time": "2024-12-21T09:26:13.519Z"
   },
   {
    "duration": 54,
    "start_time": "2024-12-21T09:26:13.525Z"
   },
   {
    "duration": 168,
    "start_time": "2024-12-21T09:26:13.581Z"
   },
   {
    "duration": 3,
    "start_time": "2024-12-21T09:26:13.751Z"
   },
   {
    "duration": 3,
    "start_time": "2024-12-21T09:26:13.759Z"
   },
   {
    "duration": 15,
    "start_time": "2024-12-21T09:26:13.764Z"
   },
   {
    "duration": 70,
    "start_time": "2024-12-21T09:26:13.781Z"
   },
   {
    "duration": 8,
    "start_time": "2024-12-21T09:26:13.852Z"
   },
   {
    "duration": 7,
    "start_time": "2024-12-21T09:26:13.861Z"
   },
   {
    "duration": 447,
    "start_time": "2024-12-21T09:26:13.869Z"
   },
   {
    "duration": 261,
    "start_time": "2024-12-21T09:26:14.318Z"
   },
   {
    "duration": 101,
    "start_time": "2024-12-21T09:26:14.582Z"
   },
   {
    "duration": 5,
    "start_time": "2024-12-21T09:26:14.686Z"
   },
   {
    "duration": 258,
    "start_time": "2024-12-21T09:26:14.693Z"
   },
   {
    "duration": 205,
    "start_time": "2024-12-21T09:26:14.952Z"
   },
   {
    "duration": 87,
    "start_time": "2024-12-21T09:26:15.159Z"
   },
   {
    "duration": 12,
    "start_time": "2024-12-21T09:26:15.247Z"
   },
   {
    "duration": 719,
    "start_time": "2024-12-21T09:26:15.261Z"
   },
   {
    "duration": 0,
    "start_time": "2024-12-21T09:26:15.982Z"
   },
   {
    "duration": 801,
    "start_time": "2024-12-21T09:27:59.687Z"
   },
   {
    "duration": 210,
    "start_time": "2024-12-21T09:28:00.490Z"
   },
   {
    "duration": 19,
    "start_time": "2024-12-21T09:28:00.703Z"
   },
   {
    "duration": 12,
    "start_time": "2024-12-21T09:28:00.724Z"
   },
   {
    "duration": 3,
    "start_time": "2024-12-21T09:28:00.739Z"
   },
   {
    "duration": 4,
    "start_time": "2024-12-21T09:28:00.744Z"
   },
   {
    "duration": 4,
    "start_time": "2024-12-21T09:28:00.750Z"
   },
   {
    "duration": 4,
    "start_time": "2024-12-21T09:28:00.755Z"
   },
   {
    "duration": 3,
    "start_time": "2024-12-21T09:28:00.760Z"
   },
   {
    "duration": 46,
    "start_time": "2024-12-21T09:28:00.766Z"
   },
   {
    "duration": 28,
    "start_time": "2024-12-21T09:28:00.814Z"
   },
   {
    "duration": 8,
    "start_time": "2024-12-21T09:28:00.844Z"
   },
   {
    "duration": 4,
    "start_time": "2024-12-21T09:28:00.854Z"
   },
   {
    "duration": 6,
    "start_time": "2024-12-21T09:28:00.863Z"
   },
   {
    "duration": 39,
    "start_time": "2024-12-21T09:28:00.870Z"
   },
   {
    "duration": 5,
    "start_time": "2024-12-21T09:28:00.911Z"
   },
   {
    "duration": 5,
    "start_time": "2024-12-21T09:28:00.918Z"
   },
   {
    "duration": 5,
    "start_time": "2024-12-21T09:28:00.924Z"
   },
   {
    "duration": 8,
    "start_time": "2024-12-21T09:28:00.931Z"
   },
   {
    "duration": 161,
    "start_time": "2024-12-21T09:28:00.940Z"
   },
   {
    "duration": 135,
    "start_time": "2024-12-21T09:28:01.103Z"
   },
   {
    "duration": 184,
    "start_time": "2024-12-21T09:28:01.240Z"
   },
   {
    "duration": 4,
    "start_time": "2024-12-21T09:28:01.426Z"
   },
   {
    "duration": 5,
    "start_time": "2024-12-21T09:28:01.432Z"
   },
   {
    "duration": 73,
    "start_time": "2024-12-21T09:28:01.438Z"
   },
   {
    "duration": 152,
    "start_time": "2024-12-21T09:28:01.513Z"
   },
   {
    "duration": 4,
    "start_time": "2024-12-21T09:28:01.667Z"
   },
   {
    "duration": 3,
    "start_time": "2024-12-21T09:28:01.673Z"
   },
   {
    "duration": 31,
    "start_time": "2024-12-21T09:28:01.678Z"
   },
   {
    "duration": 24,
    "start_time": "2024-12-21T09:28:01.711Z"
   },
   {
    "duration": 5,
    "start_time": "2024-12-21T09:28:01.737Z"
   },
   {
    "duration": 5,
    "start_time": "2024-12-21T09:28:01.744Z"
   },
   {
    "duration": 463,
    "start_time": "2024-12-21T09:28:01.750Z"
   },
   {
    "duration": 272,
    "start_time": "2024-12-21T09:28:02.219Z"
   },
   {
    "duration": 99,
    "start_time": "2024-12-21T09:28:02.492Z"
   },
   {
    "duration": 15,
    "start_time": "2024-12-21T09:28:02.594Z"
   },
   {
    "duration": 228,
    "start_time": "2024-12-21T09:28:02.610Z"
   },
   {
    "duration": 205,
    "start_time": "2024-12-21T09:28:02.840Z"
   },
   {
    "duration": 45,
    "start_time": "2024-12-21T09:28:03.047Z"
   },
   {
    "duration": 41,
    "start_time": "2024-12-21T09:28:03.093Z"
   },
   {
    "duration": 734,
    "start_time": "2024-12-21T09:28:03.139Z"
   },
   {
    "duration": 0,
    "start_time": "2024-12-21T09:28:03.874Z"
   },
   {
    "duration": 285,
    "start_time": "2024-12-21T09:28:25.230Z"
   },
   {
    "duration": 122,
    "start_time": "2024-12-21T09:28:46.615Z"
   },
   {
    "duration": 51,
    "start_time": "2024-12-21T09:33:21.207Z"
   },
   {
    "duration": 813,
    "start_time": "2024-12-21T09:33:32.314Z"
   },
   {
    "duration": 251,
    "start_time": "2024-12-21T09:33:33.132Z"
   },
   {
    "duration": 24,
    "start_time": "2024-12-21T09:33:33.385Z"
   },
   {
    "duration": 12,
    "start_time": "2024-12-21T09:33:33.412Z"
   },
   {
    "duration": 4,
    "start_time": "2024-12-21T09:33:33.426Z"
   },
   {
    "duration": 4,
    "start_time": "2024-12-21T09:33:33.432Z"
   },
   {
    "duration": 4,
    "start_time": "2024-12-21T09:33:33.438Z"
   },
   {
    "duration": 4,
    "start_time": "2024-12-21T09:33:33.445Z"
   },
   {
    "duration": 3,
    "start_time": "2024-12-21T09:33:33.451Z"
   },
   {
    "duration": 11,
    "start_time": "2024-12-21T09:33:33.458Z"
   },
   {
    "duration": 35,
    "start_time": "2024-12-21T09:33:33.510Z"
   },
   {
    "duration": 9,
    "start_time": "2024-12-21T09:33:33.546Z"
   },
   {
    "duration": 5,
    "start_time": "2024-12-21T09:33:33.556Z"
   },
   {
    "duration": 10,
    "start_time": "2024-12-21T09:33:33.563Z"
   },
   {
    "duration": 35,
    "start_time": "2024-12-21T09:33:33.574Z"
   },
   {
    "duration": 6,
    "start_time": "2024-12-21T09:33:33.611Z"
   },
   {
    "duration": 7,
    "start_time": "2024-12-21T09:33:33.618Z"
   },
   {
    "duration": 6,
    "start_time": "2024-12-21T09:33:33.628Z"
   },
   {
    "duration": 9,
    "start_time": "2024-12-21T09:33:33.635Z"
   },
   {
    "duration": 174,
    "start_time": "2024-12-21T09:33:33.646Z"
   },
   {
    "duration": 152,
    "start_time": "2024-12-21T09:33:33.822Z"
   },
   {
    "duration": 190,
    "start_time": "2024-12-21T09:33:33.978Z"
   },
   {
    "duration": 5,
    "start_time": "2024-12-21T09:33:34.170Z"
   },
   {
    "duration": 5,
    "start_time": "2024-12-21T09:33:34.177Z"
   },
   {
    "duration": 69,
    "start_time": "2024-12-21T09:33:34.184Z"
   },
   {
    "duration": 155,
    "start_time": "2024-12-21T09:33:34.255Z"
   },
   {
    "duration": 5,
    "start_time": "2024-12-21T09:33:34.412Z"
   },
   {
    "duration": 5,
    "start_time": "2024-12-21T09:33:34.420Z"
   },
   {
    "duration": 16,
    "start_time": "2024-12-21T09:33:34.427Z"
   },
   {
    "duration": 29,
    "start_time": "2024-12-21T09:33:34.445Z"
   },
   {
    "duration": 33,
    "start_time": "2024-12-21T09:33:34.476Z"
   },
   {
    "duration": 5,
    "start_time": "2024-12-21T09:33:34.512Z"
   },
   {
    "duration": 493,
    "start_time": "2024-12-21T09:33:34.519Z"
   },
   {
    "duration": 259,
    "start_time": "2024-12-21T09:33:35.014Z"
   },
   {
    "duration": 97,
    "start_time": "2024-12-21T09:33:35.275Z"
   },
   {
    "duration": 5,
    "start_time": "2024-12-21T09:33:35.374Z"
   },
   {
    "duration": 237,
    "start_time": "2024-12-21T09:33:35.380Z"
   },
   {
    "duration": 209,
    "start_time": "2024-12-21T09:33:35.619Z"
   },
   {
    "duration": 44,
    "start_time": "2024-12-21T09:33:35.830Z"
   },
   {
    "duration": 49,
    "start_time": "2024-12-21T09:33:35.876Z"
   },
   {
    "duration": 292,
    "start_time": "2024-12-21T09:33:35.927Z"
   },
   {
    "duration": 445,
    "start_time": "2024-12-21T09:33:36.221Z"
   },
   {
    "duration": 51,
    "start_time": "2024-12-21T10:02:35.691Z"
   },
   {
    "duration": 3,
    "start_time": "2024-12-21T10:03:10.888Z"
   },
   {
    "duration": 4,
    "start_time": "2024-12-21T10:03:24.145Z"
   },
   {
    "duration": 4,
    "start_time": "2024-12-21T10:03:29.055Z"
   },
   {
    "duration": 3,
    "start_time": "2024-12-21T10:03:36.313Z"
   },
   {
    "duration": 6,
    "start_time": "2024-12-21T10:03:49.826Z"
   },
   {
    "duration": 6,
    "start_time": "2024-12-21T10:04:07.797Z"
   },
   {
    "duration": 5,
    "start_time": "2024-12-21T10:04:49.054Z"
   },
   {
    "duration": 2,
    "start_time": "2024-12-21T10:04:56.748Z"
   },
   {
    "duration": 6,
    "start_time": "2024-12-21T10:04:58.672Z"
   },
   {
    "duration": 225,
    "start_time": "2024-12-21T10:04:59.359Z"
   },
   {
    "duration": 146,
    "start_time": "2024-12-21T10:04:59.695Z"
   },
   {
    "duration": 87,
    "start_time": "2024-12-21T10:05:01.008Z"
   },
   {
    "duration": 5,
    "start_time": "2024-12-21T10:05:01.707Z"
   },
   {
    "duration": 217,
    "start_time": "2024-12-21T10:05:04.436Z"
   },
   {
    "duration": 216,
    "start_time": "2024-12-21T10:05:09.108Z"
   },
   {
    "duration": 44,
    "start_time": "2024-12-21T10:05:10.886Z"
   },
   {
    "duration": 17,
    "start_time": "2024-12-21T10:05:14.454Z"
   },
   {
    "duration": 308,
    "start_time": "2024-12-21T10:05:17.277Z"
   },
   {
    "duration": 3,
    "start_time": "2024-12-21T10:05:22.690Z"
   },
   {
    "duration": 55,
    "start_time": "2024-12-21T10:05:33.443Z"
   },
   {
    "duration": 73,
    "start_time": "2024-12-21T10:06:00.513Z"
   },
   {
    "duration": 178,
    "start_time": "2024-12-21T10:06:16.247Z"
   },
   {
    "duration": 808,
    "start_time": "2024-12-21T10:07:53.484Z"
   },
   {
    "duration": 204,
    "start_time": "2024-12-21T10:07:54.295Z"
   },
   {
    "duration": 16,
    "start_time": "2024-12-21T10:07:54.500Z"
   },
   {
    "duration": 12,
    "start_time": "2024-12-21T10:07:54.519Z"
   },
   {
    "duration": 3,
    "start_time": "2024-12-21T10:07:54.533Z"
   },
   {
    "duration": 4,
    "start_time": "2024-12-21T10:07:54.538Z"
   },
   {
    "duration": 4,
    "start_time": "2024-12-21T10:07:54.544Z"
   },
   {
    "duration": 3,
    "start_time": "2024-12-21T10:07:54.550Z"
   },
   {
    "duration": 3,
    "start_time": "2024-12-21T10:07:54.555Z"
   },
   {
    "duration": 49,
    "start_time": "2024-12-21T10:07:54.560Z"
   },
   {
    "duration": 28,
    "start_time": "2024-12-21T10:07:54.611Z"
   },
   {
    "duration": 8,
    "start_time": "2024-12-21T10:07:54.640Z"
   },
   {
    "duration": 5,
    "start_time": "2024-12-21T10:07:54.649Z"
   },
   {
    "duration": 5,
    "start_time": "2024-12-21T10:07:54.656Z"
   },
   {
    "duration": 7,
    "start_time": "2024-12-21T10:07:54.663Z"
   },
   {
    "duration": 39,
    "start_time": "2024-12-21T10:07:54.671Z"
   },
   {
    "duration": 5,
    "start_time": "2024-12-21T10:07:54.711Z"
   },
   {
    "duration": 6,
    "start_time": "2024-12-21T10:07:54.718Z"
   },
   {
    "duration": 7,
    "start_time": "2024-12-21T10:07:54.725Z"
   },
   {
    "duration": 160,
    "start_time": "2024-12-21T10:07:54.734Z"
   },
   {
    "duration": 132,
    "start_time": "2024-12-21T10:07:54.896Z"
   },
   {
    "duration": 182,
    "start_time": "2024-12-21T10:07:55.030Z"
   },
   {
    "duration": 4,
    "start_time": "2024-12-21T10:07:55.214Z"
   },
   {
    "duration": 4,
    "start_time": "2024-12-21T10:07:55.220Z"
   },
   {
    "duration": 52,
    "start_time": "2024-12-21T10:07:55.226Z"
   },
   {
    "duration": 168,
    "start_time": "2024-12-21T10:07:55.280Z"
   },
   {
    "duration": 4,
    "start_time": "2024-12-21T10:07:55.450Z"
   },
   {
    "duration": 4,
    "start_time": "2024-12-21T10:07:55.458Z"
   },
   {
    "duration": 15,
    "start_time": "2024-12-21T10:07:55.463Z"
   },
   {
    "duration": 50,
    "start_time": "2024-12-21T10:07:55.480Z"
   },
   {
    "duration": 5,
    "start_time": "2024-12-21T10:07:55.531Z"
   },
   {
    "duration": 477,
    "start_time": "2024-12-21T10:07:55.537Z"
   },
   {
    "duration": 276,
    "start_time": "2024-12-21T10:07:56.016Z"
   },
   {
    "duration": 96,
    "start_time": "2024-12-21T10:07:56.294Z"
   },
   {
    "duration": 17,
    "start_time": "2024-12-21T10:07:56.392Z"
   },
   {
    "duration": 225,
    "start_time": "2024-12-21T10:07:56.411Z"
   },
   {
    "duration": 206,
    "start_time": "2024-12-21T10:07:56.638Z"
   },
   {
    "duration": 46,
    "start_time": "2024-12-21T10:07:56.846Z"
   },
   {
    "duration": 46,
    "start_time": "2024-12-21T10:07:56.893Z"
   },
   {
    "duration": 307,
    "start_time": "2024-12-21T10:07:56.941Z"
   },
   {
    "duration": 249,
    "start_time": "2024-12-21T10:07:57.250Z"
   },
   {
    "duration": 0,
    "start_time": "2024-12-21T10:07:57.509Z"
   },
   {
    "duration": 0,
    "start_time": "2024-12-21T10:07:57.510Z"
   },
   {
    "duration": 864,
    "start_time": "2024-12-21T10:18:54.624Z"
   },
   {
    "duration": 201,
    "start_time": "2024-12-21T10:18:55.491Z"
   },
   {
    "duration": 21,
    "start_time": "2024-12-21T10:18:55.694Z"
   },
   {
    "duration": 11,
    "start_time": "2024-12-21T10:18:55.717Z"
   },
   {
    "duration": 4,
    "start_time": "2024-12-21T10:18:55.731Z"
   },
   {
    "duration": 6,
    "start_time": "2024-12-21T10:18:55.736Z"
   },
   {
    "duration": 4,
    "start_time": "2024-12-21T10:18:55.743Z"
   },
   {
    "duration": 4,
    "start_time": "2024-12-21T10:18:55.749Z"
   },
   {
    "duration": 3,
    "start_time": "2024-12-21T10:18:55.755Z"
   },
   {
    "duration": 11,
    "start_time": "2024-12-21T10:18:55.759Z"
   },
   {
    "duration": 65,
    "start_time": "2024-12-21T10:18:55.771Z"
   },
   {
    "duration": 9,
    "start_time": "2024-12-21T10:18:55.838Z"
   },
   {
    "duration": 5,
    "start_time": "2024-12-21T10:18:55.849Z"
   },
   {
    "duration": 5,
    "start_time": "2024-12-21T10:18:55.857Z"
   },
   {
    "duration": 7,
    "start_time": "2024-12-21T10:18:55.864Z"
   },
   {
    "duration": 37,
    "start_time": "2024-12-21T10:18:55.872Z"
   },
   {
    "duration": 5,
    "start_time": "2024-12-21T10:18:55.910Z"
   },
   {
    "duration": 5,
    "start_time": "2024-12-21T10:18:55.916Z"
   },
   {
    "duration": 8,
    "start_time": "2024-12-21T10:18:55.922Z"
   },
   {
    "duration": 157,
    "start_time": "2024-12-21T10:18:55.931Z"
   },
   {
    "duration": 134,
    "start_time": "2024-12-21T10:18:56.090Z"
   },
   {
    "duration": 191,
    "start_time": "2024-12-21T10:18:56.226Z"
   },
   {
    "duration": 5,
    "start_time": "2024-12-21T10:18:56.419Z"
   },
   {
    "duration": 4,
    "start_time": "2024-12-21T10:18:56.426Z"
   },
   {
    "duration": 52,
    "start_time": "2024-12-21T10:18:56.431Z"
   },
   {
    "duration": 166,
    "start_time": "2024-12-21T10:18:56.485Z"
   },
   {
    "duration": 3,
    "start_time": "2024-12-21T10:18:56.653Z"
   },
   {
    "duration": 3,
    "start_time": "2024-12-21T10:18:56.658Z"
   },
   {
    "duration": 15,
    "start_time": "2024-12-21T10:18:56.663Z"
   },
   {
    "duration": 50,
    "start_time": "2024-12-21T10:18:56.679Z"
   },
   {
    "duration": 5,
    "start_time": "2024-12-21T10:18:56.731Z"
   },
   {
    "duration": 474,
    "start_time": "2024-12-21T10:18:56.738Z"
   },
   {
    "duration": 246,
    "start_time": "2024-12-21T10:18:57.216Z"
   },
   {
    "duration": 107,
    "start_time": "2024-12-21T10:18:57.463Z"
   },
   {
    "duration": 6,
    "start_time": "2024-12-21T10:18:57.572Z"
   },
   {
    "duration": 243,
    "start_time": "2024-12-21T10:18:57.579Z"
   },
   {
    "duration": 210,
    "start_time": "2024-12-21T10:18:57.824Z"
   },
   {
    "duration": 34,
    "start_time": "2024-12-21T10:18:58.036Z"
   },
   {
    "duration": 58,
    "start_time": "2024-12-21T10:18:58.071Z"
   },
   {
    "duration": 5,
    "start_time": "2024-12-21T10:18:58.131Z"
   },
   {
    "duration": 6,
    "start_time": "2024-12-21T10:18:58.140Z"
   },
   {
    "duration": 315,
    "start_time": "2024-12-21T10:18:58.147Z"
   },
   {
    "duration": 237,
    "start_time": "2024-12-21T10:18:58.464Z"
   },
   {
    "duration": 0,
    "start_time": "2024-12-21T10:18:58.703Z"
   },
   {
    "duration": 0,
    "start_time": "2024-12-21T10:18:58.709Z"
   },
   {
    "duration": 4,
    "start_time": "2024-12-21T10:19:48.279Z"
   },
   {
    "duration": 3,
    "start_time": "2024-12-21T10:19:50.617Z"
   },
   {
    "duration": 15,
    "start_time": "2024-12-21T10:19:52.839Z"
   },
   {
    "duration": 53,
    "start_time": "2024-12-21T10:20:01.638Z"
   },
   {
    "duration": 284,
    "start_time": "2024-12-21T10:20:09.302Z"
   },
   {
    "duration": 119,
    "start_time": "2024-12-21T10:22:01.415Z"
   },
   {
    "duration": 835,
    "start_time": "2024-12-21T10:22:15.850Z"
   },
   {
    "duration": 203,
    "start_time": "2024-12-21T10:22:16.688Z"
   },
   {
    "duration": 21,
    "start_time": "2024-12-21T10:22:16.892Z"
   },
   {
    "duration": 15,
    "start_time": "2024-12-21T10:22:16.915Z"
   },
   {
    "duration": 4,
    "start_time": "2024-12-21T10:22:16.931Z"
   },
   {
    "duration": 4,
    "start_time": "2024-12-21T10:22:16.937Z"
   },
   {
    "duration": 4,
    "start_time": "2024-12-21T10:22:16.943Z"
   },
   {
    "duration": 3,
    "start_time": "2024-12-21T10:22:16.949Z"
   },
   {
    "duration": 3,
    "start_time": "2024-12-21T10:22:16.954Z"
   },
   {
    "duration": 11,
    "start_time": "2024-12-21T10:22:16.960Z"
   },
   {
    "duration": 26,
    "start_time": "2024-12-21T10:22:17.009Z"
   },
   {
    "duration": 8,
    "start_time": "2024-12-21T10:22:17.037Z"
   },
   {
    "duration": 4,
    "start_time": "2024-12-21T10:22:17.047Z"
   },
   {
    "duration": 5,
    "start_time": "2024-12-21T10:22:17.054Z"
   },
   {
    "duration": 6,
    "start_time": "2024-12-21T10:22:17.061Z"
   },
   {
    "duration": 4,
    "start_time": "2024-12-21T10:22:17.069Z"
   },
   {
    "duration": 5,
    "start_time": "2024-12-21T10:22:17.109Z"
   },
   {
    "duration": 5,
    "start_time": "2024-12-21T10:22:17.115Z"
   },
   {
    "duration": 7,
    "start_time": "2024-12-21T10:22:17.122Z"
   },
   {
    "duration": 179,
    "start_time": "2024-12-21T10:22:17.130Z"
   },
   {
    "duration": 137,
    "start_time": "2024-12-21T10:22:17.312Z"
   },
   {
    "duration": 190,
    "start_time": "2024-12-21T10:22:17.452Z"
   },
   {
    "duration": 5,
    "start_time": "2024-12-21T10:22:17.644Z"
   },
   {
    "duration": 4,
    "start_time": "2024-12-21T10:22:17.651Z"
   },
   {
    "duration": 74,
    "start_time": "2024-12-21T10:22:17.657Z"
   },
   {
    "duration": 157,
    "start_time": "2024-12-21T10:22:17.733Z"
   },
   {
    "duration": 4,
    "start_time": "2024-12-21T10:22:17.892Z"
   },
   {
    "duration": 3,
    "start_time": "2024-12-21T10:22:17.910Z"
   },
   {
    "duration": 15,
    "start_time": "2024-12-21T10:22:17.915Z"
   },
   {
    "duration": 32,
    "start_time": "2024-12-21T10:22:17.932Z"
   },
   {
    "duration": 6,
    "start_time": "2024-12-21T10:22:17.965Z"
   },
   {
    "duration": 455,
    "start_time": "2024-12-21T10:22:17.973Z"
   },
   {
    "duration": 319,
    "start_time": "2024-12-21T10:22:18.430Z"
   },
   {
    "duration": 100,
    "start_time": "2024-12-21T10:22:18.751Z"
   },
   {
    "duration": 5,
    "start_time": "2024-12-21T10:22:18.852Z"
   },
   {
    "duration": 238,
    "start_time": "2024-12-21T10:22:18.859Z"
   },
   {
    "duration": 204,
    "start_time": "2024-12-21T10:22:19.099Z"
   },
   {
    "duration": 32,
    "start_time": "2024-12-21T10:22:19.310Z"
   },
   {
    "duration": 46,
    "start_time": "2024-12-21T10:22:19.344Z"
   },
   {
    "duration": 20,
    "start_time": "2024-12-21T10:22:19.392Z"
   },
   {
    "duration": 5,
    "start_time": "2024-12-21T10:22:19.414Z"
   },
   {
    "duration": 307,
    "start_time": "2024-12-21T10:22:19.421Z"
   },
   {
    "duration": 3,
    "start_time": "2024-12-21T10:22:19.730Z"
   },
   {
    "duration": 4,
    "start_time": "2024-12-21T10:22:19.734Z"
   },
   {
    "duration": 82,
    "start_time": "2024-12-21T10:22:19.739Z"
   },
   {
    "duration": 811,
    "start_time": "2024-12-21T10:30:12.079Z"
   },
   {
    "duration": 204,
    "start_time": "2024-12-21T10:30:12.892Z"
   },
   {
    "duration": 38,
    "start_time": "2024-12-21T10:30:13.097Z"
   },
   {
    "duration": 14,
    "start_time": "2024-12-21T10:30:13.137Z"
   },
   {
    "duration": 3,
    "start_time": "2024-12-21T10:30:13.155Z"
   },
   {
    "duration": 4,
    "start_time": "2024-12-21T10:30:13.160Z"
   },
   {
    "duration": 5,
    "start_time": "2024-12-21T10:30:13.166Z"
   },
   {
    "duration": 4,
    "start_time": "2024-12-21T10:30:13.172Z"
   },
   {
    "duration": 4,
    "start_time": "2024-12-21T10:30:13.177Z"
   },
   {
    "duration": 27,
    "start_time": "2024-12-21T10:30:13.182Z"
   },
   {
    "duration": 28,
    "start_time": "2024-12-21T10:30:13.211Z"
   },
   {
    "duration": 9,
    "start_time": "2024-12-21T10:30:13.241Z"
   },
   {
    "duration": 5,
    "start_time": "2024-12-21T10:30:13.251Z"
   },
   {
    "duration": 6,
    "start_time": "2024-12-21T10:30:13.259Z"
   },
   {
    "duration": 7,
    "start_time": "2024-12-21T10:30:13.268Z"
   },
   {
    "duration": 33,
    "start_time": "2024-12-21T10:30:13.277Z"
   },
   {
    "duration": 6,
    "start_time": "2024-12-21T10:30:13.311Z"
   },
   {
    "duration": 5,
    "start_time": "2024-12-21T10:30:13.318Z"
   },
   {
    "duration": 7,
    "start_time": "2024-12-21T10:30:13.326Z"
   },
   {
    "duration": 161,
    "start_time": "2024-12-21T10:30:13.334Z"
   },
   {
    "duration": 137,
    "start_time": "2024-12-21T10:30:13.497Z"
   },
   {
    "duration": 191,
    "start_time": "2024-12-21T10:30:13.636Z"
   },
   {
    "duration": 5,
    "start_time": "2024-12-21T10:30:13.829Z"
   },
   {
    "duration": 5,
    "start_time": "2024-12-21T10:30:13.835Z"
   },
   {
    "duration": 69,
    "start_time": "2024-12-21T10:30:13.841Z"
   },
   {
    "duration": 149,
    "start_time": "2024-12-21T10:30:13.911Z"
   },
   {
    "duration": 7,
    "start_time": "2024-12-21T10:30:14.061Z"
   },
   {
    "duration": 4,
    "start_time": "2024-12-21T10:30:14.069Z"
   },
   {
    "duration": 15,
    "start_time": "2024-12-21T10:30:14.074Z"
   },
   {
    "duration": 42,
    "start_time": "2024-12-21T10:30:14.091Z"
   },
   {
    "duration": 5,
    "start_time": "2024-12-21T10:30:14.135Z"
   },
   {
    "duration": 4,
    "start_time": "2024-12-21T10:30:14.142Z"
   },
   {
    "duration": 473,
    "start_time": "2024-12-21T10:30:14.148Z"
   },
   {
    "duration": 298,
    "start_time": "2024-12-21T10:30:14.623Z"
   },
   {
    "duration": 100,
    "start_time": "2024-12-21T10:30:14.923Z"
   },
   {
    "duration": 6,
    "start_time": "2024-12-21T10:30:15.026Z"
   },
   {
    "duration": 237,
    "start_time": "2024-12-21T10:30:15.033Z"
   },
   {
    "duration": 204,
    "start_time": "2024-12-21T10:30:15.272Z"
   },
   {
    "duration": 41,
    "start_time": "2024-12-21T10:30:15.478Z"
   },
   {
    "duration": 40,
    "start_time": "2024-12-21T10:30:15.522Z"
   },
   {
    "duration": 5,
    "start_time": "2024-12-21T10:30:15.567Z"
   },
   {
    "duration": 5,
    "start_time": "2024-12-21T10:30:15.574Z"
   },
   {
    "duration": 314,
    "start_time": "2024-12-21T10:30:15.580Z"
   },
   {
    "duration": 12,
    "start_time": "2024-12-21T10:30:15.896Z"
   },
   {
    "duration": 4,
    "start_time": "2024-12-21T10:30:15.911Z"
   },
   {
    "duration": 65,
    "start_time": "2024-12-21T10:30:15.916Z"
   },
   {
    "duration": 47,
    "start_time": "2024-12-21T10:33:30.060Z"
   },
   {
    "duration": 2484,
    "start_time": "2024-12-21T23:01:02.283Z"
   },
   {
    "duration": 158,
    "start_time": "2024-12-21T23:01:04.769Z"
   },
   {
    "duration": 27,
    "start_time": "2024-12-21T23:01:04.928Z"
   },
   {
    "duration": 12,
    "start_time": "2024-12-21T23:01:04.957Z"
   },
   {
    "duration": 3,
    "start_time": "2024-12-21T23:01:04.971Z"
   },
   {
    "duration": 4,
    "start_time": "2024-12-21T23:01:04.975Z"
   },
   {
    "duration": 4,
    "start_time": "2024-12-21T23:01:04.981Z"
   },
   {
    "duration": 4,
    "start_time": "2024-12-21T23:01:04.986Z"
   },
   {
    "duration": 3,
    "start_time": "2024-12-21T23:01:04.991Z"
   },
   {
    "duration": 47,
    "start_time": "2024-12-21T23:01:04.998Z"
   },
   {
    "duration": 27,
    "start_time": "2024-12-21T23:01:05.046Z"
   },
   {
    "duration": 8,
    "start_time": "2024-12-21T23:01:05.075Z"
   },
   {
    "duration": 5,
    "start_time": "2024-12-21T23:01:05.085Z"
   },
   {
    "duration": 6,
    "start_time": "2024-12-21T23:01:05.092Z"
   },
   {
    "duration": 6,
    "start_time": "2024-12-21T23:01:05.100Z"
   },
   {
    "duration": 4,
    "start_time": "2024-12-21T23:01:05.144Z"
   },
   {
    "duration": 5,
    "start_time": "2024-12-21T23:01:05.150Z"
   },
   {
    "duration": 5,
    "start_time": "2024-12-21T23:01:05.156Z"
   },
   {
    "duration": 8,
    "start_time": "2024-12-21T23:01:05.163Z"
   },
   {
    "duration": 163,
    "start_time": "2024-12-21T23:01:05.173Z"
   },
   {
    "duration": 171,
    "start_time": "2024-12-21T23:01:05.342Z"
   },
   {
    "duration": 183,
    "start_time": "2024-12-21T23:01:05.516Z"
   },
   {
    "duration": 6,
    "start_time": "2024-12-21T23:01:05.700Z"
   },
   {
    "duration": 4,
    "start_time": "2024-12-21T23:01:05.707Z"
   },
   {
    "duration": 67,
    "start_time": "2024-12-21T23:01:05.713Z"
   },
   {
    "duration": 152,
    "start_time": "2024-12-21T23:01:05.782Z"
   },
   {
    "duration": 7,
    "start_time": "2024-12-21T23:01:05.936Z"
   },
   {
    "duration": 3,
    "start_time": "2024-12-21T23:01:05.948Z"
   },
   {
    "duration": 15,
    "start_time": "2024-12-21T23:01:05.953Z"
   },
   {
    "duration": 26,
    "start_time": "2024-12-21T23:01:05.970Z"
   },
   {
    "duration": 5,
    "start_time": "2024-12-21T23:01:05.997Z"
   },
   {
    "duration": 40,
    "start_time": "2024-12-21T23:01:06.004Z"
   },
   {
    "duration": 415,
    "start_time": "2024-12-21T23:01:06.046Z"
   },
   {
    "duration": 311,
    "start_time": "2024-12-21T23:01:06.463Z"
   },
   {
    "duration": 97,
    "start_time": "2024-12-21T23:01:06.776Z"
   },
   {
    "duration": 4,
    "start_time": "2024-12-21T23:01:06.875Z"
   },
   {
    "duration": 233,
    "start_time": "2024-12-21T23:01:06.881Z"
   },
   {
    "duration": 206,
    "start_time": "2024-12-21T23:01:07.116Z"
   },
   {
    "duration": 38,
    "start_time": "2024-12-21T23:01:07.323Z"
   },
   {
    "duration": 41,
    "start_time": "2024-12-21T23:01:07.363Z"
   },
   {
    "duration": 7,
    "start_time": "2024-12-21T23:01:07.406Z"
   },
   {
    "duration": 5,
    "start_time": "2024-12-21T23:01:07.415Z"
   },
   {
    "duration": 284,
    "start_time": "2024-12-21T23:01:07.443Z"
   },
   {
    "duration": 4,
    "start_time": "2024-12-21T23:01:07.729Z"
   },
   {
    "duration": 4,
    "start_time": "2024-12-21T23:01:07.743Z"
   },
   {
    "duration": 46,
    "start_time": "2024-12-21T23:01:07.749Z"
   },
   {
    "duration": 28,
    "start_time": "2024-12-21T23:20:02.353Z"
   },
   {
    "duration": 345,
    "start_time": "2024-12-21T23:20:33.061Z"
   },
   {
    "duration": 254,
    "start_time": "2024-12-21T23:24:59.974Z"
   },
   {
    "duration": 801,
    "start_time": "2024-12-21T23:25:12.249Z"
   },
   {
    "duration": 199,
    "start_time": "2024-12-21T23:25:13.052Z"
   },
   {
    "duration": 16,
    "start_time": "2024-12-21T23:25:13.253Z"
   },
   {
    "duration": 11,
    "start_time": "2024-12-21T23:25:13.272Z"
   },
   {
    "duration": 3,
    "start_time": "2024-12-21T23:25:13.285Z"
   },
   {
    "duration": 4,
    "start_time": "2024-12-21T23:25:13.290Z"
   },
   {
    "duration": 4,
    "start_time": "2024-12-21T23:25:13.295Z"
   },
   {
    "duration": 4,
    "start_time": "2024-12-21T23:25:13.300Z"
   },
   {
    "duration": 2,
    "start_time": "2024-12-21T23:25:13.306Z"
   },
   {
    "duration": 11,
    "start_time": "2024-12-21T23:25:13.343Z"
   },
   {
    "duration": 27,
    "start_time": "2024-12-21T23:25:13.355Z"
   },
   {
    "duration": 8,
    "start_time": "2024-12-21T23:25:13.383Z"
   },
   {
    "duration": 4,
    "start_time": "2024-12-21T23:25:13.392Z"
   },
   {
    "duration": 6,
    "start_time": "2024-12-21T23:25:13.398Z"
   },
   {
    "duration": 40,
    "start_time": "2024-12-21T23:25:13.406Z"
   },
   {
    "duration": 5,
    "start_time": "2024-12-21T23:25:13.448Z"
   },
   {
    "duration": 5,
    "start_time": "2024-12-21T23:25:13.455Z"
   },
   {
    "duration": 4,
    "start_time": "2024-12-21T23:25:13.462Z"
   },
   {
    "duration": 13,
    "start_time": "2024-12-21T23:25:13.468Z"
   },
   {
    "duration": 163,
    "start_time": "2024-12-21T23:25:13.483Z"
   },
   {
    "duration": 136,
    "start_time": "2024-12-21T23:25:13.648Z"
   },
   {
    "duration": 182,
    "start_time": "2024-12-21T23:25:13.786Z"
   },
   {
    "duration": 6,
    "start_time": "2024-12-21T23:25:13.969Z"
   },
   {
    "duration": 4,
    "start_time": "2024-12-21T23:25:13.977Z"
   },
   {
    "duration": 67,
    "start_time": "2024-12-21T23:25:13.983Z"
   },
   {
    "duration": 158,
    "start_time": "2024-12-21T23:25:14.052Z"
   },
   {
    "duration": 3,
    "start_time": "2024-12-21T23:25:14.212Z"
   },
   {
    "duration": 3,
    "start_time": "2024-12-21T23:25:14.219Z"
   },
   {
    "duration": 26,
    "start_time": "2024-12-21T23:25:14.224Z"
   },
   {
    "duration": 26,
    "start_time": "2024-12-21T23:25:14.252Z"
   },
   {
    "duration": 5,
    "start_time": "2024-12-21T23:25:14.280Z"
   },
   {
    "duration": 4,
    "start_time": "2024-12-21T23:25:14.287Z"
   },
   {
    "duration": 468,
    "start_time": "2024-12-21T23:25:14.293Z"
   },
   {
    "duration": 301,
    "start_time": "2024-12-21T23:25:14.763Z"
   },
   {
    "duration": 98,
    "start_time": "2024-12-21T23:25:15.066Z"
   },
   {
    "duration": 6,
    "start_time": "2024-12-21T23:25:15.165Z"
   },
   {
    "duration": 239,
    "start_time": "2024-12-21T23:25:15.173Z"
   },
   {
    "duration": 201,
    "start_time": "2024-12-21T23:25:15.415Z"
   },
   {
    "duration": 32,
    "start_time": "2024-12-21T23:25:15.626Z"
   },
   {
    "duration": 40,
    "start_time": "2024-12-21T23:25:15.661Z"
   },
   {
    "duration": 6,
    "start_time": "2024-12-21T23:25:15.702Z"
   },
   {
    "duration": 5,
    "start_time": "2024-12-21T23:25:15.710Z"
   },
   {
    "duration": 309,
    "start_time": "2024-12-21T23:25:15.716Z"
   },
   {
    "duration": 4,
    "start_time": "2024-12-21T23:25:16.027Z"
   },
   {
    "duration": 13,
    "start_time": "2024-12-21T23:25:16.032Z"
   },
   {
    "duration": 46,
    "start_time": "2024-12-21T23:25:16.046Z"
   },
   {
    "duration": 181,
    "start_time": "2024-12-22T00:00:52.934Z"
   },
   {
    "duration": 2516,
    "start_time": "2024-12-22T02:40:40.969Z"
   },
   {
    "duration": 165,
    "start_time": "2024-12-22T02:40:43.489Z"
   },
   {
    "duration": 26,
    "start_time": "2024-12-22T02:40:43.656Z"
   },
   {
    "duration": 16,
    "start_time": "2024-12-22T02:40:43.684Z"
   },
   {
    "duration": 4,
    "start_time": "2024-12-22T02:40:43.701Z"
   },
   {
    "duration": 4,
    "start_time": "2024-12-22T02:40:43.706Z"
   },
   {
    "duration": 4,
    "start_time": "2024-12-22T02:40:43.712Z"
   },
   {
    "duration": 4,
    "start_time": "2024-12-22T02:40:43.717Z"
   },
   {
    "duration": 3,
    "start_time": "2024-12-22T02:40:43.722Z"
   },
   {
    "duration": 10,
    "start_time": "2024-12-22T02:40:43.728Z"
   },
   {
    "duration": 72,
    "start_time": "2024-12-22T02:40:43.741Z"
   },
   {
    "duration": 8,
    "start_time": "2024-12-22T02:40:43.815Z"
   },
   {
    "duration": 4,
    "start_time": "2024-12-22T02:40:43.825Z"
   },
   {
    "duration": 7,
    "start_time": "2024-12-22T02:40:43.831Z"
   },
   {
    "duration": 7,
    "start_time": "2024-12-22T02:40:43.839Z"
   },
   {
    "duration": 4,
    "start_time": "2024-12-22T02:40:43.849Z"
   },
   {
    "duration": 5,
    "start_time": "2024-12-22T02:40:43.886Z"
   },
   {
    "duration": 5,
    "start_time": "2024-12-22T02:40:43.892Z"
   },
   {
    "duration": 14,
    "start_time": "2024-12-22T02:40:43.899Z"
   },
   {
    "duration": 158,
    "start_time": "2024-12-22T02:40:43.915Z"
   },
   {
    "duration": 194,
    "start_time": "2024-12-22T02:40:44.075Z"
   },
   {
    "duration": 177,
    "start_time": "2024-12-22T02:40:44.270Z"
   },
   {
    "duration": 4,
    "start_time": "2024-12-22T02:40:44.449Z"
   },
   {
    "duration": 5,
    "start_time": "2024-12-22T02:40:44.455Z"
   },
   {
    "duration": 72,
    "start_time": "2024-12-22T02:40:44.461Z"
   },
   {
    "duration": 152,
    "start_time": "2024-12-22T02:40:44.535Z"
   },
   {
    "duration": 4,
    "start_time": "2024-12-22T02:40:44.689Z"
   },
   {
    "duration": 3,
    "start_time": "2024-12-22T02:40:44.698Z"
   },
   {
    "duration": 16,
    "start_time": "2024-12-22T02:40:44.702Z"
   },
   {
    "duration": 25,
    "start_time": "2024-12-22T02:40:44.720Z"
   },
   {
    "duration": 5,
    "start_time": "2024-12-22T02:40:44.746Z"
   },
   {
    "duration": 35,
    "start_time": "2024-12-22T02:40:44.754Z"
   },
   {
    "duration": 500,
    "start_time": "2024-12-22T02:40:44.791Z"
   },
   {
    "duration": 262,
    "start_time": "2024-12-22T02:40:45.293Z"
   },
   {
    "duration": 99,
    "start_time": "2024-12-22T02:40:45.557Z"
   },
   {
    "duration": 6,
    "start_time": "2024-12-22T02:40:45.658Z"
   },
   {
    "duration": 239,
    "start_time": "2024-12-22T02:40:45.666Z"
   },
   {
    "duration": 208,
    "start_time": "2024-12-22T02:40:45.907Z"
   },
   {
    "duration": 33,
    "start_time": "2024-12-22T02:40:46.117Z"
   },
   {
    "duration": 60,
    "start_time": "2024-12-22T02:40:46.152Z"
   },
   {
    "duration": 5,
    "start_time": "2024-12-22T02:40:46.214Z"
   },
   {
    "duration": 7,
    "start_time": "2024-12-22T02:40:46.221Z"
   },
   {
    "duration": 299,
    "start_time": "2024-12-22T02:40:46.229Z"
   },
   {
    "duration": 3,
    "start_time": "2024-12-22T02:40:46.530Z"
   },
   {
    "duration": 3,
    "start_time": "2024-12-22T02:40:46.535Z"
   },
   {
    "duration": 65,
    "start_time": "2024-12-22T02:40:46.540Z"
   },
   {
    "duration": 6,
    "start_time": "2024-12-22T04:02:01.336Z"
   },
   {
    "duration": 4,
    "start_time": "2024-12-22T04:03:13.755Z"
   },
   {
    "duration": 810,
    "start_time": "2024-12-22T04:03:39.012Z"
   },
   {
    "duration": 199,
    "start_time": "2024-12-22T04:03:39.824Z"
   },
   {
    "duration": 16,
    "start_time": "2024-12-22T04:03:40.025Z"
   },
   {
    "duration": 12,
    "start_time": "2024-12-22T04:03:40.044Z"
   },
   {
    "duration": 6,
    "start_time": "2024-12-22T04:03:40.057Z"
   },
   {
    "duration": 4,
    "start_time": "2024-12-22T04:03:40.065Z"
   },
   {
    "duration": 18,
    "start_time": "2024-12-22T04:03:40.070Z"
   },
   {
    "duration": 3,
    "start_time": "2024-12-22T04:03:40.090Z"
   },
   {
    "duration": 3,
    "start_time": "2024-12-22T04:03:40.095Z"
   },
   {
    "duration": 10,
    "start_time": "2024-12-22T04:03:40.102Z"
   },
   {
    "duration": 27,
    "start_time": "2024-12-22T04:03:40.113Z"
   },
   {
    "duration": 45,
    "start_time": "2024-12-22T04:03:40.141Z"
   },
   {
    "duration": 5,
    "start_time": "2024-12-22T04:03:40.188Z"
   },
   {
    "duration": 6,
    "start_time": "2024-12-22T04:03:40.194Z"
   },
   {
    "duration": 7,
    "start_time": "2024-12-22T04:03:40.201Z"
   },
   {
    "duration": 4,
    "start_time": "2024-12-22T04:03:40.209Z"
   },
   {
    "duration": 5,
    "start_time": "2024-12-22T04:03:40.217Z"
   },
   {
    "duration": 5,
    "start_time": "2024-12-22T04:03:40.223Z"
   },
   {
    "duration": 14,
    "start_time": "2024-12-22T04:03:40.230Z"
   },
   {
    "duration": 141,
    "start_time": "2024-12-22T04:03:40.287Z"
   },
   {
    "duration": 131,
    "start_time": "2024-12-22T04:03:40.430Z"
   },
   {
    "duration": 181,
    "start_time": "2024-12-22T04:03:40.563Z"
   },
   {
    "duration": 5,
    "start_time": "2024-12-22T04:03:40.746Z"
   },
   {
    "duration": 4,
    "start_time": "2024-12-22T04:03:40.753Z"
   },
   {
    "duration": 72,
    "start_time": "2024-12-22T04:03:40.759Z"
   },
   {
    "duration": 159,
    "start_time": "2024-12-22T04:03:40.833Z"
   },
   {
    "duration": 3,
    "start_time": "2024-12-22T04:03:40.994Z"
   },
   {
    "duration": 4,
    "start_time": "2024-12-22T04:03:41.001Z"
   },
   {
    "duration": 15,
    "start_time": "2024-12-22T04:03:41.006Z"
   },
   {
    "duration": 25,
    "start_time": "2024-12-22T04:03:41.024Z"
   },
   {
    "duration": 37,
    "start_time": "2024-12-22T04:03:41.050Z"
   },
   {
    "duration": 4,
    "start_time": "2024-12-22T04:03:41.089Z"
   },
   {
    "duration": 415,
    "start_time": "2024-12-22T04:03:41.095Z"
   },
   {
    "duration": 249,
    "start_time": "2024-12-22T04:03:41.590Z"
   },
   {
    "duration": 98,
    "start_time": "2024-12-22T04:03:41.841Z"
   },
   {
    "duration": 6,
    "start_time": "2024-12-22T04:03:41.941Z"
   },
   {
    "duration": 240,
    "start_time": "2024-12-22T04:03:41.948Z"
   },
   {
    "duration": 201,
    "start_time": "2024-12-22T04:03:42.190Z"
   },
   {
    "duration": 32,
    "start_time": "2024-12-22T04:03:42.393Z"
   },
   {
    "duration": 60,
    "start_time": "2024-12-22T04:03:42.427Z"
   },
   {
    "duration": 6,
    "start_time": "2024-12-22T04:03:42.488Z"
   },
   {
    "duration": 5,
    "start_time": "2024-12-22T04:03:42.495Z"
   },
   {
    "duration": 297,
    "start_time": "2024-12-22T04:03:42.501Z"
   },
   {
    "duration": 3,
    "start_time": "2024-12-22T04:03:42.800Z"
   },
   {
    "duration": 45,
    "start_time": "2024-12-22T04:03:42.805Z"
   },
   {
    "duration": 3,
    "start_time": "2024-12-22T04:29:42.986Z"
   },
   {
    "duration": 811,
    "start_time": "2024-12-22T04:29:53.360Z"
   },
   {
    "duration": 199,
    "start_time": "2024-12-22T04:29:54.173Z"
   },
   {
    "duration": 20,
    "start_time": "2024-12-22T04:29:54.374Z"
   },
   {
    "duration": 12,
    "start_time": "2024-12-22T04:29:54.396Z"
   },
   {
    "duration": 4,
    "start_time": "2024-12-22T04:29:54.410Z"
   },
   {
    "duration": 4,
    "start_time": "2024-12-22T04:29:54.415Z"
   },
   {
    "duration": 3,
    "start_time": "2024-12-22T04:29:54.422Z"
   },
   {
    "duration": 4,
    "start_time": "2024-12-22T04:29:54.427Z"
   },
   {
    "duration": 3,
    "start_time": "2024-12-22T04:29:54.432Z"
   },
   {
    "duration": 50,
    "start_time": "2024-12-22T04:29:54.438Z"
   },
   {
    "duration": 28,
    "start_time": "2024-12-22T04:29:54.489Z"
   },
   {
    "duration": 8,
    "start_time": "2024-12-22T04:29:54.518Z"
   },
   {
    "duration": 5,
    "start_time": "2024-12-22T04:29:54.527Z"
   },
   {
    "duration": 6,
    "start_time": "2024-12-22T04:29:54.533Z"
   },
   {
    "duration": 7,
    "start_time": "2024-12-22T04:29:54.540Z"
   },
   {
    "duration": 39,
    "start_time": "2024-12-22T04:29:54.548Z"
   },
   {
    "duration": 5,
    "start_time": "2024-12-22T04:29:54.588Z"
   },
   {
    "duration": 5,
    "start_time": "2024-12-22T04:29:54.594Z"
   },
   {
    "duration": 14,
    "start_time": "2024-12-22T04:29:54.601Z"
   },
   {
    "duration": 158,
    "start_time": "2024-12-22T04:29:54.617Z"
   },
   {
    "duration": 134,
    "start_time": "2024-12-22T04:29:54.776Z"
   },
   {
    "duration": 184,
    "start_time": "2024-12-22T04:29:54.912Z"
   },
   {
    "duration": 5,
    "start_time": "2024-12-22T04:29:55.097Z"
   },
   {
    "duration": 4,
    "start_time": "2024-12-22T04:29:55.106Z"
   },
   {
    "duration": 51,
    "start_time": "2024-12-22T04:29:55.111Z"
   },
   {
    "duration": 169,
    "start_time": "2024-12-22T04:29:55.164Z"
   },
   {
    "duration": 4,
    "start_time": "2024-12-22T04:29:55.335Z"
   },
   {
    "duration": 3,
    "start_time": "2024-12-22T04:29:55.344Z"
   },
   {
    "duration": 14,
    "start_time": "2024-12-22T04:29:55.349Z"
   },
   {
    "duration": 45,
    "start_time": "2024-12-22T04:29:55.365Z"
   },
   {
    "duration": 6,
    "start_time": "2024-12-22T04:29:55.411Z"
   },
   {
    "duration": 4,
    "start_time": "2024-12-22T04:29:55.418Z"
   },
   {
    "duration": 470,
    "start_time": "2024-12-22T04:29:55.424Z"
   },
   {
    "duration": 275,
    "start_time": "2024-12-22T04:29:55.896Z"
   },
   {
    "duration": 102,
    "start_time": "2024-12-22T04:29:56.173Z"
   },
   {
    "duration": 15,
    "start_time": "2024-12-22T04:29:56.276Z"
   },
   {
    "duration": 3,
    "start_time": "2024-12-22T04:29:56.292Z"
   },
   {
    "duration": 241,
    "start_time": "2024-12-22T04:29:56.297Z"
   },
   {
    "duration": 213,
    "start_time": "2024-12-22T04:29:56.540Z"
   },
   {
    "duration": 41,
    "start_time": "2024-12-22T04:29:56.754Z"
   },
   {
    "duration": 42,
    "start_time": "2024-12-22T04:29:56.797Z"
   },
   {
    "duration": 5,
    "start_time": "2024-12-22T04:29:56.841Z"
   },
   {
    "duration": 5,
    "start_time": "2024-12-22T04:29:56.847Z"
   },
   {
    "duration": 311,
    "start_time": "2024-12-22T04:29:56.854Z"
   },
   {
    "duration": 3,
    "start_time": "2024-12-22T04:29:57.167Z"
   },
   {
    "duration": 59,
    "start_time": "2024-12-22T04:29:57.172Z"
   },
   {
    "duration": 296,
    "start_time": "2024-12-22T04:31:37.225Z"
   },
   {
    "duration": 838,
    "start_time": "2024-12-22T04:31:46.530Z"
   },
   {
    "duration": 203,
    "start_time": "2024-12-22T04:31:47.371Z"
   },
   {
    "duration": 20,
    "start_time": "2024-12-22T04:31:47.575Z"
   },
   {
    "duration": 12,
    "start_time": "2024-12-22T04:31:47.597Z"
   },
   {
    "duration": 3,
    "start_time": "2024-12-22T04:31:47.611Z"
   },
   {
    "duration": 4,
    "start_time": "2024-12-22T04:31:47.616Z"
   },
   {
    "duration": 4,
    "start_time": "2024-12-22T04:31:47.621Z"
   },
   {
    "duration": 5,
    "start_time": "2024-12-22T04:31:47.626Z"
   },
   {
    "duration": 3,
    "start_time": "2024-12-22T04:31:47.632Z"
   },
   {
    "duration": 50,
    "start_time": "2024-12-22T04:31:47.639Z"
   },
   {
    "duration": 27,
    "start_time": "2024-12-22T04:31:47.691Z"
   },
   {
    "duration": 11,
    "start_time": "2024-12-22T04:31:47.719Z"
   },
   {
    "duration": 6,
    "start_time": "2024-12-22T04:31:47.732Z"
   },
   {
    "duration": 7,
    "start_time": "2024-12-22T04:31:47.739Z"
   },
   {
    "duration": 8,
    "start_time": "2024-12-22T04:31:47.748Z"
   },
   {
    "duration": 6,
    "start_time": "2024-12-22T04:31:47.786Z"
   },
   {
    "duration": 5,
    "start_time": "2024-12-22T04:31:47.793Z"
   },
   {
    "duration": 5,
    "start_time": "2024-12-22T04:31:47.800Z"
   },
   {
    "duration": 13,
    "start_time": "2024-12-22T04:31:47.807Z"
   },
   {
    "duration": 168,
    "start_time": "2024-12-22T04:31:47.822Z"
   },
   {
    "duration": 131,
    "start_time": "2024-12-22T04:31:47.992Z"
   },
   {
    "duration": 202,
    "start_time": "2024-12-22T04:31:48.125Z"
   },
   {
    "duration": 5,
    "start_time": "2024-12-22T04:31:48.329Z"
   },
   {
    "duration": 5,
    "start_time": "2024-12-22T04:31:48.335Z"
   },
   {
    "duration": 72,
    "start_time": "2024-12-22T04:31:48.342Z"
   },
   {
    "duration": 150,
    "start_time": "2024-12-22T04:31:48.416Z"
   },
   {
    "duration": 4,
    "start_time": "2024-12-22T04:31:48.568Z"
   },
   {
    "duration": 13,
    "start_time": "2024-12-22T04:31:48.575Z"
   },
   {
    "duration": 16,
    "start_time": "2024-12-22T04:31:48.590Z"
   },
   {
    "duration": 25,
    "start_time": "2024-12-22T04:31:48.607Z"
   },
   {
    "duration": 5,
    "start_time": "2024-12-22T04:31:48.634Z"
   },
   {
    "duration": 4,
    "start_time": "2024-12-22T04:31:48.641Z"
   },
   {
    "duration": 459,
    "start_time": "2024-12-22T04:31:48.647Z"
   },
   {
    "duration": 319,
    "start_time": "2024-12-22T04:31:49.108Z"
   },
   {
    "duration": 97,
    "start_time": "2024-12-22T04:31:49.429Z"
   },
   {
    "duration": 5,
    "start_time": "2024-12-22T04:31:49.528Z"
   },
   {
    "duration": 3,
    "start_time": "2024-12-22T04:31:49.535Z"
   },
   {
    "duration": 326,
    "start_time": "2024-12-22T04:31:49.540Z"
   },
   {
    "duration": 206,
    "start_time": "2024-12-22T04:31:49.867Z"
   },
   {
    "duration": 37,
    "start_time": "2024-12-22T04:31:50.075Z"
   },
   {
    "duration": 40,
    "start_time": "2024-12-22T04:31:50.114Z"
   },
   {
    "duration": 5,
    "start_time": "2024-12-22T04:31:50.156Z"
   },
   {
    "duration": 27,
    "start_time": "2024-12-22T04:31:50.163Z"
   },
   {
    "duration": 297,
    "start_time": "2024-12-22T04:31:50.191Z"
   },
   {
    "duration": 3,
    "start_time": "2024-12-22T04:31:50.490Z"
   },
   {
    "duration": 48,
    "start_time": "2024-12-22T04:31:50.495Z"
   },
   {
    "duration": 2458,
    "start_time": "2024-12-22T09:22:55.013Z"
   },
   {
    "duration": 162,
    "start_time": "2024-12-22T09:22:57.473Z"
   },
   {
    "duration": 32,
    "start_time": "2024-12-22T09:22:57.637Z"
   },
   {
    "duration": 14,
    "start_time": "2024-12-22T09:22:57.671Z"
   },
   {
    "duration": 3,
    "start_time": "2024-12-22T09:22:57.688Z"
   },
   {
    "duration": 4,
    "start_time": "2024-12-22T09:22:57.693Z"
   },
   {
    "duration": 5,
    "start_time": "2024-12-22T09:22:57.698Z"
   },
   {
    "duration": 4,
    "start_time": "2024-12-22T09:22:57.704Z"
   },
   {
    "duration": 24,
    "start_time": "2024-12-22T09:22:57.710Z"
   },
   {
    "duration": 13,
    "start_time": "2024-12-22T09:22:57.736Z"
   },
   {
    "duration": 29,
    "start_time": "2024-12-22T09:22:57.750Z"
   },
   {
    "duration": 9,
    "start_time": "2024-12-22T09:22:57.781Z"
   },
   {
    "duration": 5,
    "start_time": "2024-12-22T09:22:57.791Z"
   },
   {
    "duration": 6,
    "start_time": "2024-12-22T09:22:57.833Z"
   },
   {
    "duration": 10,
    "start_time": "2024-12-22T09:22:57.841Z"
   },
   {
    "duration": 5,
    "start_time": "2024-12-22T09:22:57.852Z"
   },
   {
    "duration": 5,
    "start_time": "2024-12-22T09:22:57.858Z"
   },
   {
    "duration": 5,
    "start_time": "2024-12-22T09:22:57.865Z"
   },
   {
    "duration": 15,
    "start_time": "2024-12-22T09:22:57.872Z"
   },
   {
    "duration": 186,
    "start_time": "2024-12-22T09:22:57.889Z"
   },
   {
    "duration": 140,
    "start_time": "2024-12-22T09:22:58.077Z"
   },
   {
    "duration": 193,
    "start_time": "2024-12-22T09:22:58.219Z"
   },
   {
    "duration": 5,
    "start_time": "2024-12-22T09:22:58.413Z"
   },
   {
    "duration": 14,
    "start_time": "2024-12-22T09:22:58.420Z"
   },
   {
    "duration": 53,
    "start_time": "2024-12-22T09:22:58.437Z"
   },
   {
    "duration": 158,
    "start_time": "2024-12-22T09:22:58.491Z"
   },
   {
    "duration": 4,
    "start_time": "2024-12-22T09:22:58.651Z"
   },
   {
    "duration": 4,
    "start_time": "2024-12-22T09:22:58.656Z"
   },
   {
    "duration": 14,
    "start_time": "2024-12-22T09:22:58.662Z"
   },
   {
    "duration": 25,
    "start_time": "2024-12-22T09:22:58.678Z"
   },
   {
    "duration": 5,
    "start_time": "2024-12-22T09:22:58.731Z"
   },
   {
    "duration": 70,
    "start_time": "2024-12-22T09:22:58.738Z"
   },
   {
    "duration": 441,
    "start_time": "2024-12-22T09:22:58.810Z"
   },
   {
    "duration": 318,
    "start_time": "2024-12-22T09:22:59.253Z"
   },
   {
    "duration": 108,
    "start_time": "2024-12-22T09:22:59.573Z"
   },
   {
    "duration": 6,
    "start_time": "2024-12-22T09:22:59.683Z"
   },
   {
    "duration": 3,
    "start_time": "2024-12-22T09:22:59.691Z"
   },
   {
    "duration": 326,
    "start_time": "2024-12-22T09:22:59.695Z"
   },
   {
    "duration": 225,
    "start_time": "2024-12-22T09:23:00.023Z"
   },
   {
    "duration": 34,
    "start_time": "2024-12-22T09:23:00.250Z"
   },
   {
    "duration": 53,
    "start_time": "2024-12-22T09:23:00.288Z"
   },
   {
    "duration": 6,
    "start_time": "2024-12-22T09:23:00.343Z"
   },
   {
    "duration": 5,
    "start_time": "2024-12-22T09:23:00.350Z"
   },
   {
    "duration": 311,
    "start_time": "2024-12-22T09:23:00.357Z"
   },
   {
    "duration": 3,
    "start_time": "2024-12-22T09:23:00.670Z"
   },
   {
    "duration": 66,
    "start_time": "2024-12-22T09:23:00.675Z"
   },
   {
    "duration": 224,
    "start_time": "2024-12-22T09:28:05.642Z"
   },
   {
    "duration": 5,
    "start_time": "2024-12-22T09:28:53.419Z"
   },
   {
    "duration": 2,
    "start_time": "2024-12-22T09:29:07.613Z"
   },
   {
    "duration": 2,
    "start_time": "2024-12-22T09:29:09.243Z"
   },
   {
    "duration": 4,
    "start_time": "2024-12-22T09:29:09.416Z"
   },
   {
    "duration": 13,
    "start_time": "2024-12-22T09:29:09.578Z"
   },
   {
    "duration": 10,
    "start_time": "2024-12-22T09:29:09.744Z"
   },
   {
    "duration": 3,
    "start_time": "2024-12-22T09:29:10.048Z"
   },
   {
    "duration": 3,
    "start_time": "2024-12-22T09:29:10.213Z"
   },
   {
    "duration": 4,
    "start_time": "2024-12-22T09:29:10.585Z"
   },
   {
    "duration": 5,
    "start_time": "2024-12-22T09:29:11.002Z"
   },
   {
    "duration": 3,
    "start_time": "2024-12-22T09:29:11.583Z"
   },
   {
    "duration": 10,
    "start_time": "2024-12-22T09:29:11.789Z"
   },
   {
    "duration": 27,
    "start_time": "2024-12-22T09:29:12.029Z"
   },
   {
    "duration": 9,
    "start_time": "2024-12-22T09:29:12.530Z"
   },
   {
    "duration": 5,
    "start_time": "2024-12-22T09:29:13.587Z"
   },
   {
    "duration": 6,
    "start_time": "2024-12-22T09:29:16.157Z"
   },
   {
    "duration": 8,
    "start_time": "2024-12-22T09:29:16.600Z"
   },
   {
    "duration": 6,
    "start_time": "2024-12-22T09:29:17.281Z"
   },
   {
    "duration": 5,
    "start_time": "2024-12-22T09:29:17.484Z"
   },
   {
    "duration": 6,
    "start_time": "2024-12-22T09:29:18.479Z"
   },
   {
    "duration": 15,
    "start_time": "2024-12-22T09:29:21.800Z"
   },
   {
    "duration": 129,
    "start_time": "2024-12-22T09:29:22.703Z"
   },
   {
    "duration": 134,
    "start_time": "2024-12-22T09:29:23.095Z"
   },
   {
    "duration": 176,
    "start_time": "2024-12-22T09:29:23.867Z"
   },
   {
    "duration": 5,
    "start_time": "2024-12-22T09:29:29.871Z"
   },
   {
    "duration": 5,
    "start_time": "2024-12-22T09:29:30.640Z"
   },
   {
    "duration": 5,
    "start_time": "2024-12-22T09:29:31.274Z"
   },
   {
    "duration": 4,
    "start_time": "2024-12-22T09:30:19.488Z"
   },
   {
    "duration": 8,
    "start_time": "2024-12-22T09:30:25.652Z"
   },
   {
    "duration": 5,
    "start_time": "2024-12-22T09:32:30.254Z"
   },
   {
    "duration": 3,
    "start_time": "2024-12-22T09:32:31.714Z"
   },
   {
    "duration": 4,
    "start_time": "2024-12-22T09:32:39.598Z"
   },
   {
    "duration": 5,
    "start_time": "2024-12-22T09:32:51.653Z"
   },
   {
    "duration": 4,
    "start_time": "2024-12-22T09:32:59.402Z"
   },
   {
    "duration": 5,
    "start_time": "2024-12-22T09:33:02.765Z"
   },
   {
    "duration": 4,
    "start_time": "2024-12-22T09:33:05.222Z"
   },
   {
    "duration": 3,
    "start_time": "2024-12-22T09:34:22.891Z"
   },
   {
    "duration": 4,
    "start_time": "2024-12-22T09:34:23.084Z"
   },
   {
    "duration": 13,
    "start_time": "2024-12-22T09:34:23.263Z"
   },
   {
    "duration": 10,
    "start_time": "2024-12-22T09:34:23.416Z"
   },
   {
    "duration": 3,
    "start_time": "2024-12-22T09:34:23.742Z"
   },
   {
    "duration": 4,
    "start_time": "2024-12-22T09:34:23.894Z"
   },
   {
    "duration": 4,
    "start_time": "2024-12-22T09:34:24.215Z"
   },
   {
    "duration": 4,
    "start_time": "2024-12-22T09:34:24.549Z"
   },
   {
    "duration": 3,
    "start_time": "2024-12-22T09:34:24.717Z"
   },
   {
    "duration": 10,
    "start_time": "2024-12-22T09:34:24.888Z"
   },
   {
    "duration": 29,
    "start_time": "2024-12-22T09:34:25.081Z"
   },
   {
    "duration": 9,
    "start_time": "2024-12-22T09:34:25.402Z"
   },
   {
    "duration": 6,
    "start_time": "2024-12-22T09:34:25.759Z"
   },
   {
    "duration": 7,
    "start_time": "2024-12-22T09:34:26.502Z"
   },
   {
    "duration": 7,
    "start_time": "2024-12-22T09:34:26.904Z"
   },
   {
    "duration": 5,
    "start_time": "2024-12-22T09:34:27.099Z"
   },
   {
    "duration": 5,
    "start_time": "2024-12-22T09:34:27.324Z"
   },
   {
    "duration": 7,
    "start_time": "2024-12-22T09:34:27.552Z"
   },
   {
    "duration": 15,
    "start_time": "2024-12-22T09:34:29.829Z"
   },
   {
    "duration": 136,
    "start_time": "2024-12-22T09:34:29.989Z"
   },
   {
    "duration": 135,
    "start_time": "2024-12-22T09:34:30.371Z"
   },
   {
    "duration": 253,
    "start_time": "2024-12-22T09:34:30.760Z"
   },
   {
    "duration": 5,
    "start_time": "2024-12-22T09:34:33.046Z"
   },
   {
    "duration": 4,
    "start_time": "2024-12-22T09:34:37.055Z"
   },
   {
    "duration": 3,
    "start_time": "2024-12-22T09:34:37.262Z"
   },
   {
    "duration": 8,
    "start_time": "2024-12-22T09:34:37.470Z"
   },
   {
    "duration": 5,
    "start_time": "2024-12-22T09:34:40.496Z"
   },
   {
    "duration": 4,
    "start_time": "2024-12-22T09:34:43.060Z"
   },
   {
    "duration": 3,
    "start_time": "2024-12-22T09:34:58.172Z"
   },
   {
    "duration": 5,
    "start_time": "2024-12-22T09:34:59.315Z"
   },
   {
    "duration": 5,
    "start_time": "2024-12-22T09:35:05.938Z"
   },
   {
    "duration": 4,
    "start_time": "2024-12-22T09:35:07.202Z"
   },
   {
    "duration": 4,
    "start_time": "2024-12-22T09:35:08.376Z"
   },
   {
    "duration": 30,
    "start_time": "2024-12-22T09:35:35.461Z"
   },
   {
    "duration": 74,
    "start_time": "2024-12-22T09:35:52.022Z"
   },
   {
    "duration": 94,
    "start_time": "2024-12-22T09:36:57.575Z"
   },
   {
    "duration": 5,
    "start_time": "2024-12-22T09:37:00.189Z"
   },
   {
    "duration": 3,
    "start_time": "2024-12-22T09:37:02.941Z"
   },
   {
    "duration": 90,
    "start_time": "2024-12-22T09:37:05.168Z"
   },
   {
    "duration": 7,
    "start_time": "2024-12-22T09:37:14.263Z"
   },
   {
    "duration": 4,
    "start_time": "2024-12-22T09:37:16.672Z"
   },
   {
    "duration": 6,
    "start_time": "2024-12-22T09:37:17.668Z"
   },
   {
    "duration": 5,
    "start_time": "2024-12-22T09:37:18.822Z"
   },
   {
    "duration": 4,
    "start_time": "2024-12-22T09:37:19.898Z"
   },
   {
    "duration": 123,
    "start_time": "2024-12-22T09:37:24.156Z"
   },
   {
    "duration": 146,
    "start_time": "2024-12-22T09:42:18.289Z"
   },
   {
    "duration": 3,
    "start_time": "2024-12-22T09:42:46.825Z"
   },
   {
    "duration": 5,
    "start_time": "2024-12-22T09:42:47.021Z"
   },
   {
    "duration": 15,
    "start_time": "2024-12-22T09:42:47.232Z"
   },
   {
    "duration": 10,
    "start_time": "2024-12-22T09:42:47.439Z"
   },
   {
    "duration": 5,
    "start_time": "2024-12-22T09:42:47.814Z"
   },
   {
    "duration": 5,
    "start_time": "2024-12-22T09:42:48.034Z"
   },
   {
    "duration": 4,
    "start_time": "2024-12-22T09:42:48.478Z"
   },
   {
    "duration": 4,
    "start_time": "2024-12-22T09:42:48.984Z"
   },
   {
    "duration": 3,
    "start_time": "2024-12-22T09:42:49.236Z"
   },
   {
    "duration": 10,
    "start_time": "2024-12-22T09:42:49.457Z"
   },
   {
    "duration": 29,
    "start_time": "2024-12-22T09:42:50.114Z"
   },
   {
    "duration": 9,
    "start_time": "2024-12-22T09:42:50.552Z"
   },
   {
    "duration": 6,
    "start_time": "2024-12-22T09:42:50.987Z"
   },
   {
    "duration": 7,
    "start_time": "2024-12-22T09:42:52.002Z"
   },
   {
    "duration": 7,
    "start_time": "2024-12-22T09:42:52.435Z"
   },
   {
    "duration": 5,
    "start_time": "2024-12-22T09:42:52.642Z"
   },
   {
    "duration": 7,
    "start_time": "2024-12-22T09:42:52.841Z"
   },
   {
    "duration": 6,
    "start_time": "2024-12-22T09:42:53.054Z"
   },
   {
    "duration": 15,
    "start_time": "2024-12-22T09:42:54.011Z"
   },
   {
    "duration": 130,
    "start_time": "2024-12-22T09:42:54.248Z"
   },
   {
    "duration": 130,
    "start_time": "2024-12-22T09:42:54.743Z"
   },
   {
    "duration": 176,
    "start_time": "2024-12-22T09:42:55.266Z"
   },
   {
    "duration": 4,
    "start_time": "2024-12-22T09:42:56.800Z"
   },
   {
    "duration": 4,
    "start_time": "2024-12-22T09:42:57.056Z"
   },
   {
    "duration": 3,
    "start_time": "2024-12-22T09:42:57.344Z"
   },
   {
    "duration": 8,
    "start_time": "2024-12-22T09:42:57.559Z"
   },
   {
    "duration": 5,
    "start_time": "2024-12-22T09:42:59.864Z"
   },
   {
    "duration": 4,
    "start_time": "2024-12-22T09:43:00.080Z"
   },
   {
    "duration": 5,
    "start_time": "2024-12-22T09:43:00.287Z"
   },
   {
    "duration": 4,
    "start_time": "2024-12-22T09:43:00.507Z"
   },
   {
    "duration": 5,
    "start_time": "2024-12-22T09:43:00.723Z"
   },
   {
    "duration": 5,
    "start_time": "2024-12-22T09:43:00.931Z"
   },
   {
    "duration": 5,
    "start_time": "2024-12-22T09:43:01.142Z"
   },
   {
    "duration": 31,
    "start_time": "2024-12-22T09:43:01.995Z"
   },
   {
    "duration": 73,
    "start_time": "2024-12-22T09:43:04.096Z"
   },
   {
    "duration": 7744,
    "start_time": "2024-12-22T09:43:04.500Z"
   },
   {
    "duration": 176,
    "start_time": "2024-12-22T09:44:16.243Z"
   },
   {
    "duration": 128,
    "start_time": "2024-12-22T09:44:21.722Z"
   },
   {
    "duration": 229,
    "start_time": "2024-12-22T09:44:25.160Z"
   },
   {
    "duration": 126,
    "start_time": "2024-12-22T09:44:28.492Z"
   },
   {
    "duration": 15,
    "start_time": "2024-12-22T09:44:33.720Z"
   },
   {
    "duration": 135,
    "start_time": "2024-12-22T09:44:36.183Z"
   },
   {
    "duration": 128,
    "start_time": "2024-12-22T09:44:39.471Z"
   },
   {
    "duration": 193,
    "start_time": "2024-12-22T09:44:45.347Z"
   },
   {
    "duration": 3,
    "start_time": "2024-12-22T09:44:55.268Z"
   },
   {
    "duration": 3,
    "start_time": "2024-12-22T09:44:55.481Z"
   },
   {
    "duration": 13,
    "start_time": "2024-12-22T09:44:55.651Z"
   },
   {
    "duration": 10,
    "start_time": "2024-12-22T09:44:55.844Z"
   },
   {
    "duration": 4,
    "start_time": "2024-12-22T09:44:56.227Z"
   },
   {
    "duration": 4,
    "start_time": "2024-12-22T09:44:56.430Z"
   },
   {
    "duration": 4,
    "start_time": "2024-12-22T09:44:56.840Z"
   },
   {
    "duration": 4,
    "start_time": "2024-12-22T09:44:57.228Z"
   },
   {
    "duration": 3,
    "start_time": "2024-12-22T09:44:57.422Z"
   },
   {
    "duration": 9,
    "start_time": "2024-12-22T09:44:57.614Z"
   },
   {
    "duration": 29,
    "start_time": "2024-12-22T09:44:57.895Z"
   },
   {
    "duration": 11,
    "start_time": "2024-12-22T09:44:58.231Z"
   },
   {
    "duration": 6,
    "start_time": "2024-12-22T09:44:58.694Z"
   },
   {
    "duration": 6,
    "start_time": "2024-12-22T09:44:59.622Z"
   },
   {
    "duration": 7,
    "start_time": "2024-12-22T09:45:00.774Z"
   },
   {
    "duration": 7,
    "start_time": "2024-12-22T09:45:01.161Z"
   },
   {
    "duration": 5,
    "start_time": "2024-12-22T09:45:02.318Z"
   },
   {
    "duration": 5,
    "start_time": "2024-12-22T09:45:02.964Z"
   },
   {
    "duration": 14,
    "start_time": "2024-12-22T09:45:05.098Z"
   },
   {
    "duration": 131,
    "start_time": "2024-12-22T09:45:06.700Z"
   },
   {
    "duration": 128,
    "start_time": "2024-12-22T09:45:13.254Z"
   },
   {
    "duration": 181,
    "start_time": "2024-12-22T09:45:27.164Z"
   },
   {
    "duration": 133,
    "start_time": "2024-12-22T09:45:39.619Z"
   },
   {
    "duration": 220,
    "start_time": "2024-12-22T09:45:42.122Z"
   },
   {
    "duration": 5,
    "start_time": "2024-12-22T09:45:47.203Z"
   },
   {
    "duration": 5,
    "start_time": "2024-12-22T09:45:50.442Z"
   },
   {
    "duration": 5,
    "start_time": "2024-12-22T09:45:50.611Z"
   },
   {
    "duration": 4,
    "start_time": "2024-12-22T09:45:50.816Z"
   },
   {
    "duration": 8,
    "start_time": "2024-12-22T09:45:51.052Z"
   },
   {
    "duration": 5,
    "start_time": "2024-12-22T09:45:53.315Z"
   },
   {
    "duration": 4,
    "start_time": "2024-12-22T09:45:57.250Z"
   },
   {
    "duration": 3,
    "start_time": "2024-12-22T09:45:57.454Z"
   },
   {
    "duration": 5,
    "start_time": "2024-12-22T09:45:59.293Z"
   },
   {
    "duration": 5,
    "start_time": "2024-12-22T09:46:00.117Z"
   },
   {
    "duration": 4,
    "start_time": "2024-12-22T09:46:00.980Z"
   },
   {
    "duration": 5,
    "start_time": "2024-12-22T09:46:01.209Z"
   },
   {
    "duration": 32,
    "start_time": "2024-12-22T09:46:04.368Z"
   },
   {
    "duration": 7753,
    "start_time": "2024-12-22T09:46:07.092Z"
   },
   {
    "duration": 87,
    "start_time": "2024-12-22T09:48:39.889Z"
   },
   {
    "duration": 86,
    "start_time": "2024-12-22T09:48:42.247Z"
   },
   {
    "duration": 5,
    "start_time": "2024-12-22T09:48:44.449Z"
   },
   {
    "duration": 4,
    "start_time": "2024-12-22T09:48:52.792Z"
   },
   {
    "duration": 91,
    "start_time": "2024-12-22T09:48:54.177Z"
   },
   {
    "duration": 8,
    "start_time": "2024-12-22T09:48:56.533Z"
   },
   {
    "duration": 4,
    "start_time": "2024-12-22T09:48:57.448Z"
   },
   {
    "duration": 5,
    "start_time": "2024-12-22T09:48:58.244Z"
   },
   {
    "duration": 6,
    "start_time": "2024-12-22T09:48:58.823Z"
   },
   {
    "duration": 4,
    "start_time": "2024-12-22T09:48:59.230Z"
   },
   {
    "duration": 122,
    "start_time": "2024-12-22T09:49:01.689Z"
   },
   {
    "duration": 3,
    "start_time": "2024-12-22T09:54:30.656Z"
   },
   {
    "duration": 4,
    "start_time": "2024-12-22T09:54:30.822Z"
   },
   {
    "duration": 14,
    "start_time": "2024-12-22T09:54:30.998Z"
   },
   {
    "duration": 11,
    "start_time": "2024-12-22T09:54:31.166Z"
   },
   {
    "duration": 3,
    "start_time": "2024-12-22T09:54:31.486Z"
   },
   {
    "duration": 4,
    "start_time": "2024-12-22T09:54:31.635Z"
   },
   {
    "duration": 5,
    "start_time": "2024-12-22T09:54:31.961Z"
   },
   {
    "duration": 4,
    "start_time": "2024-12-22T09:54:32.284Z"
   },
   {
    "duration": 4,
    "start_time": "2024-12-22T09:54:32.468Z"
   },
   {
    "duration": 10,
    "start_time": "2024-12-22T09:54:32.661Z"
   },
   {
    "duration": 29,
    "start_time": "2024-12-22T09:54:32.861Z"
   },
   {
    "duration": 10,
    "start_time": "2024-12-22T09:54:33.238Z"
   },
   {
    "duration": 5,
    "start_time": "2024-12-22T09:54:33.640Z"
   },
   {
    "duration": 6,
    "start_time": "2024-12-22T09:54:34.445Z"
   },
   {
    "duration": 7,
    "start_time": "2024-12-22T09:54:34.866Z"
   },
   {
    "duration": 6,
    "start_time": "2024-12-22T09:54:35.071Z"
   },
   {
    "duration": 5,
    "start_time": "2024-12-22T09:54:35.277Z"
   },
   {
    "duration": 7,
    "start_time": "2024-12-22T09:54:35.478Z"
   },
   {
    "duration": 14,
    "start_time": "2024-12-22T09:54:36.225Z"
   },
   {
    "duration": 131,
    "start_time": "2024-12-22T09:54:36.389Z"
   },
   {
    "duration": 125,
    "start_time": "2024-12-22T09:54:36.782Z"
   },
   {
    "duration": 173,
    "start_time": "2024-12-22T09:54:37.193Z"
   },
   {
    "duration": 4,
    "start_time": "2024-12-22T09:54:38.456Z"
   },
   {
    "duration": 4,
    "start_time": "2024-12-22T09:54:38.670Z"
   },
   {
    "duration": 3,
    "start_time": "2024-12-22T09:54:38.900Z"
   },
   {
    "duration": 7,
    "start_time": "2024-12-22T09:54:39.162Z"
   },
   {
    "duration": 5,
    "start_time": "2024-12-22T09:54:40.172Z"
   },
   {
    "duration": 3,
    "start_time": "2024-12-22T09:54:40.374Z"
   },
   {
    "duration": 4,
    "start_time": "2024-12-22T09:54:40.587Z"
   },
   {
    "duration": 5,
    "start_time": "2024-12-22T09:54:40.804Z"
   },
   {
    "duration": 5,
    "start_time": "2024-12-22T09:54:41.533Z"
   },
   {
    "duration": 4,
    "start_time": "2024-12-22T09:54:41.731Z"
   },
   {
    "duration": 5,
    "start_time": "2024-12-22T09:54:41.949Z"
   },
   {
    "duration": 30,
    "start_time": "2024-12-22T09:54:44.655Z"
   },
   {
    "duration": 78,
    "start_time": "2024-12-22T09:54:48.077Z"
   },
   {
    "duration": 7820,
    "start_time": "2024-12-22T09:54:50.382Z"
   },
   {
    "duration": 7879,
    "start_time": "2024-12-22T09:55:04.894Z"
   },
   {
    "duration": 93,
    "start_time": "2024-12-22T09:55:12.943Z"
   },
   {
    "duration": 6,
    "start_time": "2024-12-22T09:55:19.563Z"
   },
   {
    "duration": 12,
    "start_time": "2024-12-22T09:56:06.132Z"
   },
   {
    "duration": 82,
    "start_time": "2024-12-22T09:56:09.886Z"
   },
   {
    "duration": 17,
    "start_time": "2024-12-22T09:56:27.018Z"
   },
   {
    "duration": 77,
    "start_time": "2024-12-22T09:56:29.286Z"
   },
   {
    "duration": 14,
    "start_time": "2024-12-22T09:56:56.683Z"
   },
   {
    "duration": 78,
    "start_time": "2024-12-22T09:57:03.801Z"
   },
   {
    "duration": 84,
    "start_time": "2024-12-22T09:57:14.368Z"
   },
   {
    "duration": 26,
    "start_time": "2024-12-22T09:57:26.620Z"
   },
   {
    "duration": 12,
    "start_time": "2024-12-22T09:57:35.953Z"
   },
   {
    "duration": 82,
    "start_time": "2024-12-22T09:57:38.361Z"
   },
   {
    "duration": 2955,
    "start_time": "2024-12-22T09:58:08.028Z"
   },
   {
    "duration": 131,
    "start_time": "2024-12-22T09:58:14.415Z"
   },
   {
    "duration": 5,
    "start_time": "2024-12-22T09:59:02.220Z"
   },
   {
    "duration": 17,
    "start_time": "2024-12-22T09:59:11.409Z"
   },
   {
    "duration": 11,
    "start_time": "2024-12-22T10:00:44.797Z"
   },
   {
    "duration": 103,
    "start_time": "2024-12-22T10:00:48.083Z"
   },
   {
    "duration": 9,
    "start_time": "2024-12-22T10:01:01.502Z"
   },
   {
    "duration": 81,
    "start_time": "2024-12-22T10:01:05.430Z"
   },
   {
    "duration": 11,
    "start_time": "2024-12-22T10:01:18.567Z"
   },
   {
    "duration": 79,
    "start_time": "2024-12-22T10:01:21.071Z"
   },
   {
    "duration": 10,
    "start_time": "2024-12-22T10:01:30.204Z"
   },
   {
    "duration": 84,
    "start_time": "2024-12-22T10:01:33.365Z"
   },
   {
    "duration": 10,
    "start_time": "2024-12-22T10:02:01.362Z"
   },
   {
    "duration": 85,
    "start_time": "2024-12-22T10:02:03.274Z"
   },
   {
    "duration": 10,
    "start_time": "2024-12-22T10:02:15.980Z"
   },
   {
    "duration": 78,
    "start_time": "2024-12-22T10:02:17.859Z"
   },
   {
    "duration": 9,
    "start_time": "2024-12-22T10:02:38.750Z"
   },
   {
    "duration": 78,
    "start_time": "2024-12-22T10:02:40.619Z"
   },
   {
    "duration": 10535,
    "start_time": "2024-12-22T10:04:38.217Z"
   },
   {
    "duration": 7961,
    "start_time": "2024-12-22T10:22:51.206Z"
   },
   {
    "duration": 60299,
    "start_time": "2024-12-22T10:24:55.917Z"
   },
   {
    "duration": 3,
    "start_time": "2024-12-22T10:35:57.492Z"
   },
   {
    "duration": 97,
    "start_time": "2024-12-22T10:36:01.437Z"
   },
   {
    "duration": 822,
    "start_time": "2024-12-22T10:36:26.697Z"
   },
   {
    "duration": 223,
    "start_time": "2024-12-22T10:36:27.521Z"
   },
   {
    "duration": 16,
    "start_time": "2024-12-22T10:36:27.746Z"
   },
   {
    "duration": 15,
    "start_time": "2024-12-22T10:36:27.765Z"
   },
   {
    "duration": 4,
    "start_time": "2024-12-22T10:36:27.782Z"
   },
   {
    "duration": 4,
    "start_time": "2024-12-22T10:36:27.788Z"
   },
   {
    "duration": 4,
    "start_time": "2024-12-22T10:36:27.793Z"
   },
   {
    "duration": 4,
    "start_time": "2024-12-22T10:36:27.799Z"
   },
   {
    "duration": 3,
    "start_time": "2024-12-22T10:36:27.832Z"
   },
   {
    "duration": 12,
    "start_time": "2024-12-22T10:36:27.839Z"
   },
   {
    "duration": 29,
    "start_time": "2024-12-22T10:36:27.852Z"
   },
   {
    "duration": 10,
    "start_time": "2024-12-22T10:36:27.882Z"
   },
   {
    "duration": 5,
    "start_time": "2024-12-22T10:36:27.893Z"
   },
   {
    "duration": 37,
    "start_time": "2024-12-22T10:36:27.899Z"
   },
   {
    "duration": 9,
    "start_time": "2024-12-22T10:36:27.938Z"
   },
   {
    "duration": 4,
    "start_time": "2024-12-22T10:36:27.949Z"
   },
   {
    "duration": 5,
    "start_time": "2024-12-22T10:36:27.955Z"
   },
   {
    "duration": 6,
    "start_time": "2024-12-22T10:36:27.961Z"
   },
   {
    "duration": 15,
    "start_time": "2024-12-22T10:36:27.968Z"
   },
   {
    "duration": 182,
    "start_time": "2024-12-22T10:36:27.984Z"
   },
   {
    "duration": 132,
    "start_time": "2024-12-22T10:36:28.168Z"
   },
   {
    "duration": 189,
    "start_time": "2024-12-22T10:36:28.302Z"
   },
   {
    "duration": 4,
    "start_time": "2024-12-22T10:36:28.493Z"
   },
   {
    "duration": 4,
    "start_time": "2024-12-22T10:36:28.499Z"
   },
   {
    "duration": 3,
    "start_time": "2024-12-22T10:36:28.505Z"
   },
   {
    "duration": 24,
    "start_time": "2024-12-22T10:36:28.510Z"
   },
   {
    "duration": 5,
    "start_time": "2024-12-22T10:36:28.536Z"
   },
   {
    "duration": 4,
    "start_time": "2024-12-22T10:36:28.546Z"
   },
   {
    "duration": 3,
    "start_time": "2024-12-22T10:36:28.551Z"
   },
   {
    "duration": 4,
    "start_time": "2024-12-22T10:36:28.556Z"
   },
   {
    "duration": 4,
    "start_time": "2024-12-22T10:36:28.561Z"
   },
   {
    "duration": 5,
    "start_time": "2024-12-22T10:36:28.567Z"
   },
   {
    "duration": 9,
    "start_time": "2024-12-22T10:36:28.573Z"
   },
   {
    "duration": 69,
    "start_time": "2024-12-22T10:36:28.585Z"
   },
   {
    "duration": 205,
    "start_time": "2024-12-22T10:36:28.656Z"
   },
   {
    "duration": 7629,
    "start_time": "2024-12-22T10:36:28.863Z"
   },
   {
    "duration": 103,
    "start_time": "2024-12-22T10:36:36.494Z"
   },
   {
    "duration": 5,
    "start_time": "2024-12-22T10:36:36.599Z"
   },
   {
    "duration": 7880,
    "start_time": "2024-12-22T10:36:36.606Z"
   },
   {
    "duration": 3,
    "start_time": "2024-12-22T10:36:44.488Z"
   },
   {
    "duration": 102,
    "start_time": "2024-12-22T10:36:44.493Z"
   },
   {
    "duration": 9,
    "start_time": "2024-12-22T10:36:44.597Z"
   },
   {
    "duration": 92,
    "start_time": "2024-12-22T10:36:44.607Z"
   },
   {
    "duration": 7,
    "start_time": "2024-12-22T10:36:44.701Z"
   },
   {
    "duration": 23,
    "start_time": "2024-12-22T10:36:44.709Z"
   },
   {
    "duration": 5,
    "start_time": "2024-12-22T10:36:44.733Z"
   },
   {
    "duration": 3,
    "start_time": "2024-12-22T10:36:44.740Z"
   },
   {
    "duration": 5,
    "start_time": "2024-12-22T10:36:44.745Z"
   },
   {
    "duration": 445,
    "start_time": "2024-12-22T10:36:44.751Z"
   },
   {
    "duration": 0,
    "start_time": "2024-12-22T10:36:45.197Z"
   },
   {
    "duration": 0,
    "start_time": "2024-12-22T10:36:45.198Z"
   },
   {
    "duration": 801,
    "start_time": "2024-12-22T10:37:56.017Z"
   },
   {
    "duration": 205,
    "start_time": "2024-12-22T10:37:56.820Z"
   },
   {
    "duration": 19,
    "start_time": "2024-12-22T10:37:57.027Z"
   },
   {
    "duration": 13,
    "start_time": "2024-12-22T10:37:57.048Z"
   },
   {
    "duration": 5,
    "start_time": "2024-12-22T10:37:57.062Z"
   },
   {
    "duration": 4,
    "start_time": "2024-12-22T10:37:57.068Z"
   },
   {
    "duration": 4,
    "start_time": "2024-12-22T10:37:57.074Z"
   },
   {
    "duration": 3,
    "start_time": "2024-12-22T10:37:57.080Z"
   },
   {
    "duration": 3,
    "start_time": "2024-12-22T10:37:57.085Z"
   },
   {
    "duration": 48,
    "start_time": "2024-12-22T10:37:57.091Z"
   },
   {
    "duration": 27,
    "start_time": "2024-12-22T10:37:57.140Z"
   },
   {
    "duration": 11,
    "start_time": "2024-12-22T10:37:57.169Z"
   },
   {
    "duration": 6,
    "start_time": "2024-12-22T10:37:57.181Z"
   },
   {
    "duration": 6,
    "start_time": "2024-12-22T10:37:57.189Z"
   },
   {
    "duration": 34,
    "start_time": "2024-12-22T10:37:57.197Z"
   },
   {
    "duration": 7,
    "start_time": "2024-12-22T10:37:57.233Z"
   },
   {
    "duration": 5,
    "start_time": "2024-12-22T10:37:57.241Z"
   },
   {
    "duration": 6,
    "start_time": "2024-12-22T10:37:57.248Z"
   },
   {
    "duration": 14,
    "start_time": "2024-12-22T10:37:57.256Z"
   },
   {
    "duration": 162,
    "start_time": "2024-12-22T10:37:57.272Z"
   },
   {
    "duration": 146,
    "start_time": "2024-12-22T10:37:57.436Z"
   },
   {
    "duration": 196,
    "start_time": "2024-12-22T10:37:57.585Z"
   },
   {
    "duration": 5,
    "start_time": "2024-12-22T10:37:57.783Z"
   },
   {
    "duration": 4,
    "start_time": "2024-12-22T10:37:57.790Z"
   },
   {
    "duration": 3,
    "start_time": "2024-12-22T10:37:57.795Z"
   },
   {
    "duration": 7,
    "start_time": "2024-12-22T10:37:57.800Z"
   },
   {
    "duration": 5,
    "start_time": "2024-12-22T10:37:57.830Z"
   },
   {
    "duration": 4,
    "start_time": "2024-12-22T10:37:57.839Z"
   },
   {
    "duration": 4,
    "start_time": "2024-12-22T10:37:57.844Z"
   },
   {
    "duration": 5,
    "start_time": "2024-12-22T10:37:57.849Z"
   },
   {
    "duration": 4,
    "start_time": "2024-12-22T10:37:57.855Z"
   },
   {
    "duration": 4,
    "start_time": "2024-12-22T10:37:57.860Z"
   },
   {
    "duration": 3,
    "start_time": "2024-12-22T10:37:57.866Z"
   },
   {
    "duration": 87,
    "start_time": "2024-12-22T10:37:57.871Z"
   },
   {
    "duration": 206,
    "start_time": "2024-12-22T10:37:57.960Z"
   },
   {
    "duration": 7863,
    "start_time": "2024-12-22T10:37:58.168Z"
   },
   {
    "duration": 100,
    "start_time": "2024-12-22T10:38:06.033Z"
   },
   {
    "duration": 5,
    "start_time": "2024-12-22T10:38:06.136Z"
   },
   {
    "duration": 7936,
    "start_time": "2024-12-22T10:38:06.143Z"
   },
   {
    "duration": 303,
    "start_time": "2024-12-22T10:38:14.081Z"
   },
   {
    "duration": 0,
    "start_time": "2024-12-22T10:38:14.386Z"
   },
   {
    "duration": 0,
    "start_time": "2024-12-22T10:38:14.388Z"
   },
   {
    "duration": 0,
    "start_time": "2024-12-22T10:38:14.389Z"
   },
   {
    "duration": 0,
    "start_time": "2024-12-22T10:38:14.390Z"
   },
   {
    "duration": 0,
    "start_time": "2024-12-22T10:38:14.391Z"
   },
   {
    "duration": 815,
    "start_time": "2024-12-22T10:39:00.107Z"
   },
   {
    "duration": 215,
    "start_time": "2024-12-22T10:39:00.925Z"
   },
   {
    "duration": 15,
    "start_time": "2024-12-22T10:39:01.142Z"
   },
   {
    "duration": 12,
    "start_time": "2024-12-22T10:39:01.160Z"
   },
   {
    "duration": 3,
    "start_time": "2024-12-22T10:39:01.173Z"
   },
   {
    "duration": 4,
    "start_time": "2024-12-22T10:39:01.178Z"
   },
   {
    "duration": 4,
    "start_time": "2024-12-22T10:39:01.184Z"
   },
   {
    "duration": 4,
    "start_time": "2024-12-22T10:39:01.189Z"
   },
   {
    "duration": 3,
    "start_time": "2024-12-22T10:39:01.232Z"
   },
   {
    "duration": 11,
    "start_time": "2024-12-22T10:39:01.239Z"
   },
   {
    "duration": 29,
    "start_time": "2024-12-22T10:39:01.251Z"
   },
   {
    "duration": 9,
    "start_time": "2024-12-22T10:39:01.282Z"
   },
   {
    "duration": 5,
    "start_time": "2024-12-22T10:39:01.292Z"
   },
   {
    "duration": 38,
    "start_time": "2024-12-22T10:39:01.299Z"
   },
   {
    "duration": 7,
    "start_time": "2024-12-22T10:39:01.338Z"
   },
   {
    "duration": 5,
    "start_time": "2024-12-22T10:39:01.347Z"
   },
   {
    "duration": 5,
    "start_time": "2024-12-22T10:39:01.354Z"
   },
   {
    "duration": 10,
    "start_time": "2024-12-22T10:39:01.361Z"
   },
   {
    "duration": 20,
    "start_time": "2024-12-22T10:39:01.373Z"
   },
   {
    "duration": 169,
    "start_time": "2024-12-22T10:39:01.395Z"
   },
   {
    "duration": 132,
    "start_time": "2024-12-22T10:39:01.566Z"
   },
   {
    "duration": 189,
    "start_time": "2024-12-22T10:39:01.700Z"
   },
   {
    "duration": 5,
    "start_time": "2024-12-22T10:39:01.891Z"
   },
   {
    "duration": 5,
    "start_time": "2024-12-22T10:39:01.897Z"
   },
   {
    "duration": 4,
    "start_time": "2024-12-22T10:39:01.904Z"
   },
   {
    "duration": 24,
    "start_time": "2024-12-22T10:39:01.909Z"
   },
   {
    "duration": 5,
    "start_time": "2024-12-22T10:39:01.935Z"
   },
   {
    "duration": 6,
    "start_time": "2024-12-22T10:39:01.944Z"
   },
   {
    "duration": 7,
    "start_time": "2024-12-22T10:39:01.951Z"
   },
   {
    "duration": 6,
    "start_time": "2024-12-22T10:39:01.961Z"
   },
   {
    "duration": 5,
    "start_time": "2024-12-22T10:39:01.968Z"
   },
   {
    "duration": 4,
    "start_time": "2024-12-22T10:39:01.974Z"
   },
   {
    "duration": 4,
    "start_time": "2024-12-22T10:39:01.980Z"
   },
   {
    "duration": 68,
    "start_time": "2024-12-22T10:39:01.985Z"
   },
   {
    "duration": 201,
    "start_time": "2024-12-22T10:39:02.054Z"
   },
   {
    "duration": 7731,
    "start_time": "2024-12-22T10:39:02.257Z"
   },
   {
    "duration": 100,
    "start_time": "2024-12-22T10:39:09.990Z"
   },
   {
    "duration": 5,
    "start_time": "2024-12-22T10:39:10.092Z"
   },
   {
    "duration": 7936,
    "start_time": "2024-12-22T10:39:10.099Z"
   },
   {
    "duration": 12,
    "start_time": "2024-12-22T10:39:18.038Z"
   },
   {
    "duration": 98,
    "start_time": "2024-12-22T10:39:18.052Z"
   },
   {
    "duration": 60253,
    "start_time": "2024-12-22T10:39:18.152Z"
   },
   {
    "duration": 315,
    "start_time": "2024-12-22T10:40:18.407Z"
   },
   {
    "duration": 0,
    "start_time": "2024-12-22T10:40:18.723Z"
   },
   {
    "duration": 60515,
    "start_time": "2024-12-22T10:40:38.450Z"
   },
   {
    "duration": 15,
    "start_time": "2024-12-22T10:41:38.968Z"
   },
   {
    "duration": 28,
    "start_time": "2024-12-22T10:42:04.476Z"
   },
   {
    "duration": 30,
    "start_time": "2024-12-22T10:42:19.199Z"
   },
   {
    "duration": 43935,
    "start_time": "2024-12-22T10:47:16.390Z"
   },
   {
    "duration": 788,
    "start_time": "2024-12-22T10:49:40.583Z"
   },
   {
    "duration": 211,
    "start_time": "2024-12-22T10:49:41.374Z"
   },
   {
    "duration": 16,
    "start_time": "2024-12-22T10:49:41.587Z"
   },
   {
    "duration": 13,
    "start_time": "2024-12-22T10:49:41.604Z"
   },
   {
    "duration": 3,
    "start_time": "2024-12-22T10:49:41.619Z"
   },
   {
    "duration": 4,
    "start_time": "2024-12-22T10:49:41.631Z"
   },
   {
    "duration": 4,
    "start_time": "2024-12-22T10:49:41.636Z"
   },
   {
    "duration": 4,
    "start_time": "2024-12-22T10:49:41.642Z"
   },
   {
    "duration": 4,
    "start_time": "2024-12-22T10:49:41.647Z"
   },
   {
    "duration": 9,
    "start_time": "2024-12-22T10:49:41.652Z"
   },
   {
    "duration": 30,
    "start_time": "2024-12-22T10:49:41.663Z"
   },
   {
    "duration": 44,
    "start_time": "2024-12-22T10:49:41.695Z"
   },
   {
    "duration": 5,
    "start_time": "2024-12-22T10:49:41.741Z"
   },
   {
    "duration": 7,
    "start_time": "2024-12-22T10:49:41.750Z"
   },
   {
    "duration": 8,
    "start_time": "2024-12-22T10:49:41.759Z"
   },
   {
    "duration": 6,
    "start_time": "2024-12-22T10:49:41.768Z"
   },
   {
    "duration": 7,
    "start_time": "2024-12-22T10:49:41.775Z"
   },
   {
    "duration": 48,
    "start_time": "2024-12-22T10:49:41.783Z"
   },
   {
    "duration": 16,
    "start_time": "2024-12-22T10:49:41.833Z"
   },
   {
    "duration": 157,
    "start_time": "2024-12-22T10:49:41.851Z"
   },
   {
    "duration": 136,
    "start_time": "2024-12-22T10:49:42.009Z"
   },
   {
    "duration": 186,
    "start_time": "2024-12-22T10:49:42.147Z"
   },
   {
    "duration": 6,
    "start_time": "2024-12-22T10:49:42.335Z"
   },
   {
    "duration": 5,
    "start_time": "2024-12-22T10:49:42.342Z"
   },
   {
    "duration": 3,
    "start_time": "2024-12-22T10:49:42.349Z"
   },
   {
    "duration": 6,
    "start_time": "2024-12-22T10:49:42.354Z"
   },
   {
    "duration": 4,
    "start_time": "2024-12-22T10:49:42.362Z"
   },
   {
    "duration": 4,
    "start_time": "2024-12-22T10:49:42.368Z"
   },
   {
    "duration": 4,
    "start_time": "2024-12-22T10:49:42.373Z"
   },
   {
    "duration": 5,
    "start_time": "2024-12-22T10:49:42.380Z"
   },
   {
    "duration": 5,
    "start_time": "2024-12-22T10:49:42.430Z"
   },
   {
    "duration": 5,
    "start_time": "2024-12-22T10:49:42.437Z"
   },
   {
    "duration": 4,
    "start_time": "2024-12-22T10:49:42.445Z"
   },
   {
    "duration": 80,
    "start_time": "2024-12-22T10:49:42.451Z"
   },
   {
    "duration": 45161,
    "start_time": "2024-12-22T10:49:42.533Z"
   },
   {
    "duration": 110,
    "start_time": "2024-12-22T10:50:27.696Z"
   },
   {
    "duration": 5,
    "start_time": "2024-12-22T10:50:27.807Z"
   },
   {
    "duration": 44352,
    "start_time": "2024-12-22T10:50:27.814Z"
   },
   {
    "duration": 9,
    "start_time": "2024-12-22T10:51:12.167Z"
   },
   {
    "duration": 94,
    "start_time": "2024-12-22T10:51:12.178Z"
   },
   {
    "duration": 60470,
    "start_time": "2024-12-22T10:51:12.276Z"
   },
   {
    "duration": 31,
    "start_time": "2024-12-22T10:52:12.747Z"
   },
   {
    "duration": 802,
    "start_time": "2024-12-22T11:08:45.131Z"
   },
   {
    "duration": 203,
    "start_time": "2024-12-22T11:08:45.935Z"
   },
   {
    "duration": 17,
    "start_time": "2024-12-22T11:08:46.140Z"
   },
   {
    "duration": 12,
    "start_time": "2024-12-22T11:08:46.159Z"
   },
   {
    "duration": 3,
    "start_time": "2024-12-22T11:08:46.173Z"
   },
   {
    "duration": 5,
    "start_time": "2024-12-22T11:08:46.178Z"
   },
   {
    "duration": 4,
    "start_time": "2024-12-22T11:08:46.185Z"
   },
   {
    "duration": 4,
    "start_time": "2024-12-22T11:08:46.190Z"
   },
   {
    "duration": 3,
    "start_time": "2024-12-22T11:08:46.196Z"
   },
   {
    "duration": 11,
    "start_time": "2024-12-22T11:08:46.233Z"
   },
   {
    "duration": 28,
    "start_time": "2024-12-22T11:08:46.245Z"
   },
   {
    "duration": 9,
    "start_time": "2024-12-22T11:08:46.275Z"
   },
   {
    "duration": 4,
    "start_time": "2024-12-22T11:08:46.286Z"
   },
   {
    "duration": 6,
    "start_time": "2024-12-22T11:08:46.292Z"
   },
   {
    "duration": 9,
    "start_time": "2024-12-22T11:08:46.332Z"
   },
   {
    "duration": 5,
    "start_time": "2024-12-22T11:08:46.343Z"
   },
   {
    "duration": 5,
    "start_time": "2024-12-22T11:08:46.350Z"
   },
   {
    "duration": 5,
    "start_time": "2024-12-22T11:08:46.357Z"
   },
   {
    "duration": 15,
    "start_time": "2024-12-22T11:08:46.364Z"
   },
   {
    "duration": 167,
    "start_time": "2024-12-22T11:08:46.381Z"
   },
   {
    "duration": 129,
    "start_time": "2024-12-22T11:08:46.550Z"
   },
   {
    "duration": 188,
    "start_time": "2024-12-22T11:08:46.681Z"
   },
   {
    "duration": 4,
    "start_time": "2024-12-22T11:08:46.871Z"
   },
   {
    "duration": 4,
    "start_time": "2024-12-22T11:08:46.877Z"
   },
   {
    "duration": 4,
    "start_time": "2024-12-22T11:08:46.882Z"
   },
   {
    "duration": 7,
    "start_time": "2024-12-22T11:08:46.887Z"
   },
   {
    "duration": 4,
    "start_time": "2024-12-22T11:08:46.896Z"
   },
   {
    "duration": 4,
    "start_time": "2024-12-22T11:08:46.930Z"
   },
   {
    "duration": 4,
    "start_time": "2024-12-22T11:08:46.935Z"
   },
   {
    "duration": 5,
    "start_time": "2024-12-22T11:08:46.940Z"
   },
   {
    "duration": 4,
    "start_time": "2024-12-22T11:08:46.947Z"
   },
   {
    "duration": 4,
    "start_time": "2024-12-22T11:08:46.953Z"
   },
   {
    "duration": 4,
    "start_time": "2024-12-22T11:08:46.959Z"
   },
   {
    "duration": 75,
    "start_time": "2024-12-22T11:08:46.965Z"
   },
   {
    "duration": 7775,
    "start_time": "2024-12-22T11:08:47.043Z"
   },
   {
    "duration": 95,
    "start_time": "2024-12-22T11:08:54.820Z"
   },
   {
    "duration": 14,
    "start_time": "2024-12-22T11:08:54.917Z"
   },
   {
    "duration": 7907,
    "start_time": "2024-12-22T11:08:54.932Z"
   },
   {
    "duration": 9,
    "start_time": "2024-12-22T11:09:02.841Z"
   },
   {
    "duration": 99,
    "start_time": "2024-12-22T11:09:02.852Z"
   },
   {
    "duration": 10414,
    "start_time": "2024-12-22T11:09:02.953Z"
   },
   {
    "duration": 16,
    "start_time": "2024-12-22T11:09:13.369Z"
   },
   {
    "duration": 2523,
    "start_time": "2024-12-22T16:32:29.118Z"
   },
   {
    "duration": 165,
    "start_time": "2024-12-22T16:32:31.645Z"
   },
   {
    "duration": 27,
    "start_time": "2024-12-22T16:32:31.812Z"
   },
   {
    "duration": 12,
    "start_time": "2024-12-22T16:32:31.842Z"
   },
   {
    "duration": 3,
    "start_time": "2024-12-22T16:32:31.855Z"
   },
   {
    "duration": 4,
    "start_time": "2024-12-22T16:32:31.860Z"
   },
   {
    "duration": 4,
    "start_time": "2024-12-22T16:32:31.866Z"
   },
   {
    "duration": 3,
    "start_time": "2024-12-22T16:32:31.872Z"
   },
   {
    "duration": 3,
    "start_time": "2024-12-22T16:32:31.877Z"
   },
   {
    "duration": 9,
    "start_time": "2024-12-22T16:32:31.910Z"
   },
   {
    "duration": 27,
    "start_time": "2024-12-22T16:32:31.921Z"
   },
   {
    "duration": 9,
    "start_time": "2024-12-22T16:32:31.950Z"
   },
   {
    "duration": 5,
    "start_time": "2024-12-22T16:32:31.960Z"
   },
   {
    "duration": 6,
    "start_time": "2024-12-22T16:32:31.967Z"
   },
   {
    "duration": 40,
    "start_time": "2024-12-22T16:32:31.975Z"
   },
   {
    "duration": 5,
    "start_time": "2024-12-22T16:32:32.016Z"
   },
   {
    "duration": 5,
    "start_time": "2024-12-22T16:32:32.022Z"
   },
   {
    "duration": 5,
    "start_time": "2024-12-22T16:32:32.029Z"
   },
   {
    "duration": 14,
    "start_time": "2024-12-22T16:32:32.035Z"
   },
   {
    "duration": 173,
    "start_time": "2024-12-22T16:32:32.050Z"
   },
   {
    "duration": 187,
    "start_time": "2024-12-22T16:32:32.226Z"
   },
   {
    "duration": 188,
    "start_time": "2024-12-22T16:32:32.415Z"
   },
   {
    "duration": 6,
    "start_time": "2024-12-22T16:32:32.605Z"
   },
   {
    "duration": 4,
    "start_time": "2024-12-22T16:32:32.613Z"
   },
   {
    "duration": 3,
    "start_time": "2024-12-22T16:32:32.619Z"
   },
   {
    "duration": 7,
    "start_time": "2024-12-22T16:32:32.624Z"
   },
   {
    "duration": 5,
    "start_time": "2024-12-22T16:32:32.633Z"
   },
   {
    "duration": 3,
    "start_time": "2024-12-22T16:32:32.642Z"
   },
   {
    "duration": 3,
    "start_time": "2024-12-22T16:32:32.647Z"
   },
   {
    "duration": 5,
    "start_time": "2024-12-22T16:32:32.652Z"
   },
   {
    "duration": 4,
    "start_time": "2024-12-22T16:32:32.658Z"
   },
   {
    "duration": 49,
    "start_time": "2024-12-22T16:32:32.663Z"
   },
   {
    "duration": 4,
    "start_time": "2024-12-22T16:32:32.713Z"
   },
   {
    "duration": 30,
    "start_time": "2024-12-22T16:32:32.720Z"
   },
   {
    "duration": 7793,
    "start_time": "2024-12-22T16:32:32.752Z"
   },
   {
    "duration": 102,
    "start_time": "2024-12-22T16:32:40.547Z"
   },
   {
    "duration": 5,
    "start_time": "2024-12-22T16:32:40.650Z"
   },
   {
    "duration": 7892,
    "start_time": "2024-12-22T16:32:40.656Z"
   },
   {
    "duration": 10,
    "start_time": "2024-12-22T16:32:48.550Z"
   },
   {
    "duration": 94,
    "start_time": "2024-12-22T16:32:48.562Z"
   },
   {
    "duration": 10406,
    "start_time": "2024-12-22T16:32:48.658Z"
   },
   {
    "duration": 18,
    "start_time": "2024-12-22T16:32:59.066Z"
   },
   {
    "duration": 7660,
    "start_time": "2024-12-22T16:35:02.127Z"
   },
   {
    "duration": 0,
    "start_time": "2024-12-22T16:36:46.336Z"
   },
   {
    "duration": 67,
    "start_time": "2024-12-22T16:36:50.912Z"
   },
   {
    "duration": 30,
    "start_time": "2024-12-22T16:37:23.244Z"
   },
   {
    "duration": 865,
    "start_time": "2024-12-22T16:37:31.527Z"
   },
   {
    "duration": 218,
    "start_time": "2024-12-22T16:37:32.394Z"
   },
   {
    "duration": 16,
    "start_time": "2024-12-22T16:37:32.614Z"
   },
   {
    "duration": 12,
    "start_time": "2024-12-22T16:37:32.632Z"
   },
   {
    "duration": 4,
    "start_time": "2024-12-22T16:37:32.646Z"
   },
   {
    "duration": 4,
    "start_time": "2024-12-22T16:37:32.651Z"
   },
   {
    "duration": 5,
    "start_time": "2024-12-22T16:37:32.656Z"
   },
   {
    "duration": 4,
    "start_time": "2024-12-22T16:37:32.663Z"
   },
   {
    "duration": 3,
    "start_time": "2024-12-22T16:37:32.668Z"
   },
   {
    "duration": 11,
    "start_time": "2024-12-22T16:37:32.711Z"
   },
   {
    "duration": 27,
    "start_time": "2024-12-22T16:37:32.723Z"
   },
   {
    "duration": 8,
    "start_time": "2024-12-22T16:37:32.752Z"
   },
   {
    "duration": 5,
    "start_time": "2024-12-22T16:37:32.761Z"
   },
   {
    "duration": 5,
    "start_time": "2024-12-22T16:37:32.770Z"
   },
   {
    "duration": 37,
    "start_time": "2024-12-22T16:37:32.776Z"
   },
   {
    "duration": 5,
    "start_time": "2024-12-22T16:37:32.815Z"
   },
   {
    "duration": 6,
    "start_time": "2024-12-22T16:37:32.821Z"
   },
   {
    "duration": 5,
    "start_time": "2024-12-22T16:37:32.828Z"
   },
   {
    "duration": 14,
    "start_time": "2024-12-22T16:37:32.835Z"
   },
   {
    "duration": 170,
    "start_time": "2024-12-22T16:37:32.851Z"
   },
   {
    "duration": 128,
    "start_time": "2024-12-22T16:37:33.023Z"
   },
   {
    "duration": 183,
    "start_time": "2024-12-22T16:37:33.153Z"
   },
   {
    "duration": 4,
    "start_time": "2024-12-22T16:37:33.339Z"
   },
   {
    "duration": 4,
    "start_time": "2024-12-22T16:37:33.346Z"
   },
   {
    "duration": 3,
    "start_time": "2024-12-22T16:37:33.352Z"
   },
   {
    "duration": 7,
    "start_time": "2024-12-22T16:37:33.357Z"
   },
   {
    "duration": 6,
    "start_time": "2024-12-22T16:37:33.365Z"
   },
   {
    "duration": 35,
    "start_time": "2024-12-22T16:37:33.375Z"
   },
   {
    "duration": 4,
    "start_time": "2024-12-22T16:37:33.411Z"
   },
   {
    "duration": 4,
    "start_time": "2024-12-22T16:37:33.416Z"
   },
   {
    "duration": 4,
    "start_time": "2024-12-22T16:37:33.422Z"
   },
   {
    "duration": 4,
    "start_time": "2024-12-22T16:37:33.428Z"
   },
   {
    "duration": 4,
    "start_time": "2024-12-22T16:37:33.435Z"
   },
   {
    "duration": 76,
    "start_time": "2024-12-22T16:37:33.441Z"
   },
   {
    "duration": 331,
    "start_time": "2024-12-22T16:37:33.519Z"
   },
   {
    "duration": 0,
    "start_time": "2024-12-22T16:37:33.851Z"
   },
   {
    "duration": 0,
    "start_time": "2024-12-22T16:37:33.852Z"
   },
   {
    "duration": 0,
    "start_time": "2024-12-22T16:37:33.853Z"
   },
   {
    "duration": 0,
    "start_time": "2024-12-22T16:37:33.854Z"
   },
   {
    "duration": 0,
    "start_time": "2024-12-22T16:37:33.855Z"
   },
   {
    "duration": 0,
    "start_time": "2024-12-22T16:37:33.856Z"
   },
   {
    "duration": 0,
    "start_time": "2024-12-22T16:37:33.857Z"
   },
   {
    "duration": 25,
    "start_time": "2024-12-22T16:39:35.739Z"
   },
   {
    "duration": 876,
    "start_time": "2024-12-22T16:39:45.618Z"
   },
   {
    "duration": 208,
    "start_time": "2024-12-22T16:39:46.496Z"
   },
   {
    "duration": 16,
    "start_time": "2024-12-22T16:39:46.706Z"
   },
   {
    "duration": 11,
    "start_time": "2024-12-22T16:39:46.724Z"
   },
   {
    "duration": 4,
    "start_time": "2024-12-22T16:39:46.737Z"
   },
   {
    "duration": 5,
    "start_time": "2024-12-22T16:39:46.742Z"
   },
   {
    "duration": 4,
    "start_time": "2024-12-22T16:39:46.749Z"
   },
   {
    "duration": 3,
    "start_time": "2024-12-22T16:39:46.755Z"
   },
   {
    "duration": 3,
    "start_time": "2024-12-22T16:39:46.760Z"
   },
   {
    "duration": 47,
    "start_time": "2024-12-22T16:39:46.765Z"
   },
   {
    "duration": 27,
    "start_time": "2024-12-22T16:39:46.814Z"
   },
   {
    "duration": 8,
    "start_time": "2024-12-22T16:39:46.843Z"
   },
   {
    "duration": 5,
    "start_time": "2024-12-22T16:39:46.852Z"
   },
   {
    "duration": 7,
    "start_time": "2024-12-22T16:39:46.861Z"
   },
   {
    "duration": 41,
    "start_time": "2024-12-22T16:39:46.870Z"
   },
   {
    "duration": 5,
    "start_time": "2024-12-22T16:39:46.912Z"
   },
   {
    "duration": 5,
    "start_time": "2024-12-22T16:39:46.919Z"
   },
   {
    "duration": 5,
    "start_time": "2024-12-22T16:39:46.927Z"
   },
   {
    "duration": 14,
    "start_time": "2024-12-22T16:39:46.933Z"
   },
   {
    "duration": 162,
    "start_time": "2024-12-22T16:39:46.949Z"
   },
   {
    "duration": 151,
    "start_time": "2024-12-22T16:39:47.113Z"
   },
   {
    "duration": 201,
    "start_time": "2024-12-22T16:39:47.267Z"
   },
   {
    "duration": 6,
    "start_time": "2024-12-22T16:39:47.470Z"
   },
   {
    "duration": 4,
    "start_time": "2024-12-22T16:39:47.478Z"
   },
   {
    "duration": 26,
    "start_time": "2024-12-22T16:39:47.484Z"
   },
   {
    "duration": 9,
    "start_time": "2024-12-22T16:39:47.512Z"
   },
   {
    "duration": 6,
    "start_time": "2024-12-22T16:39:47.522Z"
   },
   {
    "duration": 4,
    "start_time": "2024-12-22T16:39:47.529Z"
   },
   {
    "duration": 4,
    "start_time": "2024-12-22T16:39:47.534Z"
   },
   {
    "duration": 4,
    "start_time": "2024-12-22T16:39:47.540Z"
   },
   {
    "duration": 4,
    "start_time": "2024-12-22T16:39:47.545Z"
   },
   {
    "duration": 4,
    "start_time": "2024-12-22T16:39:47.551Z"
   },
   {
    "duration": 4,
    "start_time": "2024-12-22T16:39:47.556Z"
   },
   {
    "duration": 77,
    "start_time": "2024-12-22T16:39:47.562Z"
   },
   {
    "duration": 7986,
    "start_time": "2024-12-22T16:39:47.641Z"
   },
   {
    "duration": 0,
    "start_time": "2024-12-22T16:39:55.628Z"
   },
   {
    "duration": 0,
    "start_time": "2024-12-22T16:39:55.630Z"
   },
   {
    "duration": 0,
    "start_time": "2024-12-22T16:39:55.631Z"
   },
   {
    "duration": 0,
    "start_time": "2024-12-22T16:39:55.632Z"
   },
   {
    "duration": 0,
    "start_time": "2024-12-22T16:39:55.633Z"
   },
   {
    "duration": 0,
    "start_time": "2024-12-22T16:39:55.635Z"
   },
   {
    "duration": 0,
    "start_time": "2024-12-22T16:39:55.637Z"
   },
   {
    "duration": 807,
    "start_time": "2024-12-22T16:40:41.785Z"
   },
   {
    "duration": 203,
    "start_time": "2024-12-22T16:40:42.594Z"
   },
   {
    "duration": 21,
    "start_time": "2024-12-22T16:40:42.798Z"
   },
   {
    "duration": 11,
    "start_time": "2024-12-22T16:40:42.821Z"
   },
   {
    "duration": 3,
    "start_time": "2024-12-22T16:40:42.834Z"
   },
   {
    "duration": 4,
    "start_time": "2024-12-22T16:40:42.839Z"
   },
   {
    "duration": 5,
    "start_time": "2024-12-22T16:40:42.844Z"
   },
   {
    "duration": 4,
    "start_time": "2024-12-22T16:40:42.850Z"
   },
   {
    "duration": 3,
    "start_time": "2024-12-22T16:40:42.856Z"
   },
   {
    "duration": 47,
    "start_time": "2024-12-22T16:40:42.863Z"
   },
   {
    "duration": 28,
    "start_time": "2024-12-22T16:40:42.911Z"
   },
   {
    "duration": 9,
    "start_time": "2024-12-22T16:40:42.941Z"
   },
   {
    "duration": 5,
    "start_time": "2024-12-22T16:40:42.951Z"
   },
   {
    "duration": 6,
    "start_time": "2024-12-22T16:40:42.957Z"
   },
   {
    "duration": 9,
    "start_time": "2024-12-22T16:40:42.965Z"
   },
   {
    "duration": 38,
    "start_time": "2024-12-22T16:40:42.976Z"
   },
   {
    "duration": 7,
    "start_time": "2024-12-22T16:40:43.016Z"
   },
   {
    "duration": 6,
    "start_time": "2024-12-22T16:40:43.024Z"
   },
   {
    "duration": 15,
    "start_time": "2024-12-22T16:40:43.031Z"
   },
   {
    "duration": 163,
    "start_time": "2024-12-22T16:40:43.048Z"
   },
   {
    "duration": 131,
    "start_time": "2024-12-22T16:40:43.212Z"
   },
   {
    "duration": 186,
    "start_time": "2024-12-22T16:40:43.345Z"
   },
   {
    "duration": 7,
    "start_time": "2024-12-22T16:40:43.532Z"
   },
   {
    "duration": 4,
    "start_time": "2024-12-22T16:40:43.541Z"
   },
   {
    "duration": 4,
    "start_time": "2024-12-22T16:40:43.546Z"
   },
   {
    "duration": 7,
    "start_time": "2024-12-22T16:40:43.551Z"
   },
   {
    "duration": 5,
    "start_time": "2024-12-22T16:40:43.560Z"
   },
   {
    "duration": 3,
    "start_time": "2024-12-22T16:40:43.570Z"
   },
   {
    "duration": 34,
    "start_time": "2024-12-22T16:40:43.575Z"
   },
   {
    "duration": 3,
    "start_time": "2024-12-22T16:40:43.611Z"
   },
   {
    "duration": 3,
    "start_time": "2024-12-22T16:40:43.616Z"
   },
   {
    "duration": 5,
    "start_time": "2024-12-22T16:40:43.621Z"
   },
   {
    "duration": 5,
    "start_time": "2024-12-22T16:40:43.627Z"
   },
   {
    "duration": 75,
    "start_time": "2024-12-22T16:40:43.634Z"
   },
   {
    "duration": 7355,
    "start_time": "2024-12-22T16:40:43.711Z"
   },
   {
    "duration": 100,
    "start_time": "2024-12-22T16:40:51.068Z"
   },
   {
    "duration": 6,
    "start_time": "2024-12-22T16:40:51.170Z"
   },
   {
    "duration": 8200,
    "start_time": "2024-12-22T16:40:51.177Z"
   },
   {
    "duration": 10,
    "start_time": "2024-12-22T16:40:59.379Z"
   },
   {
    "duration": 94,
    "start_time": "2024-12-22T16:40:59.391Z"
   },
   {
    "duration": 10412,
    "start_time": "2024-12-22T16:40:59.486Z"
   },
   {
    "duration": 24,
    "start_time": "2024-12-22T16:41:09.900Z"
   },
   {
    "duration": 240,
    "start_time": "2024-12-22T16:49:08.740Z"
   },
   {
    "duration": 30,
    "start_time": "2024-12-22T16:49:09.461Z"
   },
   {
    "duration": 11,
    "start_time": "2024-12-22T16:49:29.485Z"
   },
   {
    "duration": 80,
    "start_time": "2024-12-22T16:49:30.974Z"
   },
   {
    "duration": 12,
    "start_time": "2024-12-22T16:50:04.606Z"
   },
   {
    "duration": 12,
    "start_time": "2024-12-22T16:50:54.517Z"
   },
   {
    "duration": 84,
    "start_time": "2024-12-22T16:50:56.012Z"
   },
   {
    "duration": 18,
    "start_time": "2024-12-22T16:53:17.239Z"
   },
   {
    "duration": 80,
    "start_time": "2024-12-22T16:53:19.557Z"
   },
   {
    "duration": 14,
    "start_time": "2024-12-22T16:53:43.727Z"
   },
   {
    "duration": 76,
    "start_time": "2024-12-22T16:53:45.120Z"
   },
   {
    "duration": 13,
    "start_time": "2024-12-22T16:54:20.735Z"
   },
   {
    "duration": 77,
    "start_time": "2024-12-22T16:54:21.823Z"
   },
   {
    "duration": 17,
    "start_time": "2024-12-22T16:54:58.183Z"
   },
   {
    "duration": 2540,
    "start_time": "2024-12-22T18:27:10.459Z"
   },
   {
    "duration": 212,
    "start_time": "2024-12-22T18:27:13.001Z"
   },
   {
    "duration": 29,
    "start_time": "2024-12-22T18:27:13.214Z"
   },
   {
    "duration": 12,
    "start_time": "2024-12-22T18:27:13.245Z"
   },
   {
    "duration": 4,
    "start_time": "2024-12-22T18:27:13.258Z"
   },
   {
    "duration": 4,
    "start_time": "2024-12-22T18:27:13.263Z"
   },
   {
    "duration": 4,
    "start_time": "2024-12-22T18:27:13.269Z"
   },
   {
    "duration": 4,
    "start_time": "2024-12-22T18:27:13.274Z"
   },
   {
    "duration": 26,
    "start_time": "2024-12-22T18:27:13.279Z"
   },
   {
    "duration": 10,
    "start_time": "2024-12-22T18:27:13.309Z"
   },
   {
    "duration": 27,
    "start_time": "2024-12-22T18:27:13.321Z"
   },
   {
    "duration": 8,
    "start_time": "2024-12-22T18:27:13.351Z"
   },
   {
    "duration": 4,
    "start_time": "2024-12-22T18:27:13.361Z"
   },
   {
    "duration": 6,
    "start_time": "2024-12-22T18:27:13.366Z"
   },
   {
    "duration": 7,
    "start_time": "2024-12-22T18:27:13.405Z"
   },
   {
    "duration": 5,
    "start_time": "2024-12-22T18:27:13.413Z"
   },
   {
    "duration": 6,
    "start_time": "2024-12-22T18:27:13.420Z"
   },
   {
    "duration": 5,
    "start_time": "2024-12-22T18:27:13.427Z"
   },
   {
    "duration": 15,
    "start_time": "2024-12-22T18:27:13.434Z"
   },
   {
    "duration": 169,
    "start_time": "2024-12-22T18:27:13.450Z"
   },
   {
    "duration": 130,
    "start_time": "2024-12-22T18:27:13.621Z"
   },
   {
    "duration": 183,
    "start_time": "2024-12-22T18:27:13.753Z"
   },
   {
    "duration": 4,
    "start_time": "2024-12-22T18:27:13.938Z"
   },
   {
    "duration": 6,
    "start_time": "2024-12-22T18:27:13.944Z"
   },
   {
    "duration": 4,
    "start_time": "2024-12-22T18:27:13.951Z"
   },
   {
    "duration": 8,
    "start_time": "2024-12-22T18:27:13.956Z"
   },
   {
    "duration": 5,
    "start_time": "2024-12-22T18:27:13.965Z"
   },
   {
    "duration": 3,
    "start_time": "2024-12-22T18:27:14.006Z"
   },
   {
    "duration": 4,
    "start_time": "2024-12-22T18:27:14.011Z"
   },
   {
    "duration": 4,
    "start_time": "2024-12-22T18:27:14.017Z"
   },
   {
    "duration": 5,
    "start_time": "2024-12-22T18:27:14.023Z"
   },
   {
    "duration": 4,
    "start_time": "2024-12-22T18:27:14.029Z"
   },
   {
    "duration": 4,
    "start_time": "2024-12-22T18:27:14.034Z"
   },
   {
    "duration": 72,
    "start_time": "2024-12-22T18:27:14.040Z"
   },
   {
    "duration": 7353,
    "start_time": "2024-12-22T18:27:14.115Z"
   },
   {
    "duration": 103,
    "start_time": "2024-12-22T18:27:21.470Z"
   },
   {
    "duration": 7,
    "start_time": "2024-12-22T18:27:21.575Z"
   },
   {
    "duration": 7882,
    "start_time": "2024-12-22T18:27:21.584Z"
   },
   {
    "duration": 13,
    "start_time": "2024-12-22T18:27:29.468Z"
   },
   {
    "duration": 92,
    "start_time": "2024-12-22T18:27:29.483Z"
   },
   {
    "duration": 10595,
    "start_time": "2024-12-22T18:27:29.576Z"
   },
   {
    "duration": 17,
    "start_time": "2024-12-22T18:27:40.173Z"
   },
   {
    "duration": 784,
    "start_time": "2024-12-22T18:35:47.000Z"
   },
   {
    "duration": 195,
    "start_time": "2024-12-22T18:35:47.786Z"
   },
   {
    "duration": 16,
    "start_time": "2024-12-22T18:35:47.983Z"
   },
   {
    "duration": 12,
    "start_time": "2024-12-22T18:35:48.004Z"
   },
   {
    "duration": 4,
    "start_time": "2024-12-22T18:35:48.018Z"
   },
   {
    "duration": 4,
    "start_time": "2024-12-22T18:35:48.023Z"
   },
   {
    "duration": 4,
    "start_time": "2024-12-22T18:35:48.028Z"
   },
   {
    "duration": 4,
    "start_time": "2024-12-22T18:35:48.034Z"
   },
   {
    "duration": 3,
    "start_time": "2024-12-22T18:35:48.040Z"
   },
   {
    "duration": 11,
    "start_time": "2024-12-22T18:35:48.047Z"
   },
   {
    "duration": 72,
    "start_time": "2024-12-22T18:35:48.059Z"
   },
   {
    "duration": 9,
    "start_time": "2024-12-22T18:35:48.132Z"
   },
   {
    "duration": 4,
    "start_time": "2024-12-22T18:35:48.142Z"
   },
   {
    "duration": 6,
    "start_time": "2024-12-22T18:35:48.148Z"
   },
   {
    "duration": 8,
    "start_time": "2024-12-22T18:35:48.155Z"
   },
   {
    "duration": 6,
    "start_time": "2024-12-22T18:35:48.165Z"
   },
   {
    "duration": 5,
    "start_time": "2024-12-22T18:35:48.206Z"
   },
   {
    "duration": 6,
    "start_time": "2024-12-22T18:35:48.213Z"
   },
   {
    "duration": 14,
    "start_time": "2024-12-22T18:35:48.221Z"
   },
   {
    "duration": 159,
    "start_time": "2024-12-22T18:35:48.237Z"
   },
   {
    "duration": 132,
    "start_time": "2024-12-22T18:35:48.398Z"
   },
   {
    "duration": 182,
    "start_time": "2024-12-22T18:35:48.533Z"
   },
   {
    "duration": 5,
    "start_time": "2024-12-22T18:35:48.717Z"
   },
   {
    "duration": 5,
    "start_time": "2024-12-22T18:35:48.723Z"
   },
   {
    "duration": 3,
    "start_time": "2024-12-22T18:35:48.730Z"
   },
   {
    "duration": 7,
    "start_time": "2024-12-22T18:35:48.735Z"
   },
   {
    "duration": 5,
    "start_time": "2024-12-22T18:35:48.743Z"
   },
   {
    "duration": 3,
    "start_time": "2024-12-22T18:35:48.751Z"
   },
   {
    "duration": 3,
    "start_time": "2024-12-22T18:35:48.756Z"
   },
   {
    "duration": 45,
    "start_time": "2024-12-22T18:35:48.761Z"
   },
   {
    "duration": 5,
    "start_time": "2024-12-22T18:35:48.808Z"
   },
   {
    "duration": 5,
    "start_time": "2024-12-22T18:35:48.815Z"
   },
   {
    "duration": 5,
    "start_time": "2024-12-22T18:35:48.822Z"
   },
   {
    "duration": 78,
    "start_time": "2024-12-22T18:35:48.829Z"
   },
   {
    "duration": 7342,
    "start_time": "2024-12-22T18:35:48.909Z"
   },
   {
    "duration": 102,
    "start_time": "2024-12-22T18:35:56.253Z"
   },
   {
    "duration": 4,
    "start_time": "2024-12-22T18:35:56.357Z"
   },
   {
    "duration": 7430,
    "start_time": "2024-12-22T18:35:56.362Z"
   },
   {
    "duration": 16,
    "start_time": "2024-12-22T18:36:03.793Z"
   },
   {
    "duration": 78,
    "start_time": "2024-12-22T18:36:03.810Z"
   },
   {
    "duration": 10132,
    "start_time": "2024-12-22T18:36:03.890Z"
   },
   {
    "duration": 18,
    "start_time": "2024-12-22T18:36:14.024Z"
   },
   {
    "duration": 7419,
    "start_time": "2024-12-22T18:48:44.581Z"
   },
   {
    "duration": 7428,
    "start_time": "2024-12-22T18:49:07.236Z"
   },
   {
    "duration": 5,
    "start_time": "2024-12-22T19:28:40.405Z"
   },
   {
    "duration": 7256,
    "start_time": "2024-12-22T19:28:52.610Z"
   },
   {
    "duration": 6,
    "start_time": "2024-12-22T19:29:32.364Z"
   },
   {
    "duration": 10332,
    "start_time": "2024-12-22T19:29:46.057Z"
   },
   {
    "duration": 827,
    "start_time": "2024-12-22T19:31:36.229Z"
   },
   {
    "duration": 206,
    "start_time": "2024-12-22T19:31:37.058Z"
   },
   {
    "duration": 16,
    "start_time": "2024-12-22T19:31:37.266Z"
   },
   {
    "duration": 21,
    "start_time": "2024-12-22T19:31:37.285Z"
   },
   {
    "duration": 4,
    "start_time": "2024-12-22T19:31:37.307Z"
   },
   {
    "duration": 4,
    "start_time": "2024-12-22T19:31:37.313Z"
   },
   {
    "duration": 4,
    "start_time": "2024-12-22T19:31:37.319Z"
   },
   {
    "duration": 4,
    "start_time": "2024-12-22T19:31:37.324Z"
   },
   {
    "duration": 3,
    "start_time": "2024-12-22T19:31:37.330Z"
   },
   {
    "duration": 10,
    "start_time": "2024-12-22T19:31:37.336Z"
   },
   {
    "duration": 64,
    "start_time": "2024-12-22T19:31:37.347Z"
   },
   {
    "duration": 9,
    "start_time": "2024-12-22T19:31:37.413Z"
   },
   {
    "duration": 5,
    "start_time": "2024-12-22T19:31:37.423Z"
   },
   {
    "duration": 6,
    "start_time": "2024-12-22T19:31:37.430Z"
   },
   {
    "duration": 8,
    "start_time": "2024-12-22T19:31:37.438Z"
   },
   {
    "duration": 5,
    "start_time": "2024-12-22T19:31:37.447Z"
   },
   {
    "duration": 5,
    "start_time": "2024-12-22T19:31:37.453Z"
   },
   {
    "duration": 4,
    "start_time": "2024-12-22T19:31:37.460Z"
   },
   {
    "duration": 15,
    "start_time": "2024-12-22T19:31:37.505Z"
   },
   {
    "duration": 148,
    "start_time": "2024-12-22T19:31:37.522Z"
   },
   {
    "duration": 137,
    "start_time": "2024-12-22T19:31:37.672Z"
   },
   {
    "duration": 184,
    "start_time": "2024-12-22T19:31:37.811Z"
   },
   {
    "duration": 9,
    "start_time": "2024-12-22T19:31:37.997Z"
   },
   {
    "duration": 5,
    "start_time": "2024-12-22T19:31:38.008Z"
   },
   {
    "duration": 3,
    "start_time": "2024-12-22T19:31:38.015Z"
   },
   {
    "duration": 6,
    "start_time": "2024-12-22T19:31:38.020Z"
   },
   {
    "duration": 5,
    "start_time": "2024-12-22T19:31:38.027Z"
   },
   {
    "duration": 4,
    "start_time": "2024-12-22T19:31:38.036Z"
   },
   {
    "duration": 4,
    "start_time": "2024-12-22T19:31:38.041Z"
   },
   {
    "duration": 4,
    "start_time": "2024-12-22T19:31:38.046Z"
   },
   {
    "duration": 5,
    "start_time": "2024-12-22T19:31:38.052Z"
   },
   {
    "duration": 50,
    "start_time": "2024-12-22T19:31:38.058Z"
   },
   {
    "duration": 4,
    "start_time": "2024-12-22T19:31:38.110Z"
   },
   {
    "duration": 30,
    "start_time": "2024-12-22T19:31:38.115Z"
   },
   {
    "duration": 7567,
    "start_time": "2024-12-22T19:31:38.146Z"
   },
   {
    "duration": 105,
    "start_time": "2024-12-22T19:31:45.715Z"
   },
   {
    "duration": 6,
    "start_time": "2024-12-22T19:31:45.823Z"
   },
   {
    "duration": 311,
    "start_time": "2024-12-22T19:31:45.831Z"
   },
   {
    "duration": 0,
    "start_time": "2024-12-22T19:31:46.143Z"
   },
   {
    "duration": 0,
    "start_time": "2024-12-22T19:31:46.145Z"
   },
   {
    "duration": 0,
    "start_time": "2024-12-22T19:31:46.146Z"
   },
   {
    "duration": 0,
    "start_time": "2024-12-22T19:31:46.147Z"
   },
   {
    "duration": 7279,
    "start_time": "2024-12-22T19:32:50.267Z"
   },
   {
    "duration": 7480,
    "start_time": "2024-12-22T19:34:48.763Z"
   },
   {
    "duration": 14,
    "start_time": "2024-12-22T19:36:01.864Z"
   },
   {
    "duration": 85,
    "start_time": "2024-12-22T19:36:03.923Z"
   },
   {
    "duration": 6,
    "start_time": "2024-12-22T19:36:06.823Z"
   },
   {
    "duration": 10129,
    "start_time": "2024-12-22T19:36:16.076Z"
   },
   {
    "duration": 797,
    "start_time": "2024-12-22T19:48:43.482Z"
   },
   {
    "duration": 216,
    "start_time": "2024-12-22T19:48:44.281Z"
   },
   {
    "duration": 16,
    "start_time": "2024-12-22T19:48:44.498Z"
   },
   {
    "duration": 12,
    "start_time": "2024-12-22T19:48:44.517Z"
   },
   {
    "duration": 4,
    "start_time": "2024-12-22T19:48:44.530Z"
   },
   {
    "duration": 4,
    "start_time": "2024-12-22T19:48:44.535Z"
   },
   {
    "duration": 4,
    "start_time": "2024-12-22T19:48:44.540Z"
   },
   {
    "duration": 4,
    "start_time": "2024-12-22T19:48:44.546Z"
   },
   {
    "duration": 3,
    "start_time": "2024-12-22T19:48:44.552Z"
   },
   {
    "duration": 53,
    "start_time": "2024-12-22T19:48:44.559Z"
   },
   {
    "duration": 30,
    "start_time": "2024-12-22T19:48:44.613Z"
   },
   {
    "duration": 8,
    "start_time": "2024-12-22T19:48:44.645Z"
   },
   {
    "duration": 5,
    "start_time": "2024-12-22T19:48:44.654Z"
   },
   {
    "duration": 5,
    "start_time": "2024-12-22T19:48:44.661Z"
   },
   {
    "duration": 39,
    "start_time": "2024-12-22T19:48:44.668Z"
   },
   {
    "duration": 6,
    "start_time": "2024-12-22T19:48:44.708Z"
   },
   {
    "duration": 5,
    "start_time": "2024-12-22T19:48:44.716Z"
   },
   {
    "duration": 5,
    "start_time": "2024-12-22T19:48:44.723Z"
   },
   {
    "duration": 14,
    "start_time": "2024-12-22T19:48:44.730Z"
   },
   {
    "duration": 165,
    "start_time": "2024-12-22T19:48:44.746Z"
   },
   {
    "duration": 133,
    "start_time": "2024-12-22T19:48:44.914Z"
   },
   {
    "duration": 186,
    "start_time": "2024-12-22T19:48:45.049Z"
   },
   {
    "duration": 4,
    "start_time": "2024-12-22T19:48:45.237Z"
   },
   {
    "duration": 4,
    "start_time": "2024-12-22T19:48:45.243Z"
   },
   {
    "duration": 4,
    "start_time": "2024-12-22T19:48:45.248Z"
   },
   {
    "duration": 8,
    "start_time": "2024-12-22T19:48:45.253Z"
   },
   {
    "duration": 5,
    "start_time": "2024-12-22T19:48:45.262Z"
   },
   {
    "duration": 3,
    "start_time": "2024-12-22T19:48:45.271Z"
   },
   {
    "duration": 3,
    "start_time": "2024-12-22T19:48:45.305Z"
   },
   {
    "duration": 5,
    "start_time": "2024-12-22T19:48:45.310Z"
   },
   {
    "duration": 4,
    "start_time": "2024-12-22T19:48:45.317Z"
   },
   {
    "duration": 4,
    "start_time": "2024-12-22T19:48:45.322Z"
   },
   {
    "duration": 4,
    "start_time": "2024-12-22T19:48:45.327Z"
   },
   {
    "duration": 75,
    "start_time": "2024-12-22T19:48:45.333Z"
   },
   {
    "duration": 7324,
    "start_time": "2024-12-22T19:48:45.411Z"
   },
   {
    "duration": 119,
    "start_time": "2024-12-22T19:48:52.737Z"
   },
   {
    "duration": 5,
    "start_time": "2024-12-22T19:48:52.858Z"
   },
   {
    "duration": 7441,
    "start_time": "2024-12-22T19:48:52.864Z"
   },
   {
    "duration": 13,
    "start_time": "2024-12-22T19:49:00.307Z"
   },
   {
    "duration": 98,
    "start_time": "2024-12-22T19:49:00.321Z"
   },
   {
    "duration": 10273,
    "start_time": "2024-12-22T19:49:00.422Z"
   },
   {
    "duration": 22,
    "start_time": "2024-12-22T19:49:10.697Z"
   },
   {
    "duration": 816,
    "start_time": "2024-12-22T19:51:08.058Z"
   },
   {
    "duration": 200,
    "start_time": "2024-12-22T19:51:08.876Z"
   },
   {
    "duration": 15,
    "start_time": "2024-12-22T19:51:09.077Z"
   },
   {
    "duration": 18,
    "start_time": "2024-12-22T19:51:09.096Z"
   },
   {
    "duration": 4,
    "start_time": "2024-12-22T19:51:09.115Z"
   },
   {
    "duration": 4,
    "start_time": "2024-12-22T19:51:09.121Z"
   },
   {
    "duration": 4,
    "start_time": "2024-12-22T19:51:09.126Z"
   },
   {
    "duration": 4,
    "start_time": "2024-12-22T19:51:09.131Z"
   },
   {
    "duration": 4,
    "start_time": "2024-12-22T19:51:09.136Z"
   },
   {
    "duration": 9,
    "start_time": "2024-12-22T19:51:09.144Z"
   },
   {
    "duration": 65,
    "start_time": "2024-12-22T19:51:09.154Z"
   },
   {
    "duration": 8,
    "start_time": "2024-12-22T19:51:09.221Z"
   },
   {
    "duration": 5,
    "start_time": "2024-12-22T19:51:09.230Z"
   },
   {
    "duration": 6,
    "start_time": "2024-12-22T19:51:09.236Z"
   },
   {
    "duration": 7,
    "start_time": "2024-12-22T19:51:09.243Z"
   },
   {
    "duration": 5,
    "start_time": "2024-12-22T19:51:09.252Z"
   },
   {
    "duration": 5,
    "start_time": "2024-12-22T19:51:09.259Z"
   },
   {
    "duration": 42,
    "start_time": "2024-12-22T19:51:09.265Z"
   },
   {
    "duration": 15,
    "start_time": "2024-12-22T19:51:09.310Z"
   },
   {
    "duration": 151,
    "start_time": "2024-12-22T19:51:09.326Z"
   },
   {
    "duration": 128,
    "start_time": "2024-12-22T19:51:09.479Z"
   },
   {
    "duration": 188,
    "start_time": "2024-12-22T19:51:09.610Z"
   },
   {
    "duration": 10,
    "start_time": "2024-12-22T19:51:09.799Z"
   },
   {
    "duration": 4,
    "start_time": "2024-12-22T19:51:09.810Z"
   },
   {
    "duration": 4,
    "start_time": "2024-12-22T19:51:09.816Z"
   },
   {
    "duration": 7,
    "start_time": "2024-12-22T19:51:09.822Z"
   },
   {
    "duration": 4,
    "start_time": "2024-12-22T19:51:09.830Z"
   },
   {
    "duration": 3,
    "start_time": "2024-12-22T19:51:09.838Z"
   },
   {
    "duration": 3,
    "start_time": "2024-12-22T19:51:09.843Z"
   },
   {
    "duration": 4,
    "start_time": "2024-12-22T19:51:09.848Z"
   },
   {
    "duration": 4,
    "start_time": "2024-12-22T19:51:09.855Z"
   },
   {
    "duration": 48,
    "start_time": "2024-12-22T19:51:09.860Z"
   },
   {
    "duration": 4,
    "start_time": "2024-12-22T19:51:09.910Z"
   },
   {
    "duration": 31,
    "start_time": "2024-12-22T19:51:09.915Z"
   },
   {
    "duration": 7351,
    "start_time": "2024-12-22T19:51:09.947Z"
   },
   {
    "duration": 101,
    "start_time": "2024-12-22T19:51:17.304Z"
   },
   {
    "duration": 6,
    "start_time": "2024-12-22T19:51:17.407Z"
   },
   {
    "duration": 7397,
    "start_time": "2024-12-22T19:51:17.414Z"
   },
   {
    "duration": 12,
    "start_time": "2024-12-22T19:51:24.813Z"
   },
   {
    "duration": 94,
    "start_time": "2024-12-22T19:51:24.827Z"
   },
   {
    "duration": 10120,
    "start_time": "2024-12-22T19:51:24.923Z"
   },
   {
    "duration": 16,
    "start_time": "2024-12-22T19:51:35.045Z"
   },
   {
    "duration": 19,
    "start_time": "2024-12-23T03:30:13.291Z"
   },
   {
    "duration": 8308,
    "start_time": "2024-12-23T03:53:48.592Z"
   },
   {
    "duration": 8533,
    "start_time": "2024-12-23T03:54:20.916Z"
   },
   {
    "duration": 30,
    "start_time": "2024-12-23T03:54:56.334Z"
   },
   {
    "duration": 11315,
    "start_time": "2024-12-23T03:55:12.413Z"
   },
   {
    "duration": 28,
    "start_time": "2024-12-23T03:56:28.378Z"
   },
   {
    "duration": 25,
    "start_time": "2024-12-23T03:57:08.388Z"
   },
   {
    "duration": 873,
    "start_time": "2024-12-23T03:57:32.080Z"
   },
   {
    "duration": 224,
    "start_time": "2024-12-23T03:57:32.955Z"
   },
   {
    "duration": 21,
    "start_time": "2024-12-23T03:57:33.181Z"
   },
   {
    "duration": 16,
    "start_time": "2024-12-23T03:57:33.204Z"
   },
   {
    "duration": 4,
    "start_time": "2024-12-23T03:57:33.222Z"
   },
   {
    "duration": 5,
    "start_time": "2024-12-23T03:57:33.228Z"
   },
   {
    "duration": 5,
    "start_time": "2024-12-23T03:57:33.235Z"
   },
   {
    "duration": 32,
    "start_time": "2024-12-23T03:57:33.241Z"
   },
   {
    "duration": 4,
    "start_time": "2024-12-23T03:57:33.275Z"
   },
   {
    "duration": 12,
    "start_time": "2024-12-23T03:57:33.283Z"
   },
   {
    "duration": 31,
    "start_time": "2024-12-23T03:57:33.298Z"
   },
   {
    "duration": 40,
    "start_time": "2024-12-23T03:57:33.330Z"
   },
   {
    "duration": 7,
    "start_time": "2024-12-23T03:57:33.372Z"
   },
   {
    "duration": 9,
    "start_time": "2024-12-23T03:57:33.380Z"
   },
   {
    "duration": 8,
    "start_time": "2024-12-23T03:57:33.391Z"
   },
   {
    "duration": 5,
    "start_time": "2024-12-23T03:57:33.401Z"
   },
   {
    "duration": 6,
    "start_time": "2024-12-23T03:57:33.408Z"
   },
   {
    "duration": 6,
    "start_time": "2024-12-23T03:57:33.415Z"
   },
   {
    "duration": 58,
    "start_time": "2024-12-23T03:57:33.422Z"
   },
   {
    "duration": 173,
    "start_time": "2024-12-23T03:57:33.482Z"
   },
   {
    "duration": 140,
    "start_time": "2024-12-23T03:57:33.658Z"
   },
   {
    "duration": 205,
    "start_time": "2024-12-23T03:57:33.802Z"
   },
   {
    "duration": 5,
    "start_time": "2024-12-23T03:57:34.009Z"
   },
   {
    "duration": 4,
    "start_time": "2024-12-23T03:57:34.016Z"
   },
   {
    "duration": 4,
    "start_time": "2024-12-23T03:57:34.022Z"
   },
   {
    "duration": 8,
    "start_time": "2024-12-23T03:57:34.027Z"
   },
   {
    "duration": 38,
    "start_time": "2024-12-23T03:57:34.036Z"
   },
   {
    "duration": 4,
    "start_time": "2024-12-23T03:57:34.079Z"
   },
   {
    "duration": 5,
    "start_time": "2024-12-23T03:57:34.085Z"
   },
   {
    "duration": 6,
    "start_time": "2024-12-23T03:57:34.091Z"
   },
   {
    "duration": 4,
    "start_time": "2024-12-23T03:57:34.099Z"
   },
   {
    "duration": 4,
    "start_time": "2024-12-23T03:57:34.105Z"
   },
   {
    "duration": 5,
    "start_time": "2024-12-23T03:57:34.111Z"
   },
   {
    "duration": 77,
    "start_time": "2024-12-23T03:57:34.118Z"
   },
   {
    "duration": 8352,
    "start_time": "2024-12-23T03:57:34.199Z"
   },
   {
    "duration": 116,
    "start_time": "2024-12-23T03:57:42.554Z"
   },
   {
    "duration": 6,
    "start_time": "2024-12-23T03:57:42.673Z"
   },
   {
    "duration": 8424,
    "start_time": "2024-12-23T03:57:42.681Z"
   },
   {
    "duration": 27,
    "start_time": "2024-12-23T03:57:51.107Z"
   },
   {
    "duration": 34,
    "start_time": "2024-12-23T03:57:51.136Z"
   },
   {
    "duration": 108,
    "start_time": "2024-12-23T03:57:51.172Z"
   },
   {
    "duration": 11904,
    "start_time": "2024-12-23T03:57:51.282Z"
   },
   {
    "duration": 27,
    "start_time": "2024-12-23T03:58:03.189Z"
   },
   {
    "duration": 846,
    "start_time": "2024-12-23T04:04:54.518Z"
   },
   {
    "duration": 222,
    "start_time": "2024-12-23T04:04:55.366Z"
   },
   {
    "duration": 19,
    "start_time": "2024-12-23T04:04:55.590Z"
   },
   {
    "duration": 15,
    "start_time": "2024-12-23T04:04:55.611Z"
   },
   {
    "duration": 5,
    "start_time": "2024-12-23T04:04:55.628Z"
   },
   {
    "duration": 8,
    "start_time": "2024-12-23T04:04:55.636Z"
   },
   {
    "duration": 7,
    "start_time": "2024-12-23T04:04:55.650Z"
   },
   {
    "duration": 4,
    "start_time": "2024-12-23T04:04:55.671Z"
   },
   {
    "duration": 3,
    "start_time": "2024-12-23T04:04:55.677Z"
   },
   {
    "duration": 12,
    "start_time": "2024-12-23T04:04:55.682Z"
   },
   {
    "duration": 30,
    "start_time": "2024-12-23T04:04:55.696Z"
   },
   {
    "duration": 12,
    "start_time": "2024-12-23T04:04:55.728Z"
   },
   {
    "duration": 6,
    "start_time": "2024-12-23T04:04:55.771Z"
   },
   {
    "duration": 8,
    "start_time": "2024-12-23T04:04:55.781Z"
   },
   {
    "duration": 7,
    "start_time": "2024-12-23T04:04:55.791Z"
   },
   {
    "duration": 5,
    "start_time": "2024-12-23T04:04:55.800Z"
   },
   {
    "duration": 5,
    "start_time": "2024-12-23T04:04:55.807Z"
   },
   {
    "duration": 6,
    "start_time": "2024-12-23T04:04:55.814Z"
   },
   {
    "duration": 60,
    "start_time": "2024-12-23T04:04:55.821Z"
   },
   {
    "duration": 162,
    "start_time": "2024-12-23T04:04:55.884Z"
   },
   {
    "duration": 144,
    "start_time": "2024-12-23T04:04:56.048Z"
   },
   {
    "duration": 211,
    "start_time": "2024-12-23T04:04:56.195Z"
   },
   {
    "duration": 5,
    "start_time": "2024-12-23T04:04:56.408Z"
   },
   {
    "duration": 7,
    "start_time": "2024-12-23T04:04:56.415Z"
   },
   {
    "duration": 4,
    "start_time": "2024-12-23T04:04:56.424Z"
   },
   {
    "duration": 9,
    "start_time": "2024-12-23T04:04:56.430Z"
   },
   {
    "duration": 30,
    "start_time": "2024-12-23T04:04:56.440Z"
   },
   {
    "duration": 5,
    "start_time": "2024-12-23T04:04:56.472Z"
   },
   {
    "duration": 4,
    "start_time": "2024-12-23T04:04:56.479Z"
   },
   {
    "duration": 4,
    "start_time": "2024-12-23T04:04:56.485Z"
   },
   {
    "duration": 4,
    "start_time": "2024-12-23T04:04:56.491Z"
   },
   {
    "duration": 5,
    "start_time": "2024-12-23T04:04:56.497Z"
   },
   {
    "duration": 5,
    "start_time": "2024-12-23T04:04:56.503Z"
   },
   {
    "duration": 86,
    "start_time": "2024-12-23T04:04:56.510Z"
   },
   {
    "duration": 8369,
    "start_time": "2024-12-23T04:04:56.602Z"
   },
   {
    "duration": 110,
    "start_time": "2024-12-23T04:05:04.973Z"
   },
   {
    "duration": 7,
    "start_time": "2024-12-23T04:05:05.085Z"
   },
   {
    "duration": 14,
    "start_time": "2024-12-23T04:05:05.095Z"
   },
   {
    "duration": 114,
    "start_time": "2024-12-23T04:05:05.110Z"
   },
   {
    "duration": 11392,
    "start_time": "2024-12-23T04:05:05.226Z"
   },
   {
    "duration": 8532,
    "start_time": "2024-12-23T04:05:16.624Z"
   },
   {
    "duration": 35,
    "start_time": "2024-12-23T04:05:25.158Z"
   },
   {
    "duration": 6,
    "start_time": "2024-12-23T04:07:29.488Z"
   },
   {
    "duration": 26,
    "start_time": "2024-12-23T04:07:39.536Z"
   },
   {
    "duration": 859,
    "start_time": "2024-12-23T04:22:36.053Z"
   },
   {
    "duration": 269,
    "start_time": "2024-12-23T04:22:36.915Z"
   },
   {
    "duration": 22,
    "start_time": "2024-12-23T04:22:37.191Z"
   },
   {
    "duration": 13,
    "start_time": "2024-12-23T04:22:37.215Z"
   },
   {
    "duration": 4,
    "start_time": "2024-12-23T04:22:37.231Z"
   },
   {
    "duration": 5,
    "start_time": "2024-12-23T04:22:37.236Z"
   },
   {
    "duration": 4,
    "start_time": "2024-12-23T04:22:37.243Z"
   },
   {
    "duration": 5,
    "start_time": "2024-12-23T04:22:37.272Z"
   },
   {
    "duration": 5,
    "start_time": "2024-12-23T04:22:37.278Z"
   },
   {
    "duration": 13,
    "start_time": "2024-12-23T04:22:37.287Z"
   },
   {
    "duration": 34,
    "start_time": "2024-12-23T04:22:37.302Z"
   },
   {
    "duration": 39,
    "start_time": "2024-12-23T04:22:37.339Z"
   },
   {
    "duration": 6,
    "start_time": "2024-12-23T04:22:37.381Z"
   },
   {
    "duration": 8,
    "start_time": "2024-12-23T04:22:37.389Z"
   },
   {
    "duration": 8,
    "start_time": "2024-12-23T04:22:37.399Z"
   },
   {
    "duration": 5,
    "start_time": "2024-12-23T04:22:37.409Z"
   },
   {
    "duration": 6,
    "start_time": "2024-12-23T04:22:37.416Z"
   },
   {
    "duration": 8,
    "start_time": "2024-12-23T04:22:37.423Z"
   },
   {
    "duration": 18,
    "start_time": "2024-12-23T04:22:37.469Z"
   },
   {
    "duration": 156,
    "start_time": "2024-12-23T04:22:37.489Z"
   },
   {
    "duration": 151,
    "start_time": "2024-12-23T04:22:37.648Z"
   },
   {
    "duration": 209,
    "start_time": "2024-12-23T04:22:37.800Z"
   },
   {
    "duration": 5,
    "start_time": "2024-12-23T04:22:38.011Z"
   },
   {
    "duration": 4,
    "start_time": "2024-12-23T04:22:38.018Z"
   },
   {
    "duration": 3,
    "start_time": "2024-12-23T04:22:38.024Z"
   },
   {
    "duration": 8,
    "start_time": "2024-12-23T04:22:38.029Z"
   },
   {
    "duration": 33,
    "start_time": "2024-12-23T04:22:38.039Z"
   },
   {
    "duration": 5,
    "start_time": "2024-12-23T04:22:38.078Z"
   },
   {
    "duration": 5,
    "start_time": "2024-12-23T04:22:38.085Z"
   },
   {
    "duration": 4,
    "start_time": "2024-12-23T04:22:38.092Z"
   },
   {
    "duration": 5,
    "start_time": "2024-12-23T04:22:38.098Z"
   },
   {
    "duration": 5,
    "start_time": "2024-12-23T04:22:38.105Z"
   },
   {
    "duration": 4,
    "start_time": "2024-12-23T04:22:38.112Z"
   },
   {
    "duration": 76,
    "start_time": "2024-12-23T04:22:38.118Z"
   },
   {
    "duration": 8311,
    "start_time": "2024-12-23T04:22:38.196Z"
   },
   {
    "duration": 120,
    "start_time": "2024-12-23T04:22:46.509Z"
   },
   {
    "duration": 6,
    "start_time": "2024-12-23T04:22:46.631Z"
   },
   {
    "duration": 14,
    "start_time": "2024-12-23T04:22:46.639Z"
   },
   {
    "duration": 120,
    "start_time": "2024-12-23T04:22:46.655Z"
   },
   {
    "duration": 11429,
    "start_time": "2024-12-23T04:22:46.777Z"
   },
   {
    "duration": 8492,
    "start_time": "2024-12-23T04:22:58.208Z"
   },
   {
    "duration": 27,
    "start_time": "2024-12-23T04:23:06.703Z"
   }
  ],
  "kernelspec": {
   "display_name": "base",
   "language": "python",
   "name": "python3"
  },
  "language_info": {
   "codemirror_mode": {
    "name": "ipython",
    "version": 3
   },
   "file_extension": ".py",
   "mimetype": "text/x-python",
   "name": "python",
   "nbconvert_exporter": "python",
   "pygments_lexer": "ipython3",
   "version": "3.12.4"
  },
  "toc": {
   "base_numbering": 1,
   "nav_menu": {},
   "number_sections": true,
   "sideBar": true,
   "skip_h1_title": true,
   "title_cell": "Table of Contents",
   "title_sidebar": "Contents",
   "toc_cell": false,
   "toc_position": {
    "height": "calc(100% - 180px)",
    "left": "10px",
    "top": "150px",
    "width": "253.4px"
   },
   "toc_section_display": true,
   "toc_window_display": true
  }
 },
 "nbformat": 4,
 "nbformat_minor": 2
}
